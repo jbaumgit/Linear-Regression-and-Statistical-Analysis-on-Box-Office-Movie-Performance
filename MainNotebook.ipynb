{
 "cells": [
  {
   "cell_type": "markdown",
   "metadata": {},
   "source": [
    "## Business Understanding"
   ]
  },
  {
   "cell_type": "markdown",
   "metadata": {},
   "source": [
    "Season/Genre: Which time of year do different genres do well?\n",
    "\n",
    "Currency: Budget and Gross(Domestic); Adjusted for Inflation?\n",
    "ROI: Gross(Domestic)/Budget; \n",
    "Budget Mean:  4.187333e+07\n",
    "Budget Median: \n",
    "Filtering Conditions: \n",
    "    Medium Budget(To be researched)\n",
    "    Last 20 years\n",
    "    "
   ]
  },
  {
   "cell_type": "markdown",
   "metadata": {},
   "source": [
    "### Data Understanding"
   ]
  },
  {
   "cell_type": "markdown",
   "metadata": {},
   "source": []
  },
  {
   "cell_type": "markdown",
   "metadata": {},
   "source": [
    "## Data Exploration"
   ]
  },
  {
   "cell_type": "code",
<<<<<<< HEAD
   "execution_count": 2,
=======
   "execution_count": 126,
>>>>>>> origin/main
   "metadata": {},
   "outputs": [],
   "source": [
    "#imports\n",
    "import numpy as np\n",
    "import pandas as pd \n",
    "import sqlite3\n",
    "from scipy import stats\n",
    "import matplotlib.pyplot as plt\n",
    "import seaborn as sns\n",
    "import warnings\n",
    "warnings.filterwarnings('ignore')"
   ]
  },
  {
   "cell_type": "markdown",
   "metadata": {},
   "source": [
    "### Rotten Tomatoes (Marlo)"
   ]
  },
  {
   "cell_type": "code",
<<<<<<< HEAD
   "execution_count": 3,
=======
   "execution_count": 127,
>>>>>>> origin/main
   "metadata": {},
   "outputs": [],
   "source": [
    "rt_info = pd.read_csv('Data/rt.movie_info.tsv.gz', sep='\\t', encoding='latin')"
   ]
  },
  {
   "cell_type": "code",
<<<<<<< HEAD
   "execution_count": 4,
=======
   "execution_count": 128,
>>>>>>> origin/main
   "metadata": {},
   "outputs": [],
   "source": [
    "rt_review = pd.read_csv('Data/rt.reviews.tsv.gz', sep='\\t', encoding='latin')"
   ]
  },
  {
   "cell_type": "code",
<<<<<<< HEAD
   "execution_count": 5,
=======
   "execution_count": 129,
>>>>>>> origin/main
   "metadata": {},
   "outputs": [
    {
     "data": {
      "text/html": [
       "<div>\n",
       "<style scoped>\n",
       "    .dataframe tbody tr th:only-of-type {\n",
       "        vertical-align: middle;\n",
       "    }\n",
       "\n",
       "    .dataframe tbody tr th {\n",
       "        vertical-align: top;\n",
       "    }\n",
       "\n",
       "    .dataframe thead th {\n",
       "        text-align: right;\n",
       "    }\n",
       "</style>\n",
       "<table border=\"1\" class=\"dataframe\">\n",
       "  <thead>\n",
       "    <tr style=\"text-align: right;\">\n",
       "      <th></th>\n",
       "      <th>id</th>\n",
       "      <th>synopsis</th>\n",
       "      <th>rating</th>\n",
       "      <th>genre</th>\n",
       "      <th>director</th>\n",
       "      <th>writer</th>\n",
       "      <th>theater_date</th>\n",
       "      <th>dvd_date</th>\n",
       "      <th>currency</th>\n",
       "      <th>box_office</th>\n",
       "      <th>runtime</th>\n",
       "      <th>studio</th>\n",
       "    </tr>\n",
       "  </thead>\n",
       "  <tbody>\n",
       "    <tr>\n",
       "      <th>0</th>\n",
       "      <td>1</td>\n",
       "      <td>This gritty, fast-paced, and innovative police...</td>\n",
       "      <td>R</td>\n",
       "      <td>Action and Adventure|Classics|Drama</td>\n",
       "      <td>William Friedkin</td>\n",
       "      <td>Ernest Tidyman</td>\n",
       "      <td>Oct 9, 1971</td>\n",
       "      <td>Sep 25, 2001</td>\n",
       "      <td>NaN</td>\n",
       "      <td>NaN</td>\n",
       "      <td>104 minutes</td>\n",
       "      <td>NaN</td>\n",
       "    </tr>\n",
       "    <tr>\n",
       "      <th>1</th>\n",
       "      <td>3</td>\n",
       "      <td>New York City, not-too-distant-future: Eric Pa...</td>\n",
       "      <td>R</td>\n",
       "      <td>Drama|Science Fiction and Fantasy</td>\n",
       "      <td>David Cronenberg</td>\n",
       "      <td>David Cronenberg|Don DeLillo</td>\n",
       "      <td>Aug 17, 2012</td>\n",
       "      <td>Jan 1, 2013</td>\n",
       "      <td>$</td>\n",
       "      <td>600,000</td>\n",
       "      <td>108 minutes</td>\n",
       "      <td>Entertainment One</td>\n",
       "    </tr>\n",
       "    <tr>\n",
       "      <th>2</th>\n",
       "      <td>5</td>\n",
       "      <td>Illeana Douglas delivers a superb performance ...</td>\n",
       "      <td>R</td>\n",
       "      <td>Drama|Musical and Performing Arts</td>\n",
       "      <td>Allison Anders</td>\n",
       "      <td>Allison Anders</td>\n",
       "      <td>Sep 13, 1996</td>\n",
       "      <td>Apr 18, 2000</td>\n",
       "      <td>NaN</td>\n",
       "      <td>NaN</td>\n",
       "      <td>116 minutes</td>\n",
       "      <td>NaN</td>\n",
       "    </tr>\n",
       "    <tr>\n",
       "      <th>3</th>\n",
       "      <td>6</td>\n",
       "      <td>Michael Douglas runs afoul of a treacherous su...</td>\n",
       "      <td>R</td>\n",
       "      <td>Drama|Mystery and Suspense</td>\n",
       "      <td>Barry Levinson</td>\n",
       "      <td>Paul Attanasio|Michael Crichton</td>\n",
       "      <td>Dec 9, 1994</td>\n",
       "      <td>Aug 27, 1997</td>\n",
       "      <td>NaN</td>\n",
       "      <td>NaN</td>\n",
       "      <td>128 minutes</td>\n",
       "      <td>NaN</td>\n",
       "    </tr>\n",
       "    <tr>\n",
       "      <th>4</th>\n",
       "      <td>7</td>\n",
       "      <td>NaN</td>\n",
       "      <td>NR</td>\n",
       "      <td>Drama|Romance</td>\n",
       "      <td>Rodney Bennett</td>\n",
       "      <td>Giles Cooper</td>\n",
       "      <td>NaN</td>\n",
       "      <td>NaN</td>\n",
       "      <td>NaN</td>\n",
       "      <td>NaN</td>\n",
       "      <td>200 minutes</td>\n",
       "      <td>NaN</td>\n",
       "    </tr>\n",
       "  </tbody>\n",
       "</table>\n",
       "</div>"
      ],
      "text/plain": [
       "   id                                           synopsis rating  \\\n",
       "0   1  This gritty, fast-paced, and innovative police...      R   \n",
       "1   3  New York City, not-too-distant-future: Eric Pa...      R   \n",
       "2   5  Illeana Douglas delivers a superb performance ...      R   \n",
       "3   6  Michael Douglas runs afoul of a treacherous su...      R   \n",
       "4   7                                                NaN     NR   \n",
       "\n",
       "                                 genre          director  \\\n",
       "0  Action and Adventure|Classics|Drama  William Friedkin   \n",
       "1    Drama|Science Fiction and Fantasy  David Cronenberg   \n",
       "2    Drama|Musical and Performing Arts    Allison Anders   \n",
       "3           Drama|Mystery and Suspense    Barry Levinson   \n",
       "4                        Drama|Romance    Rodney Bennett   \n",
       "\n",
       "                            writer  theater_date      dvd_date currency  \\\n",
       "0                   Ernest Tidyman   Oct 9, 1971  Sep 25, 2001      NaN   \n",
       "1     David Cronenberg|Don DeLillo  Aug 17, 2012   Jan 1, 2013        $   \n",
       "2                   Allison Anders  Sep 13, 1996  Apr 18, 2000      NaN   \n",
       "3  Paul Attanasio|Michael Crichton   Dec 9, 1994  Aug 27, 1997      NaN   \n",
       "4                     Giles Cooper           NaN           NaN      NaN   \n",
       "\n",
       "  box_office      runtime             studio  \n",
       "0        NaN  104 minutes                NaN  \n",
       "1    600,000  108 minutes  Entertainment One  \n",
       "2        NaN  116 minutes                NaN  \n",
       "3        NaN  128 minutes                NaN  \n",
       "4        NaN  200 minutes                NaN  "
      ]
     },
<<<<<<< HEAD
     "execution_count": 5,
=======
     "execution_count": 129,
>>>>>>> origin/main
     "metadata": {},
     "output_type": "execute_result"
    }
   ],
   "source": [
    "rt_info.head()"
   ]
  },
  {
   "cell_type": "code",
<<<<<<< HEAD
   "execution_count": 6,
=======
   "execution_count": 130,
>>>>>>> origin/main
   "metadata": {},
   "outputs": [
    {
     "name": "stdout",
     "output_type": "stream",
     "text": [
      "<class 'pandas.core.frame.DataFrame'>\n",
      "RangeIndex: 1560 entries, 0 to 1559\n",
      "Data columns (total 12 columns):\n",
      " #   Column        Non-Null Count  Dtype \n",
      "---  ------        --------------  ----- \n",
      " 0   id            1560 non-null   int64 \n",
      " 1   synopsis      1498 non-null   object\n",
      " 2   rating        1557 non-null   object\n",
      " 3   genre         1552 non-null   object\n",
      " 4   director      1361 non-null   object\n",
      " 5   writer        1111 non-null   object\n",
      " 6   theater_date  1201 non-null   object\n",
      " 7   dvd_date      1201 non-null   object\n",
      " 8   currency      340 non-null    object\n",
      " 9   box_office    340 non-null    object\n",
      " 10  runtime       1530 non-null   object\n",
      " 11  studio        494 non-null    object\n",
      "dtypes: int64(1), object(11)\n",
      "memory usage: 146.4+ KB\n"
     ]
    }
   ],
   "source": [
    "rt_info.info()"
   ]
  },
  {
   "cell_type": "code",
<<<<<<< HEAD
   "execution_count": 7,
=======
   "execution_count": 131,
>>>>>>> origin/main
   "metadata": {},
   "outputs": [
    {
     "data": {
      "text/plain": [
       "<bound method IndexOpsMixin.value_counts of 0       104 minutes\n",
       "1       108 minutes\n",
       "2       116 minutes\n",
       "3       128 minutes\n",
       "4       200 minutes\n",
       "           ...     \n",
       "1555    106 minutes\n",
       "1556     88 minutes\n",
       "1557    111 minutes\n",
       "1558    101 minutes\n",
       "1559     94 minutes\n",
       "Name: runtime, Length: 1560, dtype: object>"
      ]
     },
<<<<<<< HEAD
     "execution_count": 7,
=======
     "execution_count": 131,
>>>>>>> origin/main
     "metadata": {},
     "output_type": "execute_result"
    }
   ],
   "source": [
    "rt_info['runtime'].value_counts"
   ]
  },
  {
   "cell_type": "code",
<<<<<<< HEAD
   "execution_count": 8,
=======
   "execution_count": 132,
>>>>>>> origin/main
   "metadata": {},
   "outputs": [
    {
     "data": {
      "text/plain": [
       "359"
      ]
     },
<<<<<<< HEAD
     "execution_count": 8,
=======
     "execution_count": 132,
>>>>>>> origin/main
     "metadata": {},
     "output_type": "execute_result"
    }
   ],
   "source": [
    "sum(rt_info['theater_date'].isna())"
   ]
  },
  {
   "cell_type": "code",
<<<<<<< HEAD
   "execution_count": 9,
=======
   "execution_count": 133,
>>>>>>> origin/main
   "metadata": {},
   "outputs": [
    {
     "data": {
      "text/html": [
       "<div>\n",
       "<style scoped>\n",
       "    .dataframe tbody tr th:only-of-type {\n",
       "        vertical-align: middle;\n",
       "    }\n",
       "\n",
       "    .dataframe tbody tr th {\n",
       "        vertical-align: top;\n",
       "    }\n",
       "\n",
       "    .dataframe thead th {\n",
       "        text-align: right;\n",
       "    }\n",
       "</style>\n",
       "<table border=\"1\" class=\"dataframe\">\n",
       "  <thead>\n",
       "    <tr style=\"text-align: right;\">\n",
       "      <th></th>\n",
       "      <th>id</th>\n",
       "      <th>review</th>\n",
       "      <th>rating</th>\n",
       "      <th>fresh</th>\n",
       "      <th>critic</th>\n",
       "      <th>top_critic</th>\n",
       "      <th>publisher</th>\n",
       "      <th>date</th>\n",
       "    </tr>\n",
       "  </thead>\n",
       "  <tbody>\n",
       "    <tr>\n",
       "      <th>0</th>\n",
       "      <td>3</td>\n",
       "      <td>A distinctly gallows take on contemporary fina...</td>\n",
       "      <td>3/5</td>\n",
       "      <td>fresh</td>\n",
       "      <td>PJ Nabarro</td>\n",
       "      <td>0</td>\n",
       "      <td>Patrick Nabarro</td>\n",
       "      <td>November 10, 2018</td>\n",
       "    </tr>\n",
       "    <tr>\n",
       "      <th>1</th>\n",
       "      <td>3</td>\n",
       "      <td>It's an allegory in search of a meaning that n...</td>\n",
       "      <td>NaN</td>\n",
       "      <td>rotten</td>\n",
       "      <td>Annalee Newitz</td>\n",
       "      <td>0</td>\n",
       "      <td>io9.com</td>\n",
       "      <td>May 23, 2018</td>\n",
       "    </tr>\n",
       "    <tr>\n",
       "      <th>2</th>\n",
       "      <td>3</td>\n",
       "      <td>... life lived in a bubble in financial dealin...</td>\n",
       "      <td>NaN</td>\n",
       "      <td>fresh</td>\n",
       "      <td>Sean Axmaker</td>\n",
       "      <td>0</td>\n",
       "      <td>Stream on Demand</td>\n",
       "      <td>January 4, 2018</td>\n",
       "    </tr>\n",
       "    <tr>\n",
       "      <th>3</th>\n",
       "      <td>3</td>\n",
       "      <td>Continuing along a line introduced in last yea...</td>\n",
       "      <td>NaN</td>\n",
       "      <td>fresh</td>\n",
       "      <td>Daniel Kasman</td>\n",
       "      <td>0</td>\n",
       "      <td>MUBI</td>\n",
       "      <td>November 16, 2017</td>\n",
       "    </tr>\n",
       "    <tr>\n",
       "      <th>4</th>\n",
       "      <td>3</td>\n",
       "      <td>... a perverse twist on neorealism...</td>\n",
       "      <td>NaN</td>\n",
       "      <td>fresh</td>\n",
       "      <td>NaN</td>\n",
       "      <td>0</td>\n",
       "      <td>Cinema Scope</td>\n",
       "      <td>October 12, 2017</td>\n",
       "    </tr>\n",
       "    <tr>\n",
       "      <th>5</th>\n",
       "      <td>3</td>\n",
       "      <td>... Cronenberg's Cosmopolis expresses somethin...</td>\n",
       "      <td>NaN</td>\n",
       "      <td>fresh</td>\n",
       "      <td>Michelle Orange</td>\n",
       "      <td>0</td>\n",
       "      <td>Capital New York</td>\n",
       "      <td>September 11, 2017</td>\n",
       "    </tr>\n",
       "    <tr>\n",
       "      <th>6</th>\n",
       "      <td>3</td>\n",
       "      <td>Quickly grows repetitive and tiresome, meander...</td>\n",
       "      <td>C</td>\n",
       "      <td>rotten</td>\n",
       "      <td>Eric D. Snider</td>\n",
       "      <td>0</td>\n",
       "      <td>EricDSnider.com</td>\n",
       "      <td>July 17, 2013</td>\n",
       "    </tr>\n",
       "    <tr>\n",
       "      <th>7</th>\n",
       "      <td>3</td>\n",
       "      <td>Cronenberg is not a director to be daunted by ...</td>\n",
       "      <td>2/5</td>\n",
       "      <td>rotten</td>\n",
       "      <td>Matt Kelemen</td>\n",
       "      <td>0</td>\n",
       "      <td>Las Vegas CityLife</td>\n",
       "      <td>April 21, 2013</td>\n",
       "    </tr>\n",
       "    <tr>\n",
       "      <th>8</th>\n",
       "      <td>3</td>\n",
       "      <td>Cronenberg's cold, exacting precision and emot...</td>\n",
       "      <td>NaN</td>\n",
       "      <td>fresh</td>\n",
       "      <td>Sean Axmaker</td>\n",
       "      <td>0</td>\n",
       "      <td>Parallax View</td>\n",
       "      <td>March 24, 2013</td>\n",
       "    </tr>\n",
       "    <tr>\n",
       "      <th>9</th>\n",
       "      <td>3</td>\n",
       "      <td>Over and above its topical urgency or the bit ...</td>\n",
       "      <td>NaN</td>\n",
       "      <td>fresh</td>\n",
       "      <td>Kong Rithdee</td>\n",
       "      <td>0</td>\n",
       "      <td>Bangkok Post</td>\n",
       "      <td>March 4, 2013</td>\n",
       "    </tr>\n",
       "  </tbody>\n",
       "</table>\n",
       "</div>"
      ],
      "text/plain": [
       "   id                                             review rating   fresh  \\\n",
       "0   3  A distinctly gallows take on contemporary fina...    3/5   fresh   \n",
       "1   3  It's an allegory in search of a meaning that n...    NaN  rotten   \n",
       "2   3  ... life lived in a bubble in financial dealin...    NaN   fresh   \n",
       "3   3  Continuing along a line introduced in last yea...    NaN   fresh   \n",
       "4   3             ... a perverse twist on neorealism...     NaN   fresh   \n",
       "5   3  ... Cronenberg's Cosmopolis expresses somethin...    NaN   fresh   \n",
       "6   3  Quickly grows repetitive and tiresome, meander...      C  rotten   \n",
       "7   3  Cronenberg is not a director to be daunted by ...    2/5  rotten   \n",
       "8   3  Cronenberg's cold, exacting precision and emot...    NaN   fresh   \n",
       "9   3  Over and above its topical urgency or the bit ...    NaN   fresh   \n",
       "\n",
       "            critic  top_critic           publisher                date  \n",
       "0       PJ Nabarro           0     Patrick Nabarro   November 10, 2018  \n",
       "1   Annalee Newitz           0             io9.com        May 23, 2018  \n",
       "2     Sean Axmaker           0    Stream on Demand     January 4, 2018  \n",
       "3    Daniel Kasman           0                MUBI   November 16, 2017  \n",
       "4              NaN           0        Cinema Scope    October 12, 2017  \n",
       "5  Michelle Orange           0    Capital New York  September 11, 2017  \n",
       "6   Eric D. Snider           0     EricDSnider.com       July 17, 2013  \n",
       "7     Matt Kelemen           0  Las Vegas CityLife      April 21, 2013  \n",
       "8     Sean Axmaker           0       Parallax View      March 24, 2013  \n",
       "9     Kong Rithdee           0        Bangkok Post       March 4, 2013  "
      ]
     },
<<<<<<< HEAD
     "execution_count": 9,
=======
     "execution_count": 133,
>>>>>>> origin/main
     "metadata": {},
     "output_type": "execute_result"
    }
   ],
   "source": [
    "rt_review.head(10)"
   ]
  },
  {
   "cell_type": "code",
<<<<<<< HEAD
   "execution_count": 10,
=======
   "execution_count": 134,
>>>>>>> origin/main
   "metadata": {},
   "outputs": [
    {
     "name": "stdout",
     "output_type": "stream",
     "text": [
      "<class 'pandas.core.frame.DataFrame'>\n",
      "RangeIndex: 1560 entries, 0 to 1559\n",
      "Data columns (total 12 columns):\n",
      " #   Column        Non-Null Count  Dtype \n",
      "---  ------        --------------  ----- \n",
      " 0   id            1560 non-null   int64 \n",
      " 1   synopsis      1498 non-null   object\n",
      " 2   rating        1557 non-null   object\n",
      " 3   genre         1552 non-null   object\n",
      " 4   director      1361 non-null   object\n",
      " 5   writer        1111 non-null   object\n",
      " 6   theater_date  1201 non-null   object\n",
      " 7   dvd_date      1201 non-null   object\n",
      " 8   currency      340 non-null    object\n",
      " 9   box_office    340 non-null    object\n",
      " 10  runtime       1530 non-null   object\n",
      " 11  studio        494 non-null    object\n",
      "dtypes: int64(1), object(11)\n",
      "memory usage: 146.4+ KB\n"
     ]
    }
   ],
   "source": [
    "rt_info.info()"
   ]
  },
  {
   "cell_type": "markdown",
   "metadata": {},
   "source": [
    "### The Numbers (Andy)"
   ]
  },
  {
   "cell_type": "code",
<<<<<<< HEAD
   "execution_count": 11,
=======
   "execution_count": 135,
>>>>>>> origin/main
   "metadata": {},
   "outputs": [],
   "source": [
    "#read in the file\n",
    "tn_raw_df = pd.read_csv(\"data/tn.movie_budgets.csv.gz\", parse_dates=['release_date'])"
   ]
  },
  {
   "cell_type": "code",
<<<<<<< HEAD
   "execution_count": 12,
=======
   "execution_count": 136,
>>>>>>> origin/main
   "metadata": {},
   "outputs": [
    {
     "name": "stdout",
     "output_type": "stream",
     "text": [
      "<class 'pandas.core.frame.DataFrame'>\n",
      "RangeIndex: 5782 entries, 0 to 5781\n",
      "Data columns (total 6 columns):\n",
      " #   Column             Non-Null Count  Dtype         \n",
      "---  ------             --------------  -----         \n",
      " 0   id                 5782 non-null   int64         \n",
      " 1   release_date       5782 non-null   datetime64[ns]\n",
      " 2   movie              5782 non-null   object        \n",
      " 3   production_budget  5782 non-null   object        \n",
      " 4   domestic_gross     5782 non-null   object        \n",
      " 5   worldwide_gross    5782 non-null   object        \n",
      "dtypes: datetime64[ns](1), int64(1), object(4)\n",
      "memory usage: 271.2+ KB\n"
     ]
    }
   ],
   "source": [
    "tn_raw_df.info()"
   ]
  },
  {
   "cell_type": "code",
<<<<<<< HEAD
   "execution_count": 13,
=======
   "execution_count": 137,
>>>>>>> origin/main
   "metadata": {},
   "outputs": [
    {
     "data": {
      "text/html": [
       "<div>\n",
       "<style scoped>\n",
       "    .dataframe tbody tr th:only-of-type {\n",
       "        vertical-align: middle;\n",
       "    }\n",
       "\n",
       "    .dataframe tbody tr th {\n",
       "        vertical-align: top;\n",
       "    }\n",
       "\n",
       "    .dataframe thead th {\n",
       "        text-align: right;\n",
       "    }\n",
       "</style>\n",
       "<table border=\"1\" class=\"dataframe\">\n",
       "  <thead>\n",
       "    <tr style=\"text-align: right;\">\n",
       "      <th></th>\n",
       "      <th>id</th>\n",
       "      <th>release_date</th>\n",
       "      <th>movie</th>\n",
       "      <th>production_budget</th>\n",
       "      <th>domestic_gross</th>\n",
       "      <th>worldwide_gross</th>\n",
       "    </tr>\n",
       "  </thead>\n",
       "  <tbody>\n",
       "    <tr>\n",
       "      <th>0</th>\n",
       "      <td>1</td>\n",
       "      <td>2009-12-18</td>\n",
       "      <td>Avatar</td>\n",
       "      <td>$425,000,000</td>\n",
       "      <td>$760,507,625</td>\n",
       "      <td>$2,776,345,279</td>\n",
       "    </tr>\n",
       "    <tr>\n",
       "      <th>1</th>\n",
       "      <td>2</td>\n",
       "      <td>2011-05-20</td>\n",
       "      <td>Pirates of the Caribbean: On Stranger Tides</td>\n",
       "      <td>$410,600,000</td>\n",
       "      <td>$241,063,875</td>\n",
       "      <td>$1,045,663,875</td>\n",
       "    </tr>\n",
       "    <tr>\n",
       "      <th>2</th>\n",
       "      <td>3</td>\n",
       "      <td>2019-06-07</td>\n",
       "      <td>Dark Phoenix</td>\n",
       "      <td>$350,000,000</td>\n",
       "      <td>$42,762,350</td>\n",
       "      <td>$149,762,350</td>\n",
       "    </tr>\n",
       "    <tr>\n",
       "      <th>3</th>\n",
       "      <td>4</td>\n",
       "      <td>2015-05-01</td>\n",
       "      <td>Avengers: Age of Ultron</td>\n",
       "      <td>$330,600,000</td>\n",
       "      <td>$459,005,868</td>\n",
       "      <td>$1,403,013,963</td>\n",
       "    </tr>\n",
       "    <tr>\n",
       "      <th>4</th>\n",
       "      <td>5</td>\n",
       "      <td>2017-12-15</td>\n",
       "      <td>Star Wars Ep. VIII: The Last Jedi</td>\n",
       "      <td>$317,000,000</td>\n",
       "      <td>$620,181,382</td>\n",
       "      <td>$1,316,721,747</td>\n",
       "    </tr>\n",
       "  </tbody>\n",
       "</table>\n",
       "</div>"
      ],
      "text/plain": [
       "   id release_date                                        movie  \\\n",
       "0   1   2009-12-18                                       Avatar   \n",
       "1   2   2011-05-20  Pirates of the Caribbean: On Stranger Tides   \n",
       "2   3   2019-06-07                                 Dark Phoenix   \n",
       "3   4   2015-05-01                      Avengers: Age of Ultron   \n",
       "4   5   2017-12-15            Star Wars Ep. VIII: The Last Jedi   \n",
       "\n",
       "  production_budget domestic_gross worldwide_gross  \n",
       "0      $425,000,000   $760,507,625  $2,776,345,279  \n",
       "1      $410,600,000   $241,063,875  $1,045,663,875  \n",
       "2      $350,000,000    $42,762,350    $149,762,350  \n",
       "3      $330,600,000   $459,005,868  $1,403,013,963  \n",
       "4      $317,000,000   $620,181,382  $1,316,721,747  "
      ]
     },
<<<<<<< HEAD
     "execution_count": 13,
=======
     "execution_count": 137,
>>>>>>> origin/main
     "metadata": {},
     "output_type": "execute_result"
    }
   ],
   "source": [
    "tn_raw_df.head()"
   ]
  },
  {
   "cell_type": "markdown",
   "metadata": {},
   "source": [
    "Clean data so that release_date and movie are strings, and production_budget, domestic_gross, worldwide_gross are integers"
   ]
  },
  {
   "cell_type": "code",
<<<<<<< HEAD
   "execution_count": 14,
=======
   "execution_count": 138,
>>>>>>> origin/main
   "metadata": {
    "scrolled": true
   },
   "outputs": [],
   "source": [
    "#run this cell only once\n",
    "#production budget to int\n",
    "tn_raw_df['production_budget'] = tn_raw_df[\"production_budget\"].str.replace(\"$\",'').str.replace(\",\",'')\n",
    "tn_raw_df['production_budget'] = tn_raw_df[\"production_budget\"].astype(int)\n",
    "\n",
    "#domestic gross to int\n",
    "tn_raw_df['domestic_gross'] = tn_raw_df[\"domestic_gross\"].str.replace(\"$\",'').str.replace(\",\",'')\n",
    "tn_raw_df['domestic_gross'] = tn_raw_df[\"domestic_gross\"].astype(int)\n",
    "\n",
    "#worldwide_gross to int\n",
    "tn_raw_df['worldwide_gross'] = tn_raw_df[\"worldwide_gross\"].str.replace(\"$\",'').str.replace(\",\",'')\n",
    "tn_raw_df['worldwide_gross'] = tn_raw_df[\"worldwide_gross\"].astype('int64')\n",
    "\n",
    "tn_df = tn_raw_df.copy()"
   ]
  },
  {
   "cell_type": "code",
<<<<<<< HEAD
   "execution_count": 15,
   "metadata": {},
   "outputs": [
    {
     "ename": "TypeError",
     "evalue": "Cannot convert [['Avatar' 'Pirates of the Caribbean: On Stranger Tides' 'Dark Phoenix'\n  ... 'Return to the Land of Wonders' 'A Plague So Pleasant'\n  'My Date With Drew']] to numeric",
     "output_type": "error",
     "traceback": [
      "\u001b[0;31m---------------------------------------------------------------------------\u001b[0m",
      "\u001b[0;31mTypeError\u001b[0m                                 Traceback (most recent call last)",
      "\u001b[1;32m/Users/marleylopez/Documents/Flatiron/2_Phase/2_Movies/studio_study/MainNotebook.ipynb Cell 22\u001b[0m line \u001b[0;36m2\n\u001b[1;32m      <a href='vscode-notebook-cell:/Users/marleylopez/Documents/Flatiron/2_Phase/2_Movies/studio_study/MainNotebook.ipynb#X30sZmlsZQ%3D%3D?line=0'>1</a>\u001b[0m tn_df\u001b[39m.\u001b[39mdescribe()\n\u001b[0;32m----> <a href='vscode-notebook-cell:/Users/marleylopez/Documents/Flatiron/2_Phase/2_Movies/studio_study/MainNotebook.ipynb#X30sZmlsZQ%3D%3D?line=1'>2</a>\u001b[0m tn_df\u001b[39m.\u001b[39;49mmedian()\n",
      "File \u001b[0;32m~/anaconda3/envs/learn-env/lib/python3.9/site-packages/pandas/core/frame.py:11351\u001b[0m, in \u001b[0;36mDataFrame.median\u001b[0;34m(self, axis, skipna, numeric_only, **kwargs)\u001b[0m\n\u001b[1;32m  11343\u001b[0m \u001b[39m@doc\u001b[39m(make_doc(\u001b[39m\"\u001b[39m\u001b[39mmedian\u001b[39m\u001b[39m\"\u001b[39m, ndim\u001b[39m=\u001b[39m\u001b[39m2\u001b[39m))\n\u001b[1;32m  11344\u001b[0m \u001b[39mdef\u001b[39;00m \u001b[39mmedian\u001b[39m(\n\u001b[1;32m  11345\u001b[0m     \u001b[39mself\u001b[39m,\n\u001b[0;32m   (...)\u001b[0m\n\u001b[1;32m  11349\u001b[0m     \u001b[39m*\u001b[39m\u001b[39m*\u001b[39mkwargs,\n\u001b[1;32m  11350\u001b[0m ):\n\u001b[0;32m> 11351\u001b[0m     result \u001b[39m=\u001b[39m \u001b[39msuper\u001b[39;49m()\u001b[39m.\u001b[39;49mmedian(axis, skipna, numeric_only, \u001b[39m*\u001b[39;49m\u001b[39m*\u001b[39;49mkwargs)\n\u001b[1;32m  11352\u001b[0m     \u001b[39mif\u001b[39;00m \u001b[39misinstance\u001b[39m(result, Series):\n\u001b[1;32m  11353\u001b[0m         result \u001b[39m=\u001b[39m result\u001b[39m.\u001b[39m__finalize__(\u001b[39mself\u001b[39m, method\u001b[39m=\u001b[39m\u001b[39m\"\u001b[39m\u001b[39mmedian\u001b[39m\u001b[39m\"\u001b[39m)\n",
      "File \u001b[0;32m~/anaconda3/envs/learn-env/lib/python3.9/site-packages/pandas/core/generic.py:11980\u001b[0m, in \u001b[0;36mNDFrame.median\u001b[0;34m(self, axis, skipna, numeric_only, **kwargs)\u001b[0m\n\u001b[1;32m  11973\u001b[0m \u001b[39mdef\u001b[39;00m \u001b[39mmedian\u001b[39m(\n\u001b[1;32m  11974\u001b[0m     \u001b[39mself\u001b[39m,\n\u001b[1;32m  11975\u001b[0m     axis: Axis \u001b[39m|\u001b[39m \u001b[39mNone\u001b[39;00m \u001b[39m=\u001b[39m \u001b[39m0\u001b[39m,\n\u001b[0;32m   (...)\u001b[0m\n\u001b[1;32m  11978\u001b[0m     \u001b[39m*\u001b[39m\u001b[39m*\u001b[39mkwargs,\n\u001b[1;32m  11979\u001b[0m ) \u001b[39m-\u001b[39m\u001b[39m>\u001b[39m Series \u001b[39m|\u001b[39m \u001b[39mfloat\u001b[39m:\n\u001b[0;32m> 11980\u001b[0m     \u001b[39mreturn\u001b[39;00m \u001b[39mself\u001b[39;49m\u001b[39m.\u001b[39;49m_stat_function(\n\u001b[1;32m  11981\u001b[0m         \u001b[39m\"\u001b[39;49m\u001b[39mmedian\u001b[39;49m\u001b[39m\"\u001b[39;49m, nanops\u001b[39m.\u001b[39;49mnanmedian, axis, skipna, numeric_only, \u001b[39m*\u001b[39;49m\u001b[39m*\u001b[39;49mkwargs\n\u001b[1;32m  11982\u001b[0m     )\n",
      "File \u001b[0;32m~/anaconda3/envs/learn-env/lib/python3.9/site-packages/pandas/core/generic.py:11926\u001b[0m, in \u001b[0;36mNDFrame._stat_function\u001b[0;34m(self, name, func, axis, skipna, numeric_only, **kwargs)\u001b[0m\n\u001b[1;32m  11922\u001b[0m nv\u001b[39m.\u001b[39mvalidate_func(name, (), kwargs)\n\u001b[1;32m  11924\u001b[0m validate_bool_kwarg(skipna, \u001b[39m\"\u001b[39m\u001b[39mskipna\u001b[39m\u001b[39m\"\u001b[39m, none_allowed\u001b[39m=\u001b[39m\u001b[39mFalse\u001b[39;00m)\n\u001b[0;32m> 11926\u001b[0m \u001b[39mreturn\u001b[39;00m \u001b[39mself\u001b[39;49m\u001b[39m.\u001b[39;49m_reduce(\n\u001b[1;32m  11927\u001b[0m     func, name\u001b[39m=\u001b[39;49mname, axis\u001b[39m=\u001b[39;49maxis, skipna\u001b[39m=\u001b[39;49mskipna, numeric_only\u001b[39m=\u001b[39;49mnumeric_only\n\u001b[1;32m  11928\u001b[0m )\n",
      "File \u001b[0;32m~/anaconda3/envs/learn-env/lib/python3.9/site-packages/pandas/core/frame.py:11207\u001b[0m, in \u001b[0;36mDataFrame._reduce\u001b[0;34m(self, op, name, axis, skipna, numeric_only, filter_type, **kwds)\u001b[0m\n\u001b[1;32m  11203\u001b[0m     df \u001b[39m=\u001b[39m df\u001b[39m.\u001b[39mT\n\u001b[1;32m  11205\u001b[0m \u001b[39m# After possibly _get_data and transposing, we are now in the\u001b[39;00m\n\u001b[1;32m  11206\u001b[0m \u001b[39m#  simple case where we can use BlockManager.reduce\u001b[39;00m\n\u001b[0;32m> 11207\u001b[0m res \u001b[39m=\u001b[39m df\u001b[39m.\u001b[39;49m_mgr\u001b[39m.\u001b[39;49mreduce(blk_func)\n\u001b[1;32m  11208\u001b[0m out \u001b[39m=\u001b[39m df\u001b[39m.\u001b[39m_constructor_from_mgr(res, axes\u001b[39m=\u001b[39mres\u001b[39m.\u001b[39maxes)\u001b[39m.\u001b[39miloc[\u001b[39m0\u001b[39m]\n\u001b[1;32m  11209\u001b[0m \u001b[39mif\u001b[39;00m out_dtype \u001b[39mis\u001b[39;00m \u001b[39mnot\u001b[39;00m \u001b[39mNone\u001b[39;00m \u001b[39mand\u001b[39;00m out\u001b[39m.\u001b[39mdtype \u001b[39m!=\u001b[39m \u001b[39m\"\u001b[39m\u001b[39mboolean\u001b[39m\u001b[39m\"\u001b[39m:\n",
      "File \u001b[0;32m~/anaconda3/envs/learn-env/lib/python3.9/site-packages/pandas/core/internals/managers.py:1459\u001b[0m, in \u001b[0;36mBlockManager.reduce\u001b[0;34m(self, func)\u001b[0m\n\u001b[1;32m   1457\u001b[0m res_blocks: \u001b[39mlist\u001b[39m[Block] \u001b[39m=\u001b[39m []\n\u001b[1;32m   1458\u001b[0m \u001b[39mfor\u001b[39;00m blk \u001b[39min\u001b[39;00m \u001b[39mself\u001b[39m\u001b[39m.\u001b[39mblocks:\n\u001b[0;32m-> 1459\u001b[0m     nbs \u001b[39m=\u001b[39m blk\u001b[39m.\u001b[39;49mreduce(func)\n\u001b[1;32m   1460\u001b[0m     res_blocks\u001b[39m.\u001b[39mextend(nbs)\n\u001b[1;32m   1462\u001b[0m index \u001b[39m=\u001b[39m Index([\u001b[39mNone\u001b[39;00m])  \u001b[39m# placeholder\u001b[39;00m\n",
      "File \u001b[0;32m~/anaconda3/envs/learn-env/lib/python3.9/site-packages/pandas/core/internals/blocks.py:377\u001b[0m, in \u001b[0;36mBlock.reduce\u001b[0;34m(self, func)\u001b[0m\n\u001b[1;32m    371\u001b[0m \u001b[39m@final\u001b[39m\n\u001b[1;32m    372\u001b[0m \u001b[39mdef\u001b[39;00m \u001b[39mreduce\u001b[39m(\u001b[39mself\u001b[39m, func) \u001b[39m-\u001b[39m\u001b[39m>\u001b[39m \u001b[39mlist\u001b[39m[Block]:\n\u001b[1;32m    373\u001b[0m     \u001b[39m# We will apply the function and reshape the result into a single-row\u001b[39;00m\n\u001b[1;32m    374\u001b[0m     \u001b[39m#  Block with the same mgr_locs; squeezing will be done at a higher level\u001b[39;00m\n\u001b[1;32m    375\u001b[0m     \u001b[39massert\u001b[39;00m \u001b[39mself\u001b[39m\u001b[39m.\u001b[39mndim \u001b[39m==\u001b[39m \u001b[39m2\u001b[39m\n\u001b[0;32m--> 377\u001b[0m     result \u001b[39m=\u001b[39m func(\u001b[39mself\u001b[39;49m\u001b[39m.\u001b[39;49mvalues)\n\u001b[1;32m    379\u001b[0m     \u001b[39mif\u001b[39;00m \u001b[39mself\u001b[39m\u001b[39m.\u001b[39mvalues\u001b[39m.\u001b[39mndim \u001b[39m==\u001b[39m \u001b[39m1\u001b[39m:\n\u001b[1;32m    380\u001b[0m         res_values \u001b[39m=\u001b[39m result\n",
      "File \u001b[0;32m~/anaconda3/envs/learn-env/lib/python3.9/site-packages/pandas/core/frame.py:11139\u001b[0m, in \u001b[0;36mDataFrame._reduce.<locals>.blk_func\u001b[0;34m(values, axis)\u001b[0m\n\u001b[1;32m  11137\u001b[0m         \u001b[39mreturn\u001b[39;00m np\u001b[39m.\u001b[39marray([result])\n\u001b[1;32m  11138\u001b[0m \u001b[39melse\u001b[39;00m:\n\u001b[0;32m> 11139\u001b[0m     \u001b[39mreturn\u001b[39;00m op(values, axis\u001b[39m=\u001b[39;49maxis, skipna\u001b[39m=\u001b[39;49mskipna, \u001b[39m*\u001b[39;49m\u001b[39m*\u001b[39;49mkwds)\n",
      "File \u001b[0;32m~/anaconda3/envs/learn-env/lib/python3.9/site-packages/pandas/core/nanops.py:147\u001b[0m, in \u001b[0;36mbottleneck_switch.__call__.<locals>.f\u001b[0;34m(values, axis, skipna, **kwds)\u001b[0m\n\u001b[1;32m    145\u001b[0m         result \u001b[39m=\u001b[39m alt(values, axis\u001b[39m=\u001b[39maxis, skipna\u001b[39m=\u001b[39mskipna, \u001b[39m*\u001b[39m\u001b[39m*\u001b[39mkwds)\n\u001b[1;32m    146\u001b[0m \u001b[39melse\u001b[39;00m:\n\u001b[0;32m--> 147\u001b[0m     result \u001b[39m=\u001b[39m alt(values, axis\u001b[39m=\u001b[39;49maxis, skipna\u001b[39m=\u001b[39;49mskipna, \u001b[39m*\u001b[39;49m\u001b[39m*\u001b[39;49mkwds)\n\u001b[1;32m    149\u001b[0m \u001b[39mreturn\u001b[39;00m result\n",
      "File \u001b[0;32m~/anaconda3/envs/learn-env/lib/python3.9/site-packages/pandas/core/nanops.py:783\u001b[0m, in \u001b[0;36mnanmedian\u001b[0;34m(values, axis, skipna, mask)\u001b[0m\n\u001b[1;32m    781\u001b[0m     inferred \u001b[39m=\u001b[39m lib\u001b[39m.\u001b[39minfer_dtype(values)\n\u001b[1;32m    782\u001b[0m     \u001b[39mif\u001b[39;00m inferred \u001b[39min\u001b[39;00m [\u001b[39m\"\u001b[39m\u001b[39mstring\u001b[39m\u001b[39m\"\u001b[39m, \u001b[39m\"\u001b[39m\u001b[39mmixed\u001b[39m\u001b[39m\"\u001b[39m]:\n\u001b[0;32m--> 783\u001b[0m         \u001b[39mraise\u001b[39;00m \u001b[39mTypeError\u001b[39;00m(\u001b[39mf\u001b[39m\u001b[39m\"\u001b[39m\u001b[39mCannot convert \u001b[39m\u001b[39m{\u001b[39;00mvalues\u001b[39m}\u001b[39;00m\u001b[39m to numeric\u001b[39m\u001b[39m\"\u001b[39m)\n\u001b[1;32m    784\u001b[0m \u001b[39mtry\u001b[39;00m:\n\u001b[1;32m    785\u001b[0m     values \u001b[39m=\u001b[39m values\u001b[39m.\u001b[39mastype(\u001b[39m\"\u001b[39m\u001b[39mf8\u001b[39m\u001b[39m\"\u001b[39m)\n",
      "\u001b[0;31mTypeError\u001b[0m: Cannot convert [['Avatar' 'Pirates of the Caribbean: On Stranger Tides' 'Dark Phoenix'\n  ... 'Return to the Land of Wonders' 'A Plague So Pleasant'\n  'My Date With Drew']] to numeric"
     ]
=======
   "execution_count": 139,
   "metadata": {},
   "outputs": [
    {
     "data": {
      "text/plain": [
       "id                         50.0\n",
       "production_budget    17000000.0\n",
       "domestic_gross       17225945.0\n",
       "worldwide_gross      27984448.5\n",
       "dtype: float64"
      ]
     },
     "execution_count": 139,
     "metadata": {},
     "output_type": "execute_result"
>>>>>>> origin/main
    }
   ],
   "source": [
    "tn_df.describe()\n",
    "tn_df.median()"
   ]
  },
  {
   "cell_type": "code",
<<<<<<< HEAD
   "execution_count": null,
=======
   "execution_count": 140,
>>>>>>> origin/main
   "metadata": {
    "scrolled": true
   },
   "outputs": [
    {
     "data": {
      "text/html": [
       "<div>\n",
       "<style scoped>\n",
       "    .dataframe tbody tr th:only-of-type {\n",
       "        vertical-align: middle;\n",
       "    }\n",
       "\n",
       "    .dataframe tbody tr th {\n",
       "        vertical-align: top;\n",
       "    }\n",
       "\n",
       "    .dataframe thead th {\n",
       "        text-align: right;\n",
       "    }\n",
       "</style>\n",
       "<table border=\"1\" class=\"dataframe\">\n",
       "  <thead>\n",
       "    <tr style=\"text-align: right;\">\n",
       "      <th></th>\n",
       "      <th>id</th>\n",
       "      <th>release_date</th>\n",
       "      <th>movie</th>\n",
       "      <th>production_budget</th>\n",
       "      <th>domestic_gross</th>\n",
       "      <th>worldwide_gross</th>\n",
       "    </tr>\n",
       "  </thead>\n",
       "  <tbody>\n",
       "    <tr>\n",
       "      <th>194</th>\n",
       "      <td>95</td>\n",
       "      <td>2020-12-31</td>\n",
       "      <td>Moonfall</td>\n",
       "      <td>150000000</td>\n",
       "      <td>0</td>\n",
       "      <td>0</td>\n",
       "    </tr>\n",
       "    <tr>\n",
       "      <th>1205</th>\n",
       "      <td>6</td>\n",
       "      <td>2020-12-31</td>\n",
       "      <td>Hannibal the Conqueror</td>\n",
       "      <td>50000000</td>\n",
       "      <td>0</td>\n",
       "      <td>0</td>\n",
       "    </tr>\n",
       "    <tr>\n",
       "      <th>535</th>\n",
       "      <td>36</td>\n",
       "      <td>2020-02-21</td>\n",
       "      <td>Call of the Wild</td>\n",
       "      <td>82000000</td>\n",
       "      <td>0</td>\n",
       "      <td>0</td>\n",
       "    </tr>\n",
       "    <tr>\n",
       "      <th>480</th>\n",
       "      <td>81</td>\n",
       "      <td>2019-12-31</td>\n",
       "      <td>Army of the Dead</td>\n",
       "      <td>90000000</td>\n",
       "      <td>0</td>\n",
       "      <td>0</td>\n",
       "    </tr>\n",
       "    <tr>\n",
       "      <th>3515</th>\n",
       "      <td>16</td>\n",
       "      <td>2019-12-31</td>\n",
       "      <td>Eli</td>\n",
       "      <td>11000000</td>\n",
       "      <td>0</td>\n",
       "      <td>0</td>\n",
       "    </tr>\n",
       "    <tr>\n",
       "      <th>...</th>\n",
       "      <td>...</td>\n",
       "      <td>...</td>\n",
       "      <td>...</td>\n",
       "      <td>...</td>\n",
       "      <td>...</td>\n",
       "      <td>...</td>\n",
       "    </tr>\n",
       "    <tr>\n",
       "      <th>5606</th>\n",
       "      <td>7</td>\n",
       "      <td>1925-11-19</td>\n",
       "      <td>The Big Parade</td>\n",
       "      <td>245000</td>\n",
       "      <td>11000000</td>\n",
       "      <td>22000000</td>\n",
       "    </tr>\n",
       "    <tr>\n",
       "      <th>5683</th>\n",
       "      <td>84</td>\n",
       "      <td>1920-09-17</td>\n",
       "      <td>Over the Hill to the Poorhouse</td>\n",
       "      <td>100000</td>\n",
       "      <td>3000000</td>\n",
       "      <td>3000000</td>\n",
       "    </tr>\n",
       "    <tr>\n",
       "      <th>5614</th>\n",
       "      <td>15</td>\n",
       "      <td>1916-12-24</td>\n",
       "      <td>20,000 Leagues Under the Sea</td>\n",
       "      <td>200000</td>\n",
       "      <td>8000000</td>\n",
       "      <td>8000000</td>\n",
       "    </tr>\n",
       "    <tr>\n",
       "      <th>5523</th>\n",
       "      <td>24</td>\n",
       "      <td>1916-09-05</td>\n",
       "      <td>Intolerance</td>\n",
       "      <td>385907</td>\n",
       "      <td>0</td>\n",
       "      <td>0</td>\n",
       "    </tr>\n",
       "    <tr>\n",
       "      <th>5677</th>\n",
       "      <td>78</td>\n",
       "      <td>1915-02-08</td>\n",
       "      <td>The Birth of a Nation</td>\n",
       "      <td>110000</td>\n",
       "      <td>10000000</td>\n",
       "      <td>11000000</td>\n",
       "    </tr>\n",
       "  </tbody>\n",
       "</table>\n",
       "<p>5782 rows × 6 columns</p>\n",
       "</div>"
      ],
      "text/plain": [
       "      id release_date                           movie  production_budget  \\\n",
       "194   95   2020-12-31                        Moonfall          150000000   \n",
       "1205   6   2020-12-31          Hannibal the Conqueror           50000000   \n",
       "535   36   2020-02-21                Call of the Wild           82000000   \n",
       "480   81   2019-12-31                Army of the Dead           90000000   \n",
       "3515  16   2019-12-31                             Eli           11000000   \n",
       "...   ..          ...                             ...                ...   \n",
       "5606   7   1925-11-19                  The Big Parade             245000   \n",
       "5683  84   1920-09-17  Over the Hill to the Poorhouse             100000   \n",
       "5614  15   1916-12-24    20,000 Leagues Under the Sea             200000   \n",
       "5523  24   1916-09-05                     Intolerance             385907   \n",
       "5677  78   1915-02-08           The Birth of a Nation             110000   \n",
       "\n",
       "      domestic_gross  worldwide_gross  \n",
       "194                0                0  \n",
       "1205               0                0  \n",
       "535                0                0  \n",
       "480                0                0  \n",
       "3515               0                0  \n",
       "...              ...              ...  \n",
       "5606        11000000         22000000  \n",
       "5683         3000000          3000000  \n",
       "5614         8000000          8000000  \n",
       "5523               0                0  \n",
       "5677        10000000         11000000  \n",
       "\n",
       "[5782 rows x 6 columns]"
      ]
     },
<<<<<<< HEAD
     "execution_count": 18,
=======
     "execution_count": 140,
>>>>>>> origin/main
     "metadata": {},
     "output_type": "execute_result"
    }
   ],
   "source": [
    "tn_df.sort_values(by=\"release_date\", ascending=False)"
   ]
  },
  {
   "cell_type": "markdown",
   "metadata": {},
   "source": [
    "box office mojo domestic gross for star wars ep 7: 936700000.0\n",
    "the numbers domestic gross for star wars ep 7: 936662225"
   ]
  },
  {
   "cell_type": "code",
<<<<<<< HEAD
   "execution_count": null,
=======
   "execution_count": 141,
>>>>>>> origin/main
   "metadata": {},
   "outputs": [],
   "source": [
    "#tn_df.loc[tn_df['movie'] == \"Titanic\"]\n",
    "#bom_raw_df.loc[bom_raw_df['title'] == \"Jaws\"]"
   ]
  },
  {
   "cell_type": "markdown",
   "metadata": {},
   "source": [
    "tn_db domestic gross: 198 680 470\n",
    "tn_db worldwide gross: 390 525 192\n",
    "\n",
    "bom lifetime gross: 200,882,193\t\n",
    "bom adjusted for inflation gross: 1,850,581,586\t"
   ]
  },
  {
   "cell_type": "code",
<<<<<<< HEAD
   "execution_count": 16,
=======
   "execution_count": 142,
>>>>>>> origin/main
   "metadata": {
    "scrolled": false
   },
   "outputs": [
    {
     "data": {
      "text/html": [
       "<div>\n",
       "<style scoped>\n",
       "    .dataframe tbody tr th:only-of-type {\n",
       "        vertical-align: middle;\n",
       "    }\n",
       "\n",
       "    .dataframe tbody tr th {\n",
       "        vertical-align: top;\n",
       "    }\n",
       "\n",
       "    .dataframe thead th {\n",
       "        text-align: right;\n",
       "    }\n",
       "</style>\n",
       "<table border=\"1\" class=\"dataframe\">\n",
       "  <thead>\n",
       "    <tr style=\"text-align: right;\">\n",
       "      <th></th>\n",
       "      <th>id</th>\n",
       "      <th>release_date</th>\n",
       "      <th>movie</th>\n",
       "      <th>production_budget</th>\n",
       "      <th>domestic_gross</th>\n",
       "      <th>worldwide_gross</th>\n",
       "    </tr>\n",
       "  </thead>\n",
       "  <tbody>\n",
       "    <tr>\n",
       "      <th>0</th>\n",
       "      <td>1</td>\n",
       "      <td>2009-12-18</td>\n",
       "      <td>Avatar</td>\n",
       "      <td>425000000</td>\n",
       "      <td>760507625</td>\n",
       "      <td>2776345279</td>\n",
       "    </tr>\n",
       "    <tr>\n",
       "      <th>1</th>\n",
       "      <td>2</td>\n",
       "      <td>2011-05-20</td>\n",
       "      <td>Pirates of the Caribbean: On Stranger Tides</td>\n",
       "      <td>410600000</td>\n",
       "      <td>241063875</td>\n",
       "      <td>1045663875</td>\n",
       "    </tr>\n",
       "    <tr>\n",
       "      <th>2</th>\n",
       "      <td>3</td>\n",
       "      <td>2019-06-07</td>\n",
       "      <td>Dark Phoenix</td>\n",
       "      <td>350000000</td>\n",
       "      <td>42762350</td>\n",
       "      <td>149762350</td>\n",
       "    </tr>\n",
       "    <tr>\n",
       "      <th>3</th>\n",
       "      <td>4</td>\n",
       "      <td>2015-05-01</td>\n",
       "      <td>Avengers: Age of Ultron</td>\n",
       "      <td>330600000</td>\n",
       "      <td>459005868</td>\n",
       "      <td>1403013963</td>\n",
       "    </tr>\n",
       "    <tr>\n",
       "      <th>4</th>\n",
       "      <td>5</td>\n",
       "      <td>2017-12-15</td>\n",
       "      <td>Star Wars Ep. VIII: The Last Jedi</td>\n",
       "      <td>317000000</td>\n",
       "      <td>620181382</td>\n",
       "      <td>1316721747</td>\n",
       "    </tr>\n",
       "    <tr>\n",
       "      <th>...</th>\n",
       "      <td>...</td>\n",
       "      <td>...</td>\n",
       "      <td>...</td>\n",
       "      <td>...</td>\n",
       "      <td>...</td>\n",
       "      <td>...</td>\n",
       "    </tr>\n",
       "    <tr>\n",
       "      <th>5777</th>\n",
       "      <td>78</td>\n",
       "      <td>2018-12-31</td>\n",
       "      <td>Red 11</td>\n",
       "      <td>7000</td>\n",
       "      <td>0</td>\n",
       "      <td>0</td>\n",
       "    </tr>\n",
       "    <tr>\n",
       "      <th>5778</th>\n",
       "      <td>79</td>\n",
       "      <td>1999-04-02</td>\n",
       "      <td>Following</td>\n",
       "      <td>6000</td>\n",
       "      <td>48482</td>\n",
       "      <td>240495</td>\n",
       "    </tr>\n",
       "    <tr>\n",
       "      <th>5779</th>\n",
       "      <td>80</td>\n",
       "      <td>2005-07-13</td>\n",
       "      <td>Return to the Land of Wonders</td>\n",
       "      <td>5000</td>\n",
       "      <td>1338</td>\n",
       "      <td>1338</td>\n",
       "    </tr>\n",
       "    <tr>\n",
       "      <th>5780</th>\n",
       "      <td>81</td>\n",
       "      <td>2015-09-29</td>\n",
       "      <td>A Plague So Pleasant</td>\n",
       "      <td>1400</td>\n",
       "      <td>0</td>\n",
       "      <td>0</td>\n",
       "    </tr>\n",
       "    <tr>\n",
       "      <th>5781</th>\n",
       "      <td>82</td>\n",
       "      <td>2005-08-05</td>\n",
       "      <td>My Date With Drew</td>\n",
       "      <td>1100</td>\n",
       "      <td>181041</td>\n",
       "      <td>181041</td>\n",
       "    </tr>\n",
       "  </tbody>\n",
       "</table>\n",
       "<p>5782 rows × 6 columns</p>\n",
       "</div>"
      ],
      "text/plain": [
       "      id release_date                                        movie  \\\n",
       "0      1   2009-12-18                                       Avatar   \n",
       "1      2   2011-05-20  Pirates of the Caribbean: On Stranger Tides   \n",
       "2      3   2019-06-07                                 Dark Phoenix   \n",
       "3      4   2015-05-01                      Avengers: Age of Ultron   \n",
       "4      5   2017-12-15            Star Wars Ep. VIII: The Last Jedi   \n",
       "...   ..          ...                                          ...   \n",
       "5777  78   2018-12-31                                       Red 11   \n",
       "5778  79   1999-04-02                                    Following   \n",
       "5779  80   2005-07-13                Return to the Land of Wonders   \n",
       "5780  81   2015-09-29                         A Plague So Pleasant   \n",
       "5781  82   2005-08-05                            My Date With Drew   \n",
       "\n",
       "      production_budget  domestic_gross  worldwide_gross  \n",
       "0             425000000       760507625       2776345279  \n",
       "1             410600000       241063875       1045663875  \n",
       "2             350000000        42762350        149762350  \n",
       "3             330600000       459005868       1403013963  \n",
       "4             317000000       620181382       1316721747  \n",
       "...                 ...             ...              ...  \n",
       "5777               7000               0                0  \n",
       "5778               6000           48482           240495  \n",
       "5779               5000            1338             1338  \n",
       "5780               1400               0                0  \n",
       "5781               1100          181041           181041  \n",
       "\n",
       "[5782 rows x 6 columns]"
      ]
     },
<<<<<<< HEAD
     "execution_count": 16,
=======
     "execution_count": 142,
>>>>>>> origin/main
     "metadata": {},
     "output_type": "execute_result"
    }
   ],
   "source": [
    "tn_df.sort_values(by=\"production_budget\", ascending=False)"
   ]
  },
  {
   "cell_type": "markdown",
   "metadata": {},
   "source": [
    "### Inflation Calculations:\n",
    "- Source: https://data.bls.gov/cgi-bin/cpicalc.pl"
   ]
  },
  {
   "cell_type": "code",
<<<<<<< HEAD
   "execution_count": 17,
=======
   "execution_count": 143,
>>>>>>> origin/main
   "metadata": {},
   "outputs": [],
   "source": [
    "#Create column ROI which is domestic_gross / production_budget \n",
    "tn_df['ROI'] = tn_df['domestic_gross'] / tn_df[\"production_budget\"]"
   ]
  },
  {
   "cell_type": "code",
<<<<<<< HEAD
   "execution_count": 18,
=======
   "execution_count": 144,
>>>>>>> origin/main
   "metadata": {
    "scrolled": true
   },
   "outputs": [],
   "source": [
    "### INFLATION CALCULATIONS\n",
    "# Create release_year from release_date\n",
    "tn_df['release_year'] = pd.DatetimeIndex(tn_df['release_date']).year"
   ]
  },
  {
   "cell_type": "code",
<<<<<<< HEAD
   "execution_count": 19,
=======
   "execution_count": 145,
>>>>>>> origin/main
   "metadata": {},
   "outputs": [],
   "source": [
    "#Only take movies from 2010 onwards\n",
    "tn_df = tn_df[tn_df[\"release_date\"] >= \"2010\"]"
   ]
  },
  {
   "cell_type": "code",
<<<<<<< HEAD
   "execution_count": 20,
=======
   "execution_count": 146,
>>>>>>> origin/main
   "metadata": {},
   "outputs": [
    {
     "data": {
      "text/html": [
       "<div>\n",
       "<style scoped>\n",
       "    .dataframe tbody tr th:only-of-type {\n",
       "        vertical-align: middle;\n",
       "    }\n",
       "\n",
       "    .dataframe tbody tr th {\n",
       "        vertical-align: top;\n",
       "    }\n",
       "\n",
       "    .dataframe thead th {\n",
       "        text-align: right;\n",
       "    }\n",
       "</style>\n",
       "<table border=\"1\" class=\"dataframe\">\n",
       "  <thead>\n",
       "    <tr style=\"text-align: right;\">\n",
       "      <th></th>\n",
       "      <th>id</th>\n",
       "      <th>release_date</th>\n",
       "      <th>movie</th>\n",
       "      <th>production_budget</th>\n",
       "      <th>domestic_gross</th>\n",
       "      <th>worldwide_gross</th>\n",
       "      <th>ROI</th>\n",
       "      <th>release_year</th>\n",
       "      <th>inflation_ratio</th>\n",
       "    </tr>\n",
       "  </thead>\n",
       "  <tbody>\n",
       "    <tr>\n",
       "      <th>1</th>\n",
       "      <td>2</td>\n",
       "      <td>2011-05-20</td>\n",
       "      <td>Pirates of the Caribbean: On Stranger Tides</td>\n",
       "      <td>410600000</td>\n",
       "      <td>241063875</td>\n",
       "      <td>1045663875</td>\n",
       "      <td>0.587101</td>\n",
       "      <td>2011</td>\n",
       "      <td>1.40</td>\n",
       "    </tr>\n",
       "    <tr>\n",
       "      <th>2</th>\n",
       "      <td>3</td>\n",
       "      <td>2019-06-07</td>\n",
       "      <td>Dark Phoenix</td>\n",
       "      <td>350000000</td>\n",
       "      <td>42762350</td>\n",
       "      <td>149762350</td>\n",
       "      <td>0.122178</td>\n",
       "      <td>2019</td>\n",
       "      <td>1.22</td>\n",
       "    </tr>\n",
       "    <tr>\n",
       "      <th>3</th>\n",
       "      <td>4</td>\n",
       "      <td>2015-05-01</td>\n",
       "      <td>Avengers: Age of Ultron</td>\n",
       "      <td>330600000</td>\n",
       "      <td>459005868</td>\n",
       "      <td>1403013963</td>\n",
       "      <td>1.388403</td>\n",
       "      <td>2015</td>\n",
       "      <td>1.32</td>\n",
       "    </tr>\n",
       "    <tr>\n",
       "      <th>4</th>\n",
       "      <td>5</td>\n",
       "      <td>2017-12-15</td>\n",
       "      <td>Star Wars Ep. VIII: The Last Jedi</td>\n",
       "      <td>317000000</td>\n",
       "      <td>620181382</td>\n",
       "      <td>1316721747</td>\n",
       "      <td>1.956408</td>\n",
       "      <td>2017</td>\n",
       "      <td>1.27</td>\n",
       "    </tr>\n",
       "    <tr>\n",
       "      <th>5</th>\n",
       "      <td>6</td>\n",
       "      <td>2015-12-18</td>\n",
       "      <td>Star Wars Ep. VII: The Force Awakens</td>\n",
       "      <td>306000000</td>\n",
       "      <td>936662225</td>\n",
       "      <td>2053311220</td>\n",
       "      <td>3.060988</td>\n",
       "      <td>2015</td>\n",
       "      <td>1.32</td>\n",
       "    </tr>\n",
       "  </tbody>\n",
       "</table>\n",
       "</div>"
      ],
      "text/plain": [
       "   id release_date                                        movie  \\\n",
       "1   2   2011-05-20  Pirates of the Caribbean: On Stranger Tides   \n",
       "2   3   2019-06-07                                 Dark Phoenix   \n",
       "3   4   2015-05-01                      Avengers: Age of Ultron   \n",
       "4   5   2017-12-15            Star Wars Ep. VIII: The Last Jedi   \n",
       "5   6   2015-12-18         Star Wars Ep. VII: The Force Awakens   \n",
       "\n",
       "   production_budget  domestic_gross  worldwide_gross       ROI  release_year  \\\n",
       "1          410600000       241063875       1045663875  0.587101          2011   \n",
       "2          350000000        42762350        149762350  0.122178          2019   \n",
       "3          330600000       459005868       1403013963  1.388403          2015   \n",
       "4          317000000       620181382       1316721747  1.956408          2017   \n",
       "5          306000000       936662225       2053311220  3.060988          2015   \n",
       "\n",
       "   inflation_ratio  \n",
       "1             1.40  \n",
       "2             1.22  \n",
       "3             1.32  \n",
       "4             1.27  \n",
       "5             1.32  "
      ]
     },
<<<<<<< HEAD
     "execution_count": 20,
=======
     "execution_count": 146,
>>>>>>> origin/main
     "metadata": {},
     "output_type": "execute_result"
    }
   ],
   "source": [
    "#Create inflation_ratios which is then used to map release_year to create a column inflation_ratios\n",
    "#which is a column that has the dollar to a 2023 ratio\n",
    "tn_df['inflation_ratio'] = 1\n",
    "\n",
    "inflation_ratios = {\n",
    "    2010: 1.42,\n",
    "    2011: 1.40,\n",
    "    2012: 1.36,\n",
    "    2013: 1.34,\n",
    "    2014: 1.32,\n",
    "    2015: 1.32,\n",
    "    2016: 1.30,\n",
    "    2017: 1.27,\n",
    "    2018: 1.24,\n",
    "    2019: 1.22,\n",
    "    2020: 1.19\n",
    "}\n",
    "\n",
    "tn_df['inflation_ratio'] = tn_df['release_year'].replace(inflation_ratios)\n",
    "tn_df.head()"
   ]
  },
  {
   "cell_type": "code",
<<<<<<< HEAD
   "execution_count": 21,
=======
   "execution_count": 147,
>>>>>>> origin/main
   "metadata": {},
   "outputs": [],
   "source": [
    "#Create Column DG_AI which means domestic gross after inflation\n",
    "#And a Column PB_AI which is production budget after inflation\n",
    "tn_df['DG_AI']=tn_df[\"domestic_gross\"]*tn_df[\"inflation_ratio\"]\n",
    "tn_df[\"PB_AI\"]=tn_df[\"production_budget\"]*tn_df[\"inflation_ratio\"]"
   ]
  },
  {
   "cell_type": "code",
<<<<<<< HEAD
   "execution_count": 22,
=======
   "execution_count": 148,
>>>>>>> origin/main
   "metadata": {},
   "outputs": [],
   "source": [
    "## CREATING COLUMN FOR SEASONS\n",
    "tn_df[\"release_month\"] = pd.DatetimeIndex(tn_df[\"release_date\"]).month\n",
    "\n",
    "seasons = {\n",
    "    1:\"Winter\",\n",
    "    2:\"Winter\",\n",
    "    3:\"Spring\",\n",
    "    4:\"Spring\",\n",
    "    5:\"Spring\",\n",
    "    6:\"Summer\",\n",
    "    7:\"Summer\",\n",
    "    8:\"Summer\",\n",
    "    9:\"Fall\",\n",
    "    10:\"Fall\",\n",
    "    11:\"Fall\",\n",
    "    12:\"Winter\"\n",
    "}\n",
    "\n",
    "tn_df['season'] = tn_df['release_month'].map(seasons)"
   ]
  },
  {
   "cell_type": "code",
<<<<<<< HEAD
   "execution_count": 23,
=======
   "execution_count": 149,
>>>>>>> origin/main
   "metadata": {},
   "outputs": [
    {
     "data": {
      "text/html": [
       "<div>\n",
       "<style scoped>\n",
       "    .dataframe tbody tr th:only-of-type {\n",
       "        vertical-align: middle;\n",
       "    }\n",
       "\n",
       "    .dataframe tbody tr th {\n",
       "        vertical-align: top;\n",
       "    }\n",
       "\n",
       "    .dataframe thead th {\n",
       "        text-align: right;\n",
       "    }\n",
       "</style>\n",
       "<table border=\"1\" class=\"dataframe\">\n",
       "  <thead>\n",
       "    <tr style=\"text-align: right;\">\n",
       "      <th></th>\n",
       "      <th>id</th>\n",
       "      <th>release_date</th>\n",
       "      <th>movie</th>\n",
       "      <th>production_budget</th>\n",
       "      <th>domestic_gross</th>\n",
       "      <th>worldwide_gross</th>\n",
       "      <th>ROI</th>\n",
       "      <th>release_year</th>\n",
       "      <th>inflation_ratio</th>\n",
       "      <th>DG_AI</th>\n",
       "      <th>PB_AI</th>\n",
       "      <th>release_month</th>\n",
       "      <th>season</th>\n",
       "    </tr>\n",
       "  </thead>\n",
       "  <tbody>\n",
       "    <tr>\n",
       "      <th>1</th>\n",
       "      <td>2</td>\n",
       "      <td>2011-05-20</td>\n",
       "      <td>Pirates of the Caribbean: On Stranger Tides</td>\n",
       "      <td>410600000</td>\n",
       "      <td>241063875</td>\n",
       "      <td>1045663875</td>\n",
       "      <td>0.587101</td>\n",
       "      <td>2011</td>\n",
       "      <td>1.40</td>\n",
       "      <td>3.374894e+08</td>\n",
       "      <td>574840000.0</td>\n",
       "      <td>5</td>\n",
       "      <td>Spring</td>\n",
       "    </tr>\n",
       "    <tr>\n",
       "      <th>2</th>\n",
       "      <td>3</td>\n",
       "      <td>2019-06-07</td>\n",
       "      <td>Dark Phoenix</td>\n",
       "      <td>350000000</td>\n",
       "      <td>42762350</td>\n",
       "      <td>149762350</td>\n",
       "      <td>0.122178</td>\n",
       "      <td>2019</td>\n",
       "      <td>1.22</td>\n",
       "      <td>5.217007e+07</td>\n",
       "      <td>427000000.0</td>\n",
       "      <td>6</td>\n",
       "      <td>Summer</td>\n",
       "    </tr>\n",
       "    <tr>\n",
       "      <th>3</th>\n",
       "      <td>4</td>\n",
       "      <td>2015-05-01</td>\n",
       "      <td>Avengers: Age of Ultron</td>\n",
       "      <td>330600000</td>\n",
       "      <td>459005868</td>\n",
       "      <td>1403013963</td>\n",
       "      <td>1.388403</td>\n",
       "      <td>2015</td>\n",
       "      <td>1.32</td>\n",
       "      <td>6.058877e+08</td>\n",
       "      <td>436392000.0</td>\n",
       "      <td>5</td>\n",
       "      <td>Spring</td>\n",
       "    </tr>\n",
       "    <tr>\n",
       "      <th>4</th>\n",
       "      <td>5</td>\n",
       "      <td>2017-12-15</td>\n",
       "      <td>Star Wars Ep. VIII: The Last Jedi</td>\n",
       "      <td>317000000</td>\n",
       "      <td>620181382</td>\n",
       "      <td>1316721747</td>\n",
       "      <td>1.956408</td>\n",
       "      <td>2017</td>\n",
       "      <td>1.27</td>\n",
       "      <td>7.876304e+08</td>\n",
       "      <td>402590000.0</td>\n",
       "      <td>12</td>\n",
       "      <td>Winter</td>\n",
       "    </tr>\n",
       "    <tr>\n",
       "      <th>5</th>\n",
       "      <td>6</td>\n",
       "      <td>2015-12-18</td>\n",
       "      <td>Star Wars Ep. VII: The Force Awakens</td>\n",
       "      <td>306000000</td>\n",
       "      <td>936662225</td>\n",
       "      <td>2053311220</td>\n",
       "      <td>3.060988</td>\n",
       "      <td>2015</td>\n",
       "      <td>1.32</td>\n",
       "      <td>1.236394e+09</td>\n",
       "      <td>403920000.0</td>\n",
       "      <td>12</td>\n",
       "      <td>Winter</td>\n",
       "    </tr>\n",
       "  </tbody>\n",
       "</table>\n",
       "</div>"
      ],
      "text/plain": [
       "   id release_date                                        movie  \\\n",
       "1   2   2011-05-20  Pirates of the Caribbean: On Stranger Tides   \n",
       "2   3   2019-06-07                                 Dark Phoenix   \n",
       "3   4   2015-05-01                      Avengers: Age of Ultron   \n",
       "4   5   2017-12-15            Star Wars Ep. VIII: The Last Jedi   \n",
       "5   6   2015-12-18         Star Wars Ep. VII: The Force Awakens   \n",
       "\n",
       "   production_budget  domestic_gross  worldwide_gross       ROI  release_year  \\\n",
       "1          410600000       241063875       1045663875  0.587101          2011   \n",
       "2          350000000        42762350        149762350  0.122178          2019   \n",
       "3          330600000       459005868       1403013963  1.388403          2015   \n",
       "4          317000000       620181382       1316721747  1.956408          2017   \n",
       "5          306000000       936662225       2053311220  3.060988          2015   \n",
       "\n",
       "   inflation_ratio         DG_AI        PB_AI  release_month  season  \n",
       "1             1.40  3.374894e+08  574840000.0              5  Spring  \n",
       "2             1.22  5.217007e+07  427000000.0              6  Summer  \n",
       "3             1.32  6.058877e+08  436392000.0              5  Spring  \n",
       "4             1.27  7.876304e+08  402590000.0             12  Winter  \n",
       "5             1.32  1.236394e+09  403920000.0             12  Winter  "
      ]
     },
<<<<<<< HEAD
     "execution_count": 23,
=======
     "execution_count": 149,
>>>>>>> origin/main
     "metadata": {},
     "output_type": "execute_result"
    }
   ],
   "source": [
    "tn_df.head()"
   ]
  },
  {
   "cell_type": "markdown",
   "metadata": {},
   "source": [
    "### Box Office Mojo (Andy)"
   ]
  },
  {
   "cell_type": "code",
<<<<<<< HEAD
   "execution_count": 24,
=======
   "execution_count": 150,
>>>>>>> origin/main
   "metadata": {},
   "outputs": [],
   "source": [
    "#read in data from box office mojo\n",
    "bom_raw_df = pd.read_csv('data/bom.movie_gross.csv.gz')"
   ]
  },
  {
   "cell_type": "code",
<<<<<<< HEAD
   "execution_count": 25,
=======
   "execution_count": 151,
>>>>>>> origin/main
   "metadata": {
    "collapsed": true
   },
   "outputs": [
    {
     "name": "stdout",
     "output_type": "stream",
     "text": [
      "<class 'pandas.core.frame.DataFrame'>\n",
      "RangeIndex: 3387 entries, 0 to 3386\n",
      "Data columns (total 5 columns):\n",
      " #   Column          Non-Null Count  Dtype  \n",
      "---  ------          --------------  -----  \n",
      " 0   title           3387 non-null   object \n",
      " 1   studio          3382 non-null   object \n",
      " 2   domestic_gross  3359 non-null   float64\n",
      " 3   foreign_gross   2037 non-null   object \n",
      " 4   year            3387 non-null   int64  \n",
      "dtypes: float64(1), int64(1), object(3)\n",
      "memory usage: 132.4+ KB\n"
     ]
    }
   ],
   "source": [
    "bom_raw_df.info()"
   ]
  },
  {
   "cell_type": "code",
<<<<<<< HEAD
   "execution_count": 26,
=======
   "execution_count": 152,
>>>>>>> origin/main
   "metadata": {
    "collapsed": true
   },
   "outputs": [
    {
     "data": {
      "text/html": [
       "<div>\n",
       "<style scoped>\n",
       "    .dataframe tbody tr th:only-of-type {\n",
       "        vertical-align: middle;\n",
       "    }\n",
       "\n",
       "    .dataframe tbody tr th {\n",
       "        vertical-align: top;\n",
       "    }\n",
       "\n",
       "    .dataframe thead th {\n",
       "        text-align: right;\n",
       "    }\n",
       "</style>\n",
       "<table border=\"1\" class=\"dataframe\">\n",
       "  <thead>\n",
       "    <tr style=\"text-align: right;\">\n",
       "      <th></th>\n",
       "      <th>title</th>\n",
       "      <th>studio</th>\n",
       "      <th>domestic_gross</th>\n",
       "      <th>foreign_gross</th>\n",
       "      <th>year</th>\n",
       "    </tr>\n",
       "  </thead>\n",
       "  <tbody>\n",
       "    <tr>\n",
       "      <th>0</th>\n",
       "      <td>Toy Story 3</td>\n",
       "      <td>BV</td>\n",
       "      <td>415000000.0</td>\n",
       "      <td>652000000</td>\n",
       "      <td>2010</td>\n",
       "    </tr>\n",
       "    <tr>\n",
       "      <th>1</th>\n",
       "      <td>Alice in Wonderland (2010)</td>\n",
       "      <td>BV</td>\n",
       "      <td>334200000.0</td>\n",
       "      <td>691300000</td>\n",
       "      <td>2010</td>\n",
       "    </tr>\n",
       "    <tr>\n",
       "      <th>2</th>\n",
       "      <td>Harry Potter and the Deathly Hallows Part 1</td>\n",
       "      <td>WB</td>\n",
       "      <td>296000000.0</td>\n",
       "      <td>664300000</td>\n",
       "      <td>2010</td>\n",
       "    </tr>\n",
       "    <tr>\n",
       "      <th>3</th>\n",
       "      <td>Inception</td>\n",
       "      <td>WB</td>\n",
       "      <td>292600000.0</td>\n",
       "      <td>535700000</td>\n",
       "      <td>2010</td>\n",
       "    </tr>\n",
       "    <tr>\n",
       "      <th>4</th>\n",
       "      <td>Shrek Forever After</td>\n",
       "      <td>P/DW</td>\n",
       "      <td>238700000.0</td>\n",
       "      <td>513900000</td>\n",
       "      <td>2010</td>\n",
       "    </tr>\n",
       "  </tbody>\n",
       "</table>\n",
       "</div>"
      ],
      "text/plain": [
       "                                         title studio  domestic_gross  \\\n",
       "0                                  Toy Story 3     BV     415000000.0   \n",
       "1                   Alice in Wonderland (2010)     BV     334200000.0   \n",
       "2  Harry Potter and the Deathly Hallows Part 1     WB     296000000.0   \n",
       "3                                    Inception     WB     292600000.0   \n",
       "4                          Shrek Forever After   P/DW     238700000.0   \n",
       "\n",
       "  foreign_gross  year  \n",
       "0     652000000  2010  \n",
       "1     691300000  2010  \n",
       "2     664300000  2010  \n",
       "3     535700000  2010  \n",
       "4     513900000  2010  "
      ]
     },
<<<<<<< HEAD
     "execution_count": 26,
=======
     "execution_count": 152,
>>>>>>> origin/main
     "metadata": {},
     "output_type": "execute_result"
    }
   ],
   "source": [
    "bom_raw_df.head()"
   ]
  },
  {
   "cell_type": "code",
<<<<<<< HEAD
   "execution_count": 27,
=======
   "execution_count": 153,
>>>>>>> origin/main
   "metadata": {
    "collapsed": true
   },
   "outputs": [
    {
     "data": {
      "text/html": [
       "<div>\n",
       "<style scoped>\n",
       "    .dataframe tbody tr th:only-of-type {\n",
       "        vertical-align: middle;\n",
       "    }\n",
       "\n",
       "    .dataframe tbody tr th {\n",
       "        vertical-align: top;\n",
       "    }\n",
       "\n",
       "    .dataframe thead th {\n",
       "        text-align: right;\n",
       "    }\n",
       "</style>\n",
       "<table border=\"1\" class=\"dataframe\">\n",
       "  <thead>\n",
       "    <tr style=\"text-align: right;\">\n",
       "      <th></th>\n",
       "      <th>title</th>\n",
       "      <th>studio</th>\n",
       "      <th>domestic_gross</th>\n",
       "      <th>foreign_gross</th>\n",
       "      <th>year</th>\n",
       "    </tr>\n",
       "  </thead>\n",
       "  <tbody>\n",
       "    <tr>\n",
       "      <th>1872</th>\n",
       "      <td>Star Wars: The Force Awakens</td>\n",
       "      <td>BV</td>\n",
       "      <td>936700000.0</td>\n",
       "      <td>1,131.6</td>\n",
       "      <td>2015</td>\n",
       "    </tr>\n",
       "    <tr>\n",
       "      <th>3080</th>\n",
       "      <td>Black Panther</td>\n",
       "      <td>BV</td>\n",
       "      <td>700100000.0</td>\n",
       "      <td>646900000</td>\n",
       "      <td>2018</td>\n",
       "    </tr>\n",
       "    <tr>\n",
       "      <th>3079</th>\n",
       "      <td>Avengers: Infinity War</td>\n",
       "      <td>BV</td>\n",
       "      <td>678800000.0</td>\n",
       "      <td>1,369.5</td>\n",
       "      <td>2018</td>\n",
       "    </tr>\n",
       "    <tr>\n",
       "      <th>1873</th>\n",
       "      <td>Jurassic World</td>\n",
       "      <td>Uni.</td>\n",
       "      <td>652300000.0</td>\n",
       "      <td>1,019.4</td>\n",
       "      <td>2015</td>\n",
       "    </tr>\n",
       "    <tr>\n",
       "      <th>727</th>\n",
       "      <td>Marvel's The Avengers</td>\n",
       "      <td>BV</td>\n",
       "      <td>623400000.0</td>\n",
       "      <td>895500000</td>\n",
       "      <td>2012</td>\n",
       "    </tr>\n",
       "    <tr>\n",
       "      <th>...</th>\n",
       "      <td>...</td>\n",
       "      <td>...</td>\n",
       "      <td>...</td>\n",
       "      <td>...</td>\n",
       "      <td>...</td>\n",
       "    </tr>\n",
       "    <tr>\n",
       "      <th>1975</th>\n",
       "      <td>Surprise - Journey To The West</td>\n",
       "      <td>AR</td>\n",
       "      <td>NaN</td>\n",
       "      <td>49600000</td>\n",
       "      <td>2015</td>\n",
       "    </tr>\n",
       "    <tr>\n",
       "      <th>2392</th>\n",
       "      <td>Finding Mr. Right 2</td>\n",
       "      <td>CL</td>\n",
       "      <td>NaN</td>\n",
       "      <td>114700000</td>\n",
       "      <td>2016</td>\n",
       "    </tr>\n",
       "    <tr>\n",
       "      <th>2468</th>\n",
       "      <td>Solace</td>\n",
       "      <td>LGP</td>\n",
       "      <td>NaN</td>\n",
       "      <td>22400000</td>\n",
       "      <td>2016</td>\n",
       "    </tr>\n",
       "    <tr>\n",
       "      <th>2595</th>\n",
       "      <td>Viral</td>\n",
       "      <td>W/Dim.</td>\n",
       "      <td>NaN</td>\n",
       "      <td>552000</td>\n",
       "      <td>2016</td>\n",
       "    </tr>\n",
       "    <tr>\n",
       "      <th>2825</th>\n",
       "      <td>Secret Superstar</td>\n",
       "      <td>NaN</td>\n",
       "      <td>NaN</td>\n",
       "      <td>122000000</td>\n",
       "      <td>2017</td>\n",
       "    </tr>\n",
       "  </tbody>\n",
       "</table>\n",
       "<p>3387 rows × 5 columns</p>\n",
       "</div>"
      ],
      "text/plain": [
       "                               title  studio  domestic_gross foreign_gross  \\\n",
       "1872    Star Wars: The Force Awakens      BV     936700000.0       1,131.6   \n",
       "3080                   Black Panther      BV     700100000.0     646900000   \n",
       "3079          Avengers: Infinity War      BV     678800000.0       1,369.5   \n",
       "1873                  Jurassic World    Uni.     652300000.0       1,019.4   \n",
       "727            Marvel's The Avengers      BV     623400000.0     895500000   \n",
       "...                              ...     ...             ...           ...   \n",
       "1975  Surprise - Journey To The West      AR             NaN      49600000   \n",
       "2392             Finding Mr. Right 2      CL             NaN     114700000   \n",
       "2468                          Solace     LGP             NaN      22400000   \n",
       "2595                           Viral  W/Dim.             NaN        552000   \n",
       "2825                Secret Superstar     NaN             NaN     122000000   \n",
       "\n",
       "      year  \n",
       "1872  2015  \n",
       "3080  2018  \n",
       "3079  2018  \n",
       "1873  2015  \n",
       "727   2012  \n",
       "...    ...  \n",
       "1975  2015  \n",
       "2392  2016  \n",
       "2468  2016  \n",
       "2595  2016  \n",
       "2825  2017  \n",
       "\n",
       "[3387 rows x 5 columns]"
      ]
     },
<<<<<<< HEAD
     "execution_count": 27,
=======
     "execution_count": 153,
>>>>>>> origin/main
     "metadata": {},
     "output_type": "execute_result"
    }
   ],
   "source": [
    "bom_raw_df.sort_values(by=\"domestic_gross\", ascending=False)"
   ]
  },
  {
   "cell_type": "code",
<<<<<<< HEAD
   "execution_count": 28,
=======
   "execution_count": 154,
>>>>>>> origin/main
   "metadata": {
    "collapsed": true
   },
   "outputs": [
    {
     "data": {
      "text/html": [
       "<div>\n",
       "<style scoped>\n",
       "    .dataframe tbody tr th:only-of-type {\n",
       "        vertical-align: middle;\n",
       "    }\n",
       "\n",
       "    .dataframe tbody tr th {\n",
       "        vertical-align: top;\n",
       "    }\n",
       "\n",
       "    .dataframe thead th {\n",
       "        text-align: right;\n",
       "    }\n",
       "</style>\n",
       "<table border=\"1\" class=\"dataframe\">\n",
       "  <thead>\n",
       "    <tr style=\"text-align: right;\">\n",
       "      <th></th>\n",
       "      <th>domestic_gross</th>\n",
       "      <th>year</th>\n",
       "    </tr>\n",
       "  </thead>\n",
       "  <tbody>\n",
       "    <tr>\n",
       "      <th>count</th>\n",
       "      <td>3.359000e+03</td>\n",
       "      <td>3387.000000</td>\n",
       "    </tr>\n",
       "    <tr>\n",
       "      <th>mean</th>\n",
       "      <td>2.874585e+07</td>\n",
       "      <td>2013.958075</td>\n",
       "    </tr>\n",
       "    <tr>\n",
       "      <th>std</th>\n",
       "      <td>6.698250e+07</td>\n",
       "      <td>2.478141</td>\n",
       "    </tr>\n",
       "    <tr>\n",
       "      <th>min</th>\n",
       "      <td>1.000000e+02</td>\n",
       "      <td>2010.000000</td>\n",
       "    </tr>\n",
       "    <tr>\n",
       "      <th>25%</th>\n",
       "      <td>1.200000e+05</td>\n",
       "      <td>2012.000000</td>\n",
       "    </tr>\n",
       "    <tr>\n",
       "      <th>50%</th>\n",
       "      <td>1.400000e+06</td>\n",
       "      <td>2014.000000</td>\n",
       "    </tr>\n",
       "    <tr>\n",
       "      <th>75%</th>\n",
       "      <td>2.790000e+07</td>\n",
       "      <td>2016.000000</td>\n",
       "    </tr>\n",
       "    <tr>\n",
       "      <th>max</th>\n",
       "      <td>9.367000e+08</td>\n",
       "      <td>2018.000000</td>\n",
       "    </tr>\n",
       "  </tbody>\n",
       "</table>\n",
       "</div>"
      ],
      "text/plain": [
       "       domestic_gross         year\n",
       "count    3.359000e+03  3387.000000\n",
       "mean     2.874585e+07  2013.958075\n",
       "std      6.698250e+07     2.478141\n",
       "min      1.000000e+02  2010.000000\n",
       "25%      1.200000e+05  2012.000000\n",
       "50%      1.400000e+06  2014.000000\n",
       "75%      2.790000e+07  2016.000000\n",
       "max      9.367000e+08  2018.000000"
      ]
     },
<<<<<<< HEAD
     "execution_count": 28,
=======
     "execution_count": 154,
>>>>>>> origin/main
     "metadata": {},
     "output_type": "execute_result"
    }
   ],
   "source": [
    "bom_raw_df.describe()"
   ]
  },
  {
   "cell_type": "code",
<<<<<<< HEAD
   "execution_count": 29,
=======
   "execution_count": 155,
>>>>>>> origin/main
   "metadata": {
    "collapsed": true
   },
   "outputs": [
    {
     "data": {
      "text/plain": [
       "foreign_gross\n",
       "False    2037\n",
       "True     1350\n",
       "Name: count, dtype: int64"
      ]
     },
<<<<<<< HEAD
     "execution_count": 29,
=======
     "execution_count": 155,
>>>>>>> origin/main
     "metadata": {},
     "output_type": "execute_result"
    }
   ],
   "source": [
    "bom_raw_df['foreign_gross'].isna().value_counts()"
   ]
  },
  {
   "cell_type": "code",
<<<<<<< HEAD
   "execution_count": 30,
=======
   "execution_count": 156,
>>>>>>> origin/main
   "metadata": {
    "collapsed": true
   },
   "outputs": [
    {
     "data": {
      "text/plain": [
<<<<<<< HEAD
       "studio\n",
       "IFC           166\n",
       "Uni.          147\n",
       "WB            140\n",
       "Fox           136\n",
       "Magn.         136\n",
       "             ... \n",
       "E1              1\n",
       "PI              1\n",
       "ELS             1\n",
       "PalT            1\n",
       "Synergetic      1\n",
       "Name: count, Length: 257, dtype: int64"
      ]
     },
     "execution_count": 30,
=======
       "IFC         166\n",
       "Uni.        147\n",
       "WB          140\n",
       "Fox         136\n",
       "Magn.       136\n",
       "           ... \n",
       "PalUni        1\n",
       "KKM           1\n",
       "GrtIndia      1\n",
       "AaF           1\n",
       "BSC           1\n",
       "Name: studio, Length: 257, dtype: int64"
      ]
     },
     "execution_count": 156,
>>>>>>> origin/main
     "metadata": {},
     "output_type": "execute_result"
    }
   ],
   "source": [
    "bom_raw_df['studio'].value_counts()"
   ]
  },
  {
   "cell_type": "markdown",
   "metadata": {},
   "source": [
    "### TheMovieDB (John)"
   ]
  },
  {
   "cell_type": "markdown",
   "metadata": {},
   "source": [
    "Reading in the TheMovieDB file and looking at the data."
   ]
  },
  {
   "cell_type": "code",
<<<<<<< HEAD
   "execution_count": 31,
=======
   "execution_count": 157,
>>>>>>> origin/main
   "metadata": {},
   "outputs": [],
   "source": [
    "df_tmdb = pd.read_csv(\"data/tmdb.movies.csv.gz\", parse_dates=['release_date'])"
   ]
  },
  {
   "cell_type": "code",
<<<<<<< HEAD
   "execution_count": 32,
=======
   "execution_count": 158,
>>>>>>> origin/main
   "metadata": {
    "collapsed": true
   },
   "outputs": [
    {
     "data": {
      "text/html": [
       "<div>\n",
       "<style scoped>\n",
       "    .dataframe tbody tr th:only-of-type {\n",
       "        vertical-align: middle;\n",
       "    }\n",
       "\n",
       "    .dataframe tbody tr th {\n",
       "        vertical-align: top;\n",
       "    }\n",
       "\n",
       "    .dataframe thead th {\n",
       "        text-align: right;\n",
       "    }\n",
       "</style>\n",
       "<table border=\"1\" class=\"dataframe\">\n",
       "  <thead>\n",
       "    <tr style=\"text-align: right;\">\n",
       "      <th></th>\n",
       "      <th>Unnamed: 0</th>\n",
       "      <th>genre_ids</th>\n",
       "      <th>id</th>\n",
       "      <th>original_language</th>\n",
       "      <th>original_title</th>\n",
       "      <th>popularity</th>\n",
       "      <th>release_date</th>\n",
       "      <th>title</th>\n",
       "      <th>vote_average</th>\n",
       "      <th>vote_count</th>\n",
       "    </tr>\n",
       "  </thead>\n",
       "  <tbody>\n",
       "    <tr>\n",
       "      <th>0</th>\n",
       "      <td>0</td>\n",
       "      <td>[12, 14, 10751]</td>\n",
       "      <td>12444</td>\n",
       "      <td>en</td>\n",
       "      <td>Harry Potter and the Deathly Hallows: Part 1</td>\n",
       "      <td>33.533</td>\n",
       "      <td>2010-11-19</td>\n",
       "      <td>Harry Potter and the Deathly Hallows: Part 1</td>\n",
       "      <td>7.7</td>\n",
       "      <td>10788</td>\n",
       "    </tr>\n",
       "    <tr>\n",
       "      <th>1</th>\n",
       "      <td>1</td>\n",
       "      <td>[14, 12, 16, 10751]</td>\n",
       "      <td>10191</td>\n",
       "      <td>en</td>\n",
       "      <td>How to Train Your Dragon</td>\n",
       "      <td>28.734</td>\n",
       "      <td>2010-03-26</td>\n",
       "      <td>How to Train Your Dragon</td>\n",
       "      <td>7.7</td>\n",
       "      <td>7610</td>\n",
       "    </tr>\n",
       "    <tr>\n",
       "      <th>2</th>\n",
       "      <td>2</td>\n",
       "      <td>[12, 28, 878]</td>\n",
       "      <td>10138</td>\n",
       "      <td>en</td>\n",
       "      <td>Iron Man 2</td>\n",
       "      <td>28.515</td>\n",
       "      <td>2010-05-07</td>\n",
       "      <td>Iron Man 2</td>\n",
       "      <td>6.8</td>\n",
       "      <td>12368</td>\n",
       "    </tr>\n",
       "    <tr>\n",
       "      <th>3</th>\n",
       "      <td>3</td>\n",
       "      <td>[16, 35, 10751]</td>\n",
       "      <td>862</td>\n",
       "      <td>en</td>\n",
       "      <td>Toy Story</td>\n",
       "      <td>28.005</td>\n",
       "      <td>1995-11-22</td>\n",
       "      <td>Toy Story</td>\n",
       "      <td>7.9</td>\n",
       "      <td>10174</td>\n",
       "    </tr>\n",
       "    <tr>\n",
       "      <th>4</th>\n",
       "      <td>4</td>\n",
       "      <td>[28, 878, 12]</td>\n",
       "      <td>27205</td>\n",
       "      <td>en</td>\n",
       "      <td>Inception</td>\n",
       "      <td>27.920</td>\n",
       "      <td>2010-07-16</td>\n",
       "      <td>Inception</td>\n",
       "      <td>8.3</td>\n",
       "      <td>22186</td>\n",
       "    </tr>\n",
       "  </tbody>\n",
       "</table>\n",
       "</div>"
      ],
      "text/plain": [
       "   Unnamed: 0            genre_ids     id original_language  \\\n",
       "0           0      [12, 14, 10751]  12444                en   \n",
       "1           1  [14, 12, 16, 10751]  10191                en   \n",
       "2           2        [12, 28, 878]  10138                en   \n",
       "3           3      [16, 35, 10751]    862                en   \n",
       "4           4        [28, 878, 12]  27205                en   \n",
       "\n",
       "                                 original_title  popularity release_date  \\\n",
       "0  Harry Potter and the Deathly Hallows: Part 1      33.533   2010-11-19   \n",
       "1                      How to Train Your Dragon      28.734   2010-03-26   \n",
       "2                                    Iron Man 2      28.515   2010-05-07   \n",
       "3                                     Toy Story      28.005   1995-11-22   \n",
       "4                                     Inception      27.920   2010-07-16   \n",
       "\n",
       "                                          title  vote_average  vote_count  \n",
       "0  Harry Potter and the Deathly Hallows: Part 1           7.7       10788  \n",
       "1                      How to Train Your Dragon           7.7        7610  \n",
       "2                                    Iron Man 2           6.8       12368  \n",
       "3                                     Toy Story           7.9       10174  \n",
       "4                                     Inception           8.3       22186  "
      ]
     },
<<<<<<< HEAD
     "execution_count": 32,
=======
     "execution_count": 158,
>>>>>>> origin/main
     "metadata": {},
     "output_type": "execute_result"
    }
   ],
   "source": [
    "df_tmdb.head()"
   ]
  },
  {
   "cell_type": "code",
<<<<<<< HEAD
   "execution_count": 33,
=======
   "execution_count": 159,
>>>>>>> origin/main
   "metadata": {
    "collapsed": true
   },
   "outputs": [
    {
     "name": "stdout",
     "output_type": "stream",
     "text": [
      "<class 'pandas.core.frame.DataFrame'>\n",
      "RangeIndex: 26517 entries, 0 to 26516\n",
      "Data columns (total 10 columns):\n",
      " #   Column             Non-Null Count  Dtype         \n",
      "---  ------             --------------  -----         \n",
      " 0   Unnamed: 0         26517 non-null  int64         \n",
      " 1   genre_ids          26517 non-null  object        \n",
      " 2   id                 26517 non-null  int64         \n",
      " 3   original_language  26517 non-null  object        \n",
      " 4   original_title     26517 non-null  object        \n",
      " 5   popularity         26517 non-null  float64       \n",
      " 6   release_date       26517 non-null  datetime64[ns]\n",
      " 7   title              26517 non-null  object        \n",
      " 8   vote_average       26517 non-null  float64       \n",
      " 9   vote_count         26517 non-null  int64         \n",
      "dtypes: datetime64[ns](1), float64(2), int64(3), object(4)\n",
      "memory usage: 2.0+ MB\n"
     ]
    }
   ],
   "source": [
    "df_tmdb.info()"
   ]
  },
  {
   "cell_type": "code",
<<<<<<< HEAD
   "execution_count": 34,
=======
   "execution_count": 160,
>>>>>>> origin/main
   "metadata": {
    "collapsed": true
   },
   "outputs": [
    {
     "data": {
      "text/html": [
       "<div>\n",
       "<style scoped>\n",
       "    .dataframe tbody tr th:only-of-type {\n",
       "        vertical-align: middle;\n",
       "    }\n",
       "\n",
       "    .dataframe tbody tr th {\n",
       "        vertical-align: top;\n",
       "    }\n",
       "\n",
       "    .dataframe thead th {\n",
       "        text-align: right;\n",
       "    }\n",
       "</style>\n",
       "<table border=\"1\" class=\"dataframe\">\n",
       "  <thead>\n",
       "    <tr style=\"text-align: right;\">\n",
       "      <th></th>\n",
       "      <th>Unnamed: 0</th>\n",
       "      <th>genre_ids</th>\n",
       "      <th>id</th>\n",
       "      <th>original_language</th>\n",
       "      <th>original_title</th>\n",
       "      <th>popularity</th>\n",
       "      <th>release_date</th>\n",
       "      <th>title</th>\n",
       "      <th>vote_average</th>\n",
       "      <th>vote_count</th>\n",
       "    </tr>\n",
       "  </thead>\n",
       "  <tbody>\n",
       "    <tr>\n",
       "      <th>count</th>\n",
       "      <td>26517.00000</td>\n",
       "      <td>26517</td>\n",
       "      <td>26517.000000</td>\n",
       "      <td>26517</td>\n",
       "      <td>26517</td>\n",
       "      <td>26517.000000</td>\n",
       "      <td>26517</td>\n",
       "      <td>26517</td>\n",
       "      <td>26517.000000</td>\n",
       "      <td>26517.000000</td>\n",
       "    </tr>\n",
       "    <tr>\n",
       "      <th>unique</th>\n",
       "      <td>NaN</td>\n",
       "      <td>2477</td>\n",
       "      <td>NaN</td>\n",
       "      <td>76</td>\n",
       "      <td>24835</td>\n",
       "      <td>NaN</td>\n",
       "      <td>NaN</td>\n",
       "      <td>24688</td>\n",
       "      <td>NaN</td>\n",
       "      <td>NaN</td>\n",
       "    </tr>\n",
       "    <tr>\n",
       "      <th>top</th>\n",
       "      <td>NaN</td>\n",
       "      <td>[99]</td>\n",
       "      <td>NaN</td>\n",
       "      <td>en</td>\n",
       "      <td>Eden</td>\n",
       "      <td>NaN</td>\n",
<<<<<<< HEAD
       "      <td>NaN</td>\n",
=======
       "      <td>2010-01-01 00:00:00</td>\n",
>>>>>>> origin/main
       "      <td>Eden</td>\n",
       "      <td>NaN</td>\n",
       "      <td>NaN</td>\n",
       "    </tr>\n",
       "    <tr>\n",
       "      <th>freq</th>\n",
       "      <td>NaN</td>\n",
       "      <td>3700</td>\n",
       "      <td>NaN</td>\n",
       "      <td>23291</td>\n",
       "      <td>7</td>\n",
       "      <td>NaN</td>\n",
       "      <td>NaN</td>\n",
       "      <td>7</td>\n",
       "      <td>NaN</td>\n",
       "      <td>NaN</td>\n",
       "    </tr>\n",
       "    <tr>\n",
       "      <th>mean</th>\n",
       "      <td>13258.00000</td>\n",
       "      <td>NaN</td>\n",
       "      <td>295050.153260</td>\n",
       "      <td>NaN</td>\n",
       "      <td>NaN</td>\n",
       "      <td>3.130912</td>\n",
       "      <td>2014-06-10 02:50:14.730173184</td>\n",
       "      <td>NaN</td>\n",
       "      <td>5.991281</td>\n",
       "      <td>194.224837</td>\n",
       "    </tr>\n",
       "    <tr>\n",
       "      <th>min</th>\n",
       "      <td>0.00000</td>\n",
       "      <td>NaN</td>\n",
       "      <td>27.000000</td>\n",
       "      <td>NaN</td>\n",
       "      <td>NaN</td>\n",
       "      <td>0.600000</td>\n",
       "      <td>1930-04-29 00:00:00</td>\n",
       "      <td>NaN</td>\n",
       "      <td>0.000000</td>\n",
       "      <td>1.000000</td>\n",
       "    </tr>\n",
       "    <tr>\n",
       "      <th>25%</th>\n",
       "      <td>6629.00000</td>\n",
       "      <td>NaN</td>\n",
       "      <td>157851.000000</td>\n",
       "      <td>NaN</td>\n",
       "      <td>NaN</td>\n",
       "      <td>0.600000</td>\n",
       "      <td>2012-06-29 00:00:00</td>\n",
       "      <td>NaN</td>\n",
       "      <td>5.000000</td>\n",
       "      <td>2.000000</td>\n",
       "    </tr>\n",
       "    <tr>\n",
       "      <th>50%</th>\n",
       "      <td>13258.00000</td>\n",
       "      <td>NaN</td>\n",
       "      <td>309581.000000</td>\n",
       "      <td>NaN</td>\n",
       "      <td>NaN</td>\n",
       "      <td>1.374000</td>\n",
       "      <td>2014-09-19 00:00:00</td>\n",
       "      <td>NaN</td>\n",
       "      <td>6.000000</td>\n",
       "      <td>5.000000</td>\n",
       "    </tr>\n",
       "    <tr>\n",
       "      <th>75%</th>\n",
       "      <td>19887.00000</td>\n",
       "      <td>NaN</td>\n",
       "      <td>419542.000000</td>\n",
       "      <td>NaN</td>\n",
       "      <td>NaN</td>\n",
       "      <td>3.694000</td>\n",
       "      <td>2016-10-01 00:00:00</td>\n",
       "      <td>NaN</td>\n",
       "      <td>7.000000</td>\n",
       "      <td>28.000000</td>\n",
       "    </tr>\n",
       "    <tr>\n",
       "      <th>max</th>\n",
       "      <td>26516.00000</td>\n",
       "      <td>NaN</td>\n",
       "      <td>608444.000000</td>\n",
       "      <td>NaN</td>\n",
       "      <td>NaN</td>\n",
       "      <td>80.773000</td>\n",
       "      <td>2020-12-25 00:00:00</td>\n",
       "      <td>NaN</td>\n",
       "      <td>10.000000</td>\n",
       "      <td>22186.000000</td>\n",
       "    </tr>\n",
       "    <tr>\n",
       "      <th>std</th>\n",
       "      <td>7654.94288</td>\n",
       "      <td>NaN</td>\n",
       "      <td>153661.615648</td>\n",
       "      <td>NaN</td>\n",
       "      <td>NaN</td>\n",
       "      <td>4.355229</td>\n",
       "      <td>NaN</td>\n",
       "      <td>NaN</td>\n",
       "      <td>1.852946</td>\n",
       "      <td>960.961095</td>\n",
       "    </tr>\n",
       "  </tbody>\n",
       "</table>\n",
       "</div>"
      ],
      "text/plain": [
       "         Unnamed: 0 genre_ids             id original_language original_title  \\\n",
       "count   26517.00000     26517   26517.000000             26517          26517   \n",
       "unique          NaN      2477            NaN                76          24835   \n",
       "top             NaN      [99]            NaN                en           Eden   \n",
       "freq            NaN      3700            NaN             23291              7   \n",
       "mean    13258.00000       NaN  295050.153260               NaN            NaN   \n",
       "min         0.00000       NaN      27.000000               NaN            NaN   \n",
       "25%      6629.00000       NaN  157851.000000               NaN            NaN   \n",
       "50%     13258.00000       NaN  309581.000000               NaN            NaN   \n",
       "75%     19887.00000       NaN  419542.000000               NaN            NaN   \n",
       "max     26516.00000       NaN  608444.000000               NaN            NaN   \n",
       "std      7654.94288       NaN  153661.615648               NaN            NaN   \n",
       "\n",
       "          popularity                   release_date  title  vote_average  \\\n",
       "count   26517.000000                          26517  26517  26517.000000   \n",
       "unique           NaN                            NaN  24688           NaN   \n",
       "top              NaN                            NaN   Eden           NaN   \n",
       "freq             NaN                            NaN      7           NaN   \n",
       "mean        3.130912  2014-06-10 02:50:14.730173184    NaN      5.991281   \n",
       "min         0.600000            1930-04-29 00:00:00    NaN      0.000000   \n",
       "25%         0.600000            2012-06-29 00:00:00    NaN      5.000000   \n",
       "50%         1.374000            2014-09-19 00:00:00    NaN      6.000000   \n",
       "75%         3.694000            2016-10-01 00:00:00    NaN      7.000000   \n",
       "max        80.773000            2020-12-25 00:00:00    NaN     10.000000   \n",
       "std         4.355229                            NaN    NaN      1.852946   \n",
       "\n",
<<<<<<< HEAD
       "          vote_count  \n",
       "count   26517.000000  \n",
       "unique           NaN  \n",
       "top              NaN  \n",
       "freq             NaN  \n",
       "mean      194.224837  \n",
       "min         1.000000  \n",
       "25%         2.000000  \n",
       "50%         5.000000  \n",
       "75%        28.000000  \n",
       "max     22186.000000  \n",
       "std       960.961095  "
      ]
     },
     "execution_count": 34,
=======
       "          popularity         release_date  title  vote_average    vote_count  \n",
       "count   26517.000000                26517  26517  26517.000000  26517.000000  \n",
       "unique           NaN                 3433  24688           NaN           NaN  \n",
       "top              NaN  2010-01-01 00:00:00   Eden           NaN           NaN  \n",
       "freq             NaN                  269      7           NaN           NaN  \n",
       "first            NaN  1930-04-29 00:00:00    NaN           NaN           NaN  \n",
       "last             NaN  2020-12-25 00:00:00    NaN           NaN           NaN  \n",
       "mean        3.130912                  NaN    NaN      5.991281    194.224837  \n",
       "std         4.355229                  NaN    NaN      1.852946    960.961095  \n",
       "min         0.600000                  NaN    NaN      0.000000      1.000000  \n",
       "25%         0.600000                  NaN    NaN      5.000000      2.000000  \n",
       "50%         1.374000                  NaN    NaN      6.000000      5.000000  \n",
       "75%         3.694000                  NaN    NaN      7.000000     28.000000  \n",
       "max        80.773000                  NaN    NaN     10.000000  22186.000000  "
      ]
     },
     "execution_count": 160,
>>>>>>> origin/main
     "metadata": {},
     "output_type": "execute_result"
    }
   ],
   "source": [
    "df_tmdb.describe(include=\"all\")"
   ]
  },
  {
   "cell_type": "markdown",
   "metadata": {},
   "source": [
    "Checking for duplicates. Feature engineering release year and release month. "
   ]
  },
  {
   "cell_type": "code",
<<<<<<< HEAD
   "execution_count": 35,
=======
   "execution_count": 161,
>>>>>>> origin/main
   "metadata": {
    "collapsed": true
   },
   "outputs": [
    {
     "data": {
      "text/plain": [
       "False    26517\n",
       "Name: count, dtype: int64"
      ]
     },
<<<<<<< HEAD
     "execution_count": 35,
=======
     "execution_count": 161,
>>>>>>> origin/main
     "metadata": {},
     "output_type": "execute_result"
    }
   ],
   "source": [
    "df_tmdb.duplicated().value_counts()"
   ]
  },
  {
   "cell_type": "code",
<<<<<<< HEAD
   "execution_count": 36,
=======
   "execution_count": 162,
>>>>>>> origin/main
   "metadata": {},
   "outputs": [],
   "source": [
    "df_tmdb[\"release_year\"] = pd.DatetimeIndex(df_tmdb[\"release_date\"]).year\n",
    "df_tmdb[\"release_month\"] = pd.DatetimeIndex(df_tmdb[\"release_date\"]).month"
   ]
  },
  {
   "cell_type": "code",
<<<<<<< HEAD
   "execution_count": 37,
=======
   "execution_count": 163,
>>>>>>> origin/main
   "metadata": {
    "collapsed": true
   },
   "outputs": [
    {
     "data": {
      "text/html": [
       "<div>\n",
       "<style scoped>\n",
       "    .dataframe tbody tr th:only-of-type {\n",
       "        vertical-align: middle;\n",
       "    }\n",
       "\n",
       "    .dataframe tbody tr th {\n",
       "        vertical-align: top;\n",
       "    }\n",
       "\n",
       "    .dataframe thead th {\n",
       "        text-align: right;\n",
       "    }\n",
       "</style>\n",
       "<table border=\"1\" class=\"dataframe\">\n",
       "  <thead>\n",
       "    <tr style=\"text-align: right;\">\n",
       "      <th></th>\n",
       "      <th>Unnamed: 0</th>\n",
       "      <th>genre_ids</th>\n",
       "      <th>id</th>\n",
       "      <th>original_language</th>\n",
       "      <th>original_title</th>\n",
       "      <th>popularity</th>\n",
       "      <th>release_date</th>\n",
       "      <th>title</th>\n",
       "      <th>vote_average</th>\n",
       "      <th>vote_count</th>\n",
       "      <th>release_year</th>\n",
       "      <th>release_month</th>\n",
       "    </tr>\n",
       "  </thead>\n",
       "  <tbody>\n",
       "    <tr>\n",
       "      <th>0</th>\n",
       "      <td>0</td>\n",
       "      <td>[12, 14, 10751]</td>\n",
       "      <td>12444</td>\n",
       "      <td>en</td>\n",
       "      <td>Harry Potter and the Deathly Hallows: Part 1</td>\n",
       "      <td>33.533</td>\n",
       "      <td>2010-11-19</td>\n",
       "      <td>Harry Potter and the Deathly Hallows: Part 1</td>\n",
       "      <td>7.7</td>\n",
       "      <td>10788</td>\n",
       "      <td>2010</td>\n",
       "      <td>11</td>\n",
       "    </tr>\n",
       "    <tr>\n",
       "      <th>1</th>\n",
       "      <td>1</td>\n",
       "      <td>[14, 12, 16, 10751]</td>\n",
       "      <td>10191</td>\n",
       "      <td>en</td>\n",
       "      <td>How to Train Your Dragon</td>\n",
       "      <td>28.734</td>\n",
       "      <td>2010-03-26</td>\n",
       "      <td>How to Train Your Dragon</td>\n",
       "      <td>7.7</td>\n",
       "      <td>7610</td>\n",
       "      <td>2010</td>\n",
       "      <td>3</td>\n",
       "    </tr>\n",
       "    <tr>\n",
       "      <th>2</th>\n",
       "      <td>2</td>\n",
       "      <td>[12, 28, 878]</td>\n",
       "      <td>10138</td>\n",
       "      <td>en</td>\n",
       "      <td>Iron Man 2</td>\n",
       "      <td>28.515</td>\n",
       "      <td>2010-05-07</td>\n",
       "      <td>Iron Man 2</td>\n",
       "      <td>6.8</td>\n",
       "      <td>12368</td>\n",
       "      <td>2010</td>\n",
       "      <td>5</td>\n",
       "    </tr>\n",
       "    <tr>\n",
       "      <th>3</th>\n",
       "      <td>3</td>\n",
       "      <td>[16, 35, 10751]</td>\n",
       "      <td>862</td>\n",
       "      <td>en</td>\n",
       "      <td>Toy Story</td>\n",
       "      <td>28.005</td>\n",
       "      <td>1995-11-22</td>\n",
       "      <td>Toy Story</td>\n",
       "      <td>7.9</td>\n",
       "      <td>10174</td>\n",
       "      <td>1995</td>\n",
       "      <td>11</td>\n",
       "    </tr>\n",
       "    <tr>\n",
       "      <th>4</th>\n",
       "      <td>4</td>\n",
       "      <td>[28, 878, 12]</td>\n",
       "      <td>27205</td>\n",
       "      <td>en</td>\n",
       "      <td>Inception</td>\n",
       "      <td>27.920</td>\n",
       "      <td>2010-07-16</td>\n",
       "      <td>Inception</td>\n",
       "      <td>8.3</td>\n",
       "      <td>22186</td>\n",
       "      <td>2010</td>\n",
       "      <td>7</td>\n",
       "    </tr>\n",
       "  </tbody>\n",
       "</table>\n",
       "</div>"
      ],
      "text/plain": [
       "   Unnamed: 0            genre_ids     id original_language  \\\n",
       "0           0      [12, 14, 10751]  12444                en   \n",
       "1           1  [14, 12, 16, 10751]  10191                en   \n",
       "2           2        [12, 28, 878]  10138                en   \n",
       "3           3      [16, 35, 10751]    862                en   \n",
       "4           4        [28, 878, 12]  27205                en   \n",
       "\n",
       "                                 original_title  popularity release_date  \\\n",
       "0  Harry Potter and the Deathly Hallows: Part 1      33.533   2010-11-19   \n",
       "1                      How to Train Your Dragon      28.734   2010-03-26   \n",
       "2                                    Iron Man 2      28.515   2010-05-07   \n",
       "3                                     Toy Story      28.005   1995-11-22   \n",
       "4                                     Inception      27.920   2010-07-16   \n",
       "\n",
       "                                          title  vote_average  vote_count  \\\n",
       "0  Harry Potter and the Deathly Hallows: Part 1           7.7       10788   \n",
       "1                      How to Train Your Dragon           7.7        7610   \n",
       "2                                    Iron Man 2           6.8       12368   \n",
       "3                                     Toy Story           7.9       10174   \n",
       "4                                     Inception           8.3       22186   \n",
       "\n",
       "   release_year  release_month  \n",
       "0          2010             11  \n",
       "1          2010              3  \n",
       "2          2010              5  \n",
       "3          1995             11  \n",
       "4          2010              7  "
      ]
     },
<<<<<<< HEAD
     "execution_count": 37,
=======
     "execution_count": 163,
>>>>>>> origin/main
     "metadata": {},
     "output_type": "execute_result"
    }
   ],
   "source": [
    "df_tmdb.head()"
   ]
  },
  {
   "cell_type": "code",
<<<<<<< HEAD
   "execution_count": 38,
=======
   "execution_count": 164,
>>>>>>> origin/main
   "metadata": {},
   "outputs": [],
   "source": [
    "df_tmdb20=df_tmdb[df_tmdb[\"release_year\"]>=2000]"
   ]
  },
  {
   "cell_type": "code",
<<<<<<< HEAD
   "execution_count": 39,
=======
   "execution_count": 165,
>>>>>>> origin/main
   "metadata": {
    "collapsed": true
   },
   "outputs": [
    {
     "name": "stdout",
     "output_type": "stream",
     "text": [
      "<class 'pandas.core.frame.DataFrame'>\n",
      "Index: 26398 entries, 0 to 26516\n",
      "Data columns (total 12 columns):\n",
      " #   Column             Non-Null Count  Dtype         \n",
      "---  ------             --------------  -----         \n",
      " 0   Unnamed: 0         26398 non-null  int64         \n",
      " 1   genre_ids          26398 non-null  object        \n",
      " 2   id                 26398 non-null  int64         \n",
      " 3   original_language  26398 non-null  object        \n",
      " 4   original_title     26398 non-null  object        \n",
      " 5   popularity         26398 non-null  float64       \n",
      " 6   release_date       26398 non-null  datetime64[ns]\n",
      " 7   title              26398 non-null  object        \n",
      " 8   vote_average       26398 non-null  float64       \n",
      " 9   vote_count         26398 non-null  int64         \n",
      " 10  release_year       26398 non-null  int32         \n",
      " 11  release_month      26398 non-null  int32         \n",
      "dtypes: datetime64[ns](1), float64(2), int32(2), int64(3), object(4)\n",
      "memory usage: 2.4+ MB\n"
     ]
    }
   ],
   "source": [
    "df_tmdb20.info()"
   ]
  },
  {
   "cell_type": "code",
<<<<<<< HEAD
   "execution_count": 40,
=======
   "execution_count": 166,
>>>>>>> origin/main
   "metadata": {
    "collapsed": true
   },
   "outputs": [
    {
     "data": {
      "text/plain": [
       "release_month\n",
       "1     0.118380\n",
       "10    0.114478\n",
       "4     0.096788\n",
       "3     0.090727\n",
       "11    0.088075\n",
       "9     0.085575\n",
       "6     0.081673\n",
       "12    0.072619\n",
       "5     0.070422\n",
       "8     0.063982\n",
       "2     0.060724\n",
       "7     0.056557\n",
       "Name: proportion, dtype: float64"
      ]
     },
<<<<<<< HEAD
     "execution_count": 40,
=======
     "execution_count": 166,
>>>>>>> origin/main
     "metadata": {},
     "output_type": "execute_result"
    }
   ],
   "source": [
    "df_tmdb20[\"release_month\"].value_counts(normalize=True)"
   ]
  },
  {
   "cell_type": "code",
<<<<<<< HEAD
   "execution_count": 41,
=======
   "execution_count": 167,
>>>>>>> origin/main
   "metadata": {
    "collapsed": true
   },
   "outputs": [
    {
     "data": {
      "text/plain": [
       "release_year\n",
       "2015    3258\n",
       "2016    3192\n",
       "2013    3147\n",
       "2017    3145\n",
       "2014    3137\n",
       "2011    2696\n",
       "2012    2659\n",
       "2018    2587\n",
       "2010    2406\n",
       "2019      63\n",
       "2009      40\n",
       "2008      14\n",
       "2004      10\n",
       "2005       9\n",
       "2006       9\n",
       "2007       9\n",
       "2002       6\n",
       "2000       5\n",
       "2003       4\n",
       "2001       1\n",
       "2020       1\n",
       "Name: count, dtype: int64"
      ]
     },
<<<<<<< HEAD
     "execution_count": 41,
=======
     "execution_count": 167,
>>>>>>> origin/main
     "metadata": {},
     "output_type": "execute_result"
    }
   ],
   "source": [
    "df_tmdb20[\"release_year\"].value_counts()"
   ]
  },
  {
   "cell_type": "markdown",
   "metadata": {},
   "source": [
    "Feature engineering genre ids."
   ]
  },
  {
   "cell_type": "code",
<<<<<<< HEAD
   "execution_count": 42,
=======
   "execution_count": 168,
>>>>>>> origin/main
   "metadata": {},
   "outputs": [],
   "source": [
    "#Action\n",
    "df_tmdb20[\"Action\"]=0\n",
    "df_tmdb20.loc[df_tmdb20[\"genre_ids\"].str.contains(\"28\"), \"Action\"]=1"
   ]
  },
  {
   "cell_type": "code",
<<<<<<< HEAD
   "execution_count": 43,
=======
   "execution_count": 169,
>>>>>>> origin/main
   "metadata": {},
   "outputs": [],
   "source": [
    "#Adventure\n",
    "df_tmdb20[\"Adventure\"]=0\n",
    "df_tmdb20.loc[df_tmdb20[\"genre_ids\"].str.contains(\"12\"), \"Adventure\"]=1"
   ]
  },
  {
   "cell_type": "code",
<<<<<<< HEAD
   "execution_count": 44,
=======
   "execution_count": 170,
>>>>>>> origin/main
   "metadata": {},
   "outputs": [],
   "source": [
    "#Animation\n",
    "df_tmdb20[\"Animation\"]=0\n",
    "df_tmdb20.loc[df_tmdb20[\"genre_ids\"].str.contains(\"16\"), \"Animation\"]=1"
   ]
  },
  {
   "cell_type": "code",
<<<<<<< HEAD
   "execution_count": 45,
=======
   "execution_count": 171,
>>>>>>> origin/main
   "metadata": {},
   "outputs": [],
   "source": [
    "#Comedy\n",
    "df_tmdb20[\"Comedy\"]=0\n",
    "df_tmdb20.loc[df_tmdb20[\"genre_ids\"].str.contains(\"35\"), \"Comedy\"]=1"
   ]
  },
  {
   "cell_type": "code",
<<<<<<< HEAD
   "execution_count": 46,
=======
   "execution_count": 172,
>>>>>>> origin/main
   "metadata": {},
   "outputs": [],
   "source": [
    "#Crime\n",
    "df_tmdb20[\"Crime\"]=0\n",
    "df_tmdb20.loc[df_tmdb20[\"genre_ids\"].str.contains(\"80\"), \"Crime\"]=1"
   ]
  },
  {
   "cell_type": "code",
<<<<<<< HEAD
   "execution_count": 47,
=======
   "execution_count": 173,
>>>>>>> origin/main
   "metadata": {},
   "outputs": [],
   "source": [
    "#Documentary\n",
    "df_tmdb20[\"Documentary\"]=0\n",
    "df_tmdb20.loc[df_tmdb20[\"genre_ids\"].str.contains(\"99\"), \"Documentary\"]=1"
   ]
  },
  {
   "cell_type": "code",
<<<<<<< HEAD
   "execution_count": 48,
=======
   "execution_count": 174,
>>>>>>> origin/main
   "metadata": {},
   "outputs": [],
   "source": [
    "#Drama\n",
    "df_tmdb20[\"Drama\"]=0\n",
    "df_tmdb20.loc[df_tmdb20[\"genre_ids\"].str.contains(\"18\"), \"Drama\"]=1"
   ]
  },
  {
   "cell_type": "code",
<<<<<<< HEAD
   "execution_count": 49,
=======
   "execution_count": 175,
>>>>>>> origin/main
   "metadata": {},
   "outputs": [],
   "source": [
    "#Family\n",
    "df_tmdb20[\"Family\"]=0\n",
    "df_tmdb20.loc[df_tmdb20[\"genre_ids\"].str.contains(\"10751\"), \"Family\"]=1"
   ]
  },
  {
   "cell_type": "code",
<<<<<<< HEAD
   "execution_count": 50,
=======
   "execution_count": 176,
>>>>>>> origin/main
   "metadata": {},
   "outputs": [],
   "source": [
    "#Fantasy\n",
    "df_tmdb20[\"Fantasy\"]=0\n",
    "df_tmdb20.loc[df_tmdb20[\"genre_ids\"].str.contains(\"14\"), \"Fantasy\"]=1"
   ]
  },
  {
   "cell_type": "code",
<<<<<<< HEAD
   "execution_count": 51,
=======
   "execution_count": 177,
>>>>>>> origin/main
   "metadata": {},
   "outputs": [],
   "source": [
    "#History\n",
    "df_tmdb20[\"History\"]=0\n",
    "df_tmdb20.loc[df_tmdb20[\"genre_ids\"].str.contains(\"36\"), \"History\"]=1"
   ]
  },
  {
   "cell_type": "code",
<<<<<<< HEAD
   "execution_count": 52,
=======
   "execution_count": 178,
>>>>>>> origin/main
   "metadata": {},
   "outputs": [],
   "source": [
    "#Horror\n",
    "df_tmdb20[\"Horror\"]=0\n",
    "df_tmdb20.loc[df_tmdb20[\"genre_ids\"].str.contains(\"27\"), \"Horror\"]=1"
   ]
  },
  {
   "cell_type": "code",
<<<<<<< HEAD
   "execution_count": 53,
=======
   "execution_count": 179,
>>>>>>> origin/main
   "metadata": {},
   "outputs": [],
   "source": [
    "#Music\n",
    "df_tmdb20[\"Music\"]=0\n",
    "df_tmdb20.loc[df_tmdb20[\"genre_ids\"].str.contains(\"10402\"), \"Music\"]=1"
   ]
  },
  {
   "cell_type": "code",
<<<<<<< HEAD
   "execution_count": 54,
=======
   "execution_count": 180,
>>>>>>> origin/main
   "metadata": {},
   "outputs": [],
   "source": [
    "#Mystery\n",
    "df_tmdb20[\"Mystery\"]=0\n",
    "df_tmdb20.loc[df_tmdb20[\"genre_ids\"].str.contains(\"9648\"), \"Mystery\"]=1"
   ]
  },
  {
   "cell_type": "code",
<<<<<<< HEAD
   "execution_count": 55,
=======
   "execution_count": 181,
>>>>>>> origin/main
   "metadata": {},
   "outputs": [],
   "source": [
    "#Romance\n",
    "df_tmdb20[\"Romance\"]=0\n",
    "df_tmdb20.loc[df_tmdb20[\"genre_ids\"].str.contains(\"10749\"), \"Romance\"]=1"
   ]
  },
  {
   "cell_type": "code",
<<<<<<< HEAD
   "execution_count": 56,
=======
   "execution_count": 182,
>>>>>>> origin/main
   "metadata": {},
   "outputs": [],
   "source": [
    "#Science_Fiction\n",
    "df_tmdb20[\"Science_Fiction\"]=0\n",
    "df_tmdb20.loc[df_tmdb20[\"genre_ids\"].str.contains(\"878\"), \"Science_Fiction\"]=1"
   ]
  },
  {
   "cell_type": "code",
<<<<<<< HEAD
   "execution_count": 57,
=======
   "execution_count": 183,
>>>>>>> origin/main
   "metadata": {},
   "outputs": [],
   "source": [
    "#TV_Movie\n",
    "df_tmdb20[\"TV_Movie\"]=0\n",
    "df_tmdb20.loc[df_tmdb20[\"genre_ids\"].str.contains(\"10770\"), \"TV_Movie\"]=1"
   ]
  },
  {
   "cell_type": "code",
<<<<<<< HEAD
   "execution_count": 58,
=======
   "execution_count": 184,
>>>>>>> origin/main
   "metadata": {},
   "outputs": [],
   "source": [
    "#Thriller\n",
    "df_tmdb20[\"Thriller\"]=0\n",
    "df_tmdb20.loc[df_tmdb20[\"genre_ids\"].str.contains(\"53\"), \"Thriller\"]=1"
   ]
  },
  {
   "cell_type": "code",
<<<<<<< HEAD
   "execution_count": 59,
=======
   "execution_count": 185,
>>>>>>> origin/main
   "metadata": {},
   "outputs": [],
   "source": [
    "#War\n",
    "df_tmdb20[\"War\"]=0\n",
    "df_tmdb20.loc[df_tmdb20[\"genre_ids\"].str.contains(\"10752\"), \"War\"]=1"
   ]
  },
  {
   "cell_type": "code",
<<<<<<< HEAD
   "execution_count": 60,
=======
   "execution_count": 186,
>>>>>>> origin/main
   "metadata": {},
   "outputs": [],
   "source": [
    "#Western\n",
    "df_tmdb20[\"Western\"]=0\n",
    "df_tmdb20.loc[df_tmdb20[\"genre_ids\"].str.contains(\"37\"), \"Western\"]=1"
   ]
  },
  {
   "cell_type": "code",
<<<<<<< HEAD
   "execution_count": 61,
=======
   "execution_count": 187,
>>>>>>> origin/main
   "metadata": {
    "collapsed": true
   },
   "outputs": [
    {
     "data": {
      "text/html": [
       "<div>\n",
       "<style scoped>\n",
       "    .dataframe tbody tr th:only-of-type {\n",
       "        vertical-align: middle;\n",
       "    }\n",
       "\n",
       "    .dataframe tbody tr th {\n",
       "        vertical-align: top;\n",
       "    }\n",
       "\n",
       "    .dataframe thead th {\n",
       "        text-align: right;\n",
       "    }\n",
       "</style>\n",
       "<table border=\"1\" class=\"dataframe\">\n",
       "  <thead>\n",
       "    <tr style=\"text-align: right;\">\n",
       "      <th></th>\n",
       "      <th>Unnamed: 0</th>\n",
       "      <th>genre_ids</th>\n",
       "      <th>id</th>\n",
       "      <th>original_language</th>\n",
       "      <th>original_title</th>\n",
       "      <th>popularity</th>\n",
       "      <th>release_date</th>\n",
       "      <th>title</th>\n",
       "      <th>vote_average</th>\n",
       "      <th>vote_count</th>\n",
       "      <th>...</th>\n",
       "      <th>History</th>\n",
       "      <th>Horror</th>\n",
       "      <th>Music</th>\n",
       "      <th>Mystery</th>\n",
       "      <th>Romance</th>\n",
       "      <th>Science_Fiction</th>\n",
       "      <th>TV_Movie</th>\n",
       "      <th>Thriller</th>\n",
       "      <th>War</th>\n",
       "      <th>Western</th>\n",
       "    </tr>\n",
       "  </thead>\n",
       "  <tbody>\n",
       "    <tr>\n",
       "      <th>0</th>\n",
       "      <td>0</td>\n",
       "      <td>[12, 14, 10751]</td>\n",
       "      <td>12444</td>\n",
       "      <td>en</td>\n",
       "      <td>Harry Potter and the Deathly Hallows: Part 1</td>\n",
       "      <td>33.533</td>\n",
       "      <td>2010-11-19</td>\n",
       "      <td>Harry Potter and the Deathly Hallows: Part 1</td>\n",
       "      <td>7.7</td>\n",
       "      <td>10788</td>\n",
       "      <td>...</td>\n",
       "      <td>0</td>\n",
       "      <td>0</td>\n",
       "      <td>0</td>\n",
       "      <td>0</td>\n",
       "      <td>0</td>\n",
       "      <td>0</td>\n",
       "      <td>0</td>\n",
       "      <td>0</td>\n",
       "      <td>0</td>\n",
       "      <td>0</td>\n",
       "    </tr>\n",
       "    <tr>\n",
       "      <th>1</th>\n",
       "      <td>1</td>\n",
       "      <td>[14, 12, 16, 10751]</td>\n",
       "      <td>10191</td>\n",
       "      <td>en</td>\n",
       "      <td>How to Train Your Dragon</td>\n",
       "      <td>28.734</td>\n",
       "      <td>2010-03-26</td>\n",
       "      <td>How to Train Your Dragon</td>\n",
       "      <td>7.7</td>\n",
       "      <td>7610</td>\n",
       "      <td>...</td>\n",
       "      <td>0</td>\n",
       "      <td>0</td>\n",
       "      <td>0</td>\n",
       "      <td>0</td>\n",
       "      <td>0</td>\n",
       "      <td>0</td>\n",
       "      <td>0</td>\n",
       "      <td>0</td>\n",
       "      <td>0</td>\n",
       "      <td>0</td>\n",
       "    </tr>\n",
       "    <tr>\n",
       "      <th>2</th>\n",
       "      <td>2</td>\n",
       "      <td>[12, 28, 878]</td>\n",
       "      <td>10138</td>\n",
       "      <td>en</td>\n",
       "      <td>Iron Man 2</td>\n",
       "      <td>28.515</td>\n",
       "      <td>2010-05-07</td>\n",
       "      <td>Iron Man 2</td>\n",
       "      <td>6.8</td>\n",
       "      <td>12368</td>\n",
       "      <td>...</td>\n",
       "      <td>0</td>\n",
       "      <td>0</td>\n",
       "      <td>0</td>\n",
       "      <td>0</td>\n",
       "      <td>0</td>\n",
       "      <td>1</td>\n",
       "      <td>0</td>\n",
       "      <td>0</td>\n",
       "      <td>0</td>\n",
       "      <td>0</td>\n",
       "    </tr>\n",
       "    <tr>\n",
       "      <th>4</th>\n",
       "      <td>4</td>\n",
       "      <td>[28, 878, 12]</td>\n",
       "      <td>27205</td>\n",
       "      <td>en</td>\n",
       "      <td>Inception</td>\n",
       "      <td>27.920</td>\n",
       "      <td>2010-07-16</td>\n",
       "      <td>Inception</td>\n",
       "      <td>8.3</td>\n",
       "      <td>22186</td>\n",
       "      <td>...</td>\n",
       "      <td>0</td>\n",
       "      <td>0</td>\n",
       "      <td>0</td>\n",
       "      <td>0</td>\n",
       "      <td>0</td>\n",
       "      <td>1</td>\n",
       "      <td>0</td>\n",
       "      <td>0</td>\n",
       "      <td>0</td>\n",
       "      <td>0</td>\n",
       "    </tr>\n",
       "    <tr>\n",
       "      <th>5</th>\n",
       "      <td>5</td>\n",
       "      <td>[12, 14, 10751]</td>\n",
       "      <td>32657</td>\n",
       "      <td>en</td>\n",
       "      <td>Percy Jackson &amp; the Olympians: The Lightning T...</td>\n",
       "      <td>26.691</td>\n",
       "      <td>2010-02-11</td>\n",
       "      <td>Percy Jackson &amp; the Olympians: The Lightning T...</td>\n",
       "      <td>6.1</td>\n",
       "      <td>4229</td>\n",
       "      <td>...</td>\n",
       "      <td>0</td>\n",
       "      <td>0</td>\n",
       "      <td>0</td>\n",
       "      <td>0</td>\n",
       "      <td>0</td>\n",
       "      <td>0</td>\n",
       "      <td>0</td>\n",
       "      <td>0</td>\n",
       "      <td>0</td>\n",
       "      <td>0</td>\n",
       "    </tr>\n",
       "  </tbody>\n",
       "</table>\n",
       "<p>5 rows × 31 columns</p>\n",
       "</div>"
      ],
      "text/plain": [
       "   Unnamed: 0            genre_ids     id original_language  \\\n",
       "0           0      [12, 14, 10751]  12444                en   \n",
       "1           1  [14, 12, 16, 10751]  10191                en   \n",
       "2           2        [12, 28, 878]  10138                en   \n",
       "4           4        [28, 878, 12]  27205                en   \n",
       "5           5      [12, 14, 10751]  32657                en   \n",
       "\n",
       "                                      original_title  popularity release_date  \\\n",
       "0       Harry Potter and the Deathly Hallows: Part 1      33.533   2010-11-19   \n",
       "1                           How to Train Your Dragon      28.734   2010-03-26   \n",
       "2                                         Iron Man 2      28.515   2010-05-07   \n",
       "4                                          Inception      27.920   2010-07-16   \n",
       "5  Percy Jackson & the Olympians: The Lightning T...      26.691   2010-02-11   \n",
       "\n",
       "                                               title  vote_average  \\\n",
       "0       Harry Potter and the Deathly Hallows: Part 1           7.7   \n",
       "1                           How to Train Your Dragon           7.7   \n",
       "2                                         Iron Man 2           6.8   \n",
       "4                                          Inception           8.3   \n",
       "5  Percy Jackson & the Olympians: The Lightning T...           6.1   \n",
       "\n",
       "   vote_count  ...  History  Horror  Music  Mystery  Romance  Science_Fiction  \\\n",
       "0       10788  ...        0       0      0        0        0                0   \n",
       "1        7610  ...        0       0      0        0        0                0   \n",
       "2       12368  ...        0       0      0        0        0                1   \n",
       "4       22186  ...        0       0      0        0        0                1   \n",
       "5        4229  ...        0       0      0        0        0                0   \n",
       "\n",
       "   TV_Movie  Thriller  War  Western  \n",
       "0         0         0    0        0  \n",
       "1         0         0    0        0  \n",
       "2         0         0    0        0  \n",
       "4         0         0    0        0  \n",
       "5         0         0    0        0  \n",
       "\n",
       "[5 rows x 31 columns]"
      ]
     },
<<<<<<< HEAD
     "execution_count": 61,
=======
     "execution_count": 187,
>>>>>>> origin/main
     "metadata": {},
     "output_type": "execute_result"
    }
   ],
   "source": [
    "df_tmdb20.head()"
   ]
  },
  {
   "cell_type": "code",
<<<<<<< HEAD
   "execution_count": 62,
=======
   "execution_count": 188,
>>>>>>> origin/main
   "metadata": {
    "collapsed": true
   },
   "outputs": [
    {
     "data": {
      "text/html": [
       "<div>\n",
       "<style scoped>\n",
       "    .dataframe tbody tr th:only-of-type {\n",
       "        vertical-align: middle;\n",
       "    }\n",
       "\n",
       "    .dataframe tbody tr th {\n",
       "        vertical-align: top;\n",
       "    }\n",
       "\n",
       "    .dataframe thead th {\n",
       "        text-align: right;\n",
       "    }\n",
       "</style>\n",
       "<table border=\"1\" class=\"dataframe\">\n",
       "  <thead>\n",
       "    <tr style=\"text-align: right;\">\n",
       "      <th></th>\n",
       "      <th>Unnamed: 0</th>\n",
       "      <th>id</th>\n",
       "      <th>popularity</th>\n",
       "      <th>release_date</th>\n",
       "      <th>vote_average</th>\n",
       "      <th>vote_count</th>\n",
       "      <th>release_year</th>\n",
       "      <th>release_month</th>\n",
       "      <th>Action</th>\n",
       "      <th>Adventure</th>\n",
       "      <th>...</th>\n",
       "      <th>History</th>\n",
       "      <th>Horror</th>\n",
       "      <th>Music</th>\n",
       "      <th>Mystery</th>\n",
       "      <th>Romance</th>\n",
       "      <th>Science_Fiction</th>\n",
       "      <th>TV_Movie</th>\n",
       "      <th>Thriller</th>\n",
       "      <th>War</th>\n",
       "      <th>Western</th>\n",
       "    </tr>\n",
       "  </thead>\n",
       "  <tbody>\n",
       "    <tr>\n",
       "      <th>count</th>\n",
       "      <td>26398.000000</td>\n",
       "      <td>26398.000000</td>\n",
       "      <td>26398.00000</td>\n",
       "      <td>26398</td>\n",
       "      <td>26398.000000</td>\n",
       "      <td>26398.000000</td>\n",
       "      <td>26398.000000</td>\n",
       "      <td>26398.000000</td>\n",
       "      <td>26398.000000</td>\n",
       "      <td>26398.000000</td>\n",
       "      <td>...</td>\n",
       "      <td>26398.000000</td>\n",
       "      <td>26398.000000</td>\n",
       "      <td>26398.000000</td>\n",
       "      <td>26398.000000</td>\n",
       "      <td>26398.000000</td>\n",
       "      <td>26398.000000</td>\n",
       "      <td>26398.000000</td>\n",
       "      <td>26398.000000</td>\n",
       "      <td>26398.000000</td>\n",
       "      <td>26398.000000</td>\n",
       "    </tr>\n",
       "    <tr>\n",
       "      <th>mean</th>\n",
       "      <td>13262.961285</td>\n",
       "      <td>296096.695242</td>\n",
       "      <td>3.10286</td>\n",
       "      <td>2014-08-04 12:02:53.467687168</td>\n",
       "      <td>5.987465</td>\n",
       "      <td>189.579059</td>\n",
       "      <td>2014.104932</td>\n",
       "      <td>6.404273</td>\n",
       "      <td>0.097848</td>\n",
       "      <td>0.052428</td>\n",
       "      <td>...</td>\n",
       "      <td>0.023221</td>\n",
       "      <td>0.138988</td>\n",
       "      <td>0.047731</td>\n",
       "      <td>0.046481</td>\n",
       "      <td>0.087355</td>\n",
       "      <td>0.066293</td>\n",
       "      <td>0.041026</td>\n",
       "      <td>0.158383</td>\n",
       "      <td>0.012274</td>\n",
       "      <td>0.007728</td>\n",
       "    </tr>\n",
       "    <tr>\n",
       "      <th>min</th>\n",
       "      <td>0.000000</td>\n",
       "      <td>27.000000</td>\n",
       "      <td>0.60000</td>\n",
       "      <td>2000-04-04 00:00:00</td>\n",
       "      <td>0.000000</td>\n",
       "      <td>1.000000</td>\n",
       "      <td>2000.000000</td>\n",
       "      <td>1.000000</td>\n",
       "      <td>0.000000</td>\n",
       "      <td>0.000000</td>\n",
       "      <td>...</td>\n",
       "      <td>0.000000</td>\n",
       "      <td>0.000000</td>\n",
       "      <td>0.000000</td>\n",
       "      <td>0.000000</td>\n",
       "      <td>0.000000</td>\n",
       "      <td>0.000000</td>\n",
       "      <td>0.000000</td>\n",
       "      <td>0.000000</td>\n",
       "      <td>0.000000</td>\n",
       "      <td>0.000000</td>\n",
       "    </tr>\n",
       "    <tr>\n",
       "      <th>25%</th>\n",
       "      <td>6641.250000</td>\n",
       "      <td>159096.250000</td>\n",
       "      <td>0.60000</td>\n",
       "      <td>2012-07-12 00:00:00</td>\n",
       "      <td>5.000000</td>\n",
       "      <td>2.000000</td>\n",
       "      <td>2012.000000</td>\n",
       "      <td>3.000000</td>\n",
       "      <td>0.000000</td>\n",
       "      <td>0.000000</td>\n",
       "      <td>...</td>\n",
       "      <td>0.000000</td>\n",
       "      <td>0.000000</td>\n",
       "      <td>0.000000</td>\n",
       "      <td>0.000000</td>\n",
       "      <td>0.000000</td>\n",
       "      <td>0.000000</td>\n",
       "      <td>0.000000</td>\n",
       "      <td>0.000000</td>\n",
       "      <td>0.000000</td>\n",
       "      <td>0.000000</td>\n",
       "    </tr>\n",
       "    <tr>\n",
       "      <th>50%</th>\n",
       "      <td>13263.500000</td>\n",
       "      <td>310577.500000</td>\n",
       "      <td>1.36500</td>\n",
       "      <td>2014-09-26 00:00:00</td>\n",
       "      <td>6.000000</td>\n",
       "      <td>5.000000</td>\n",
       "      <td>2014.000000</td>\n",
       "      <td>6.000000</td>\n",
       "      <td>0.000000</td>\n",
       "      <td>0.000000</td>\n",
       "      <td>...</td>\n",
       "      <td>0.000000</td>\n",
       "      <td>0.000000</td>\n",
       "      <td>0.000000</td>\n",
       "      <td>0.000000</td>\n",
       "      <td>0.000000</td>\n",
       "      <td>0.000000</td>\n",
       "      <td>0.000000</td>\n",
       "      <td>0.000000</td>\n",
       "      <td>0.000000</td>\n",
       "      <td>0.000000</td>\n",
       "    </tr>\n",
       "    <tr>\n",
       "      <th>75%</th>\n",
       "      <td>19883.750000</td>\n",
       "      <td>419812.500000</td>\n",
       "      <td>3.63975</td>\n",
       "      <td>2016-10-04 00:00:00</td>\n",
       "      <td>7.000000</td>\n",
       "      <td>27.000000</td>\n",
       "      <td>2016.000000</td>\n",
       "      <td>10.000000</td>\n",
       "      <td>0.000000</td>\n",
       "      <td>0.000000</td>\n",
       "      <td>...</td>\n",
       "      <td>0.000000</td>\n",
       "      <td>0.000000</td>\n",
       "      <td>0.000000</td>\n",
       "      <td>0.000000</td>\n",
       "      <td>0.000000</td>\n",
       "      <td>0.000000</td>\n",
       "      <td>0.000000</td>\n",
       "      <td>0.000000</td>\n",
       "      <td>0.000000</td>\n",
       "      <td>0.000000</td>\n",
       "    </tr>\n",
       "    <tr>\n",
       "      <th>max</th>\n",
       "      <td>26516.000000</td>\n",
       "      <td>608444.000000</td>\n",
       "      <td>80.77300</td>\n",
       "      <td>2020-12-25 00:00:00</td>\n",
       "      <td>10.000000</td>\n",
       "      <td>22186.000000</td>\n",
       "      <td>2020.000000</td>\n",
       "      <td>12.000000</td>\n",
       "      <td>1.000000</td>\n",
       "      <td>1.000000</td>\n",
       "      <td>...</td>\n",
       "      <td>1.000000</td>\n",
       "      <td>1.000000</td>\n",
       "      <td>1.000000</td>\n",
       "      <td>1.000000</td>\n",
       "      <td>1.000000</td>\n",
       "      <td>1.000000</td>\n",
       "      <td>1.000000</td>\n",
       "      <td>1.000000</td>\n",
       "      <td>1.000000</td>\n",
       "      <td>1.000000</td>\n",
       "    </tr>\n",
       "    <tr>\n",
       "      <th>std</th>\n",
       "      <td>7649.123549</td>\n",
       "      <td>153004.470867</td>\n",
       "      <td>4.31805</td>\n",
       "      <td>NaN</td>\n",
       "      <td>1.854832</td>\n",
       "      <td>948.702931</td>\n",
       "      <td>2.540227</td>\n",
       "      <td>3.573895</td>\n",
       "      <td>0.297115</td>\n",
       "      <td>0.222893</td>\n",
       "      <td>...</td>\n",
       "      <td>0.150609</td>\n",
       "      <td>0.345940</td>\n",
       "      <td>0.213200</td>\n",
       "      <td>0.210528</td>\n",
       "      <td>0.282360</td>\n",
       "      <td>0.248798</td>\n",
       "      <td>0.198354</td>\n",
       "      <td>0.365107</td>\n",
       "      <td>0.110107</td>\n",
       "      <td>0.087570</td>\n",
       "    </tr>\n",
       "  </tbody>\n",
       "</table>\n",
       "<p>8 rows × 27 columns</p>\n",
       "</div>"
      ],
      "text/plain": [
       "         Unnamed: 0             id   popularity  \\\n",
       "count  26398.000000   26398.000000  26398.00000   \n",
       "mean   13262.961285  296096.695242      3.10286   \n",
       "min        0.000000      27.000000      0.60000   \n",
       "25%     6641.250000  159096.250000      0.60000   \n",
       "50%    13263.500000  310577.500000      1.36500   \n",
       "75%    19883.750000  419812.500000      3.63975   \n",
       "max    26516.000000  608444.000000     80.77300   \n",
       "std     7649.123549  153004.470867      4.31805   \n",
       "\n",
       "                        release_date  vote_average    vote_count  \\\n",
       "count                          26398  26398.000000  26398.000000   \n",
       "mean   2014-08-04 12:02:53.467687168      5.987465    189.579059   \n",
       "min              2000-04-04 00:00:00      0.000000      1.000000   \n",
       "25%              2012-07-12 00:00:00      5.000000      2.000000   \n",
       "50%              2014-09-26 00:00:00      6.000000      5.000000   \n",
       "75%              2016-10-04 00:00:00      7.000000     27.000000   \n",
       "max              2020-12-25 00:00:00     10.000000  22186.000000   \n",
       "std                              NaN      1.854832    948.702931   \n",
       "\n",
       "       release_year  release_month        Action     Adventure  ...  \\\n",
       "count  26398.000000   26398.000000  26398.000000  26398.000000  ...   \n",
       "mean    2014.104932       6.404273      0.097848      0.052428  ...   \n",
       "min     2000.000000       1.000000      0.000000      0.000000  ...   \n",
       "25%     2012.000000       3.000000      0.000000      0.000000  ...   \n",
       "50%     2014.000000       6.000000      0.000000      0.000000  ...   \n",
       "75%     2016.000000      10.000000      0.000000      0.000000  ...   \n",
       "max     2020.000000      12.000000      1.000000      1.000000  ...   \n",
       "std        2.540227       3.573895      0.297115      0.222893  ...   \n",
       "\n",
       "            History        Horror         Music       Mystery       Romance  \\\n",
       "count  26398.000000  26398.000000  26398.000000  26398.000000  26398.000000   \n",
       "mean       0.023221      0.138988      0.047731      0.046481      0.087355   \n",
       "min        0.000000      0.000000      0.000000      0.000000      0.000000   \n",
       "25%        0.000000      0.000000      0.000000      0.000000      0.000000   \n",
       "50%        0.000000      0.000000      0.000000      0.000000      0.000000   \n",
       "75%        0.000000      0.000000      0.000000      0.000000      0.000000   \n",
       "max        1.000000      1.000000      1.000000      1.000000      1.000000   \n",
       "std        0.150609      0.345940      0.213200      0.210528      0.282360   \n",
       "\n",
       "       Science_Fiction      TV_Movie      Thriller           War       Western  \n",
       "count     26398.000000  26398.000000  26398.000000  26398.000000  26398.000000  \n",
       "mean          0.066293      0.041026      0.158383      0.012274      0.007728  \n",
       "min           0.000000      0.000000      0.000000      0.000000      0.000000  \n",
       "25%           0.000000      0.000000      0.000000      0.000000      0.000000  \n",
       "50%           0.000000      0.000000      0.000000      0.000000      0.000000  \n",
       "75%           0.000000      0.000000      0.000000      0.000000      0.000000  \n",
       "max           1.000000      1.000000      1.000000      1.000000      1.000000  \n",
       "std           0.248798      0.198354      0.365107      0.110107      0.087570  \n",
       "\n",
       "[8 rows x 27 columns]"
      ]
     },
<<<<<<< HEAD
     "execution_count": 62,
=======
     "execution_count": 188,
>>>>>>> origin/main
     "metadata": {},
     "output_type": "execute_result"
    }
   ],
   "source": [
    "df_tmdb20.describe()"
   ]
  },
  {
   "cell_type": "markdown",
   "metadata": {},
   "source": [
    "### IMDB (John)"
   ]
  },
  {
   "cell_type": "markdown",
   "metadata": {},
   "source": [
    "Read in file and look at table names."
   ]
  },
  {
   "cell_type": "code",
<<<<<<< HEAD
   "execution_count": 63,
=======
   "execution_count": 189,
>>>>>>> origin/main
   "metadata": {},
   "outputs": [],
   "source": [
    "path = \"data/im.db\"\n",
    "conn = sqlite3.connect(path)"
   ]
  },
  {
   "cell_type": "code",
<<<<<<< HEAD
   "execution_count": 64,
=======
   "execution_count": 190,
>>>>>>> origin/main
   "metadata": {},
   "outputs": [
    {
     "data": {
      "text/html": [
       "<div>\n",
       "<style scoped>\n",
       "    .dataframe tbody tr th:only-of-type {\n",
       "        vertical-align: middle;\n",
       "    }\n",
       "\n",
       "    .dataframe tbody tr th {\n",
       "        vertical-align: top;\n",
       "    }\n",
       "\n",
       "    .dataframe thead th {\n",
       "        text-align: right;\n",
       "    }\n",
       "</style>\n",
       "<table border=\"1\" class=\"dataframe\">\n",
       "  <thead>\n",
       "    <tr style=\"text-align: right;\">\n",
       "      <th></th>\n",
       "      <th>type</th>\n",
       "      <th>name</th>\n",
       "      <th>tbl_name</th>\n",
       "      <th>rootpage</th>\n",
       "      <th>sql</th>\n",
       "    </tr>\n",
       "  </thead>\n",
       "  <tbody>\n",
       "    <tr>\n",
       "      <th>0</th>\n",
       "      <td>table</td>\n",
       "      <td>movie_basics</td>\n",
       "      <td>movie_basics</td>\n",
       "      <td>2</td>\n",
       "      <td>CREATE TABLE \"movie_basics\" (\\n\"movie_id\" TEXT...</td>\n",
       "    </tr>\n",
       "    <tr>\n",
       "      <th>1</th>\n",
       "      <td>table</td>\n",
       "      <td>directors</td>\n",
       "      <td>directors</td>\n",
       "      <td>3</td>\n",
       "      <td>CREATE TABLE \"directors\" (\\n\"movie_id\" TEXT,\\n...</td>\n",
       "    </tr>\n",
       "    <tr>\n",
       "      <th>2</th>\n",
       "      <td>table</td>\n",
       "      <td>known_for</td>\n",
       "      <td>known_for</td>\n",
       "      <td>4</td>\n",
       "      <td>CREATE TABLE \"known_for\" (\\n\"person_id\" TEXT,\\...</td>\n",
       "    </tr>\n",
       "    <tr>\n",
       "      <th>3</th>\n",
       "      <td>table</td>\n",
       "      <td>movie_akas</td>\n",
       "      <td>movie_akas</td>\n",
       "      <td>5</td>\n",
       "      <td>CREATE TABLE \"movie_akas\" (\\n\"movie_id\" TEXT,\\...</td>\n",
       "    </tr>\n",
       "    <tr>\n",
       "      <th>4</th>\n",
       "      <td>table</td>\n",
       "      <td>movie_ratings</td>\n",
       "      <td>movie_ratings</td>\n",
       "      <td>6</td>\n",
       "      <td>CREATE TABLE \"movie_ratings\" (\\n\"movie_id\" TEX...</td>\n",
       "    </tr>\n",
       "    <tr>\n",
       "      <th>5</th>\n",
       "      <td>table</td>\n",
       "      <td>persons</td>\n",
       "      <td>persons</td>\n",
       "      <td>7</td>\n",
       "      <td>CREATE TABLE \"persons\" (\\n\"person_id\" TEXT,\\n ...</td>\n",
       "    </tr>\n",
       "    <tr>\n",
       "      <th>6</th>\n",
       "      <td>table</td>\n",
       "      <td>principals</td>\n",
       "      <td>principals</td>\n",
       "      <td>8</td>\n",
       "      <td>CREATE TABLE \"principals\" (\\n\"movie_id\" TEXT,\\...</td>\n",
       "    </tr>\n",
       "    <tr>\n",
       "      <th>7</th>\n",
       "      <td>table</td>\n",
       "      <td>writers</td>\n",
       "      <td>writers</td>\n",
       "      <td>9</td>\n",
       "      <td>CREATE TABLE \"writers\" (\\n\"movie_id\" TEXT,\\n  ...</td>\n",
       "    </tr>\n",
       "  </tbody>\n",
       "</table>\n",
       "</div>"
      ],
      "text/plain": [
       "    type           name       tbl_name  rootpage  \\\n",
       "0  table   movie_basics   movie_basics         2   \n",
       "1  table      directors      directors         3   \n",
       "2  table      known_for      known_for         4   \n",
       "3  table     movie_akas     movie_akas         5   \n",
       "4  table  movie_ratings  movie_ratings         6   \n",
       "5  table        persons        persons         7   \n",
       "6  table     principals     principals         8   \n",
       "7  table        writers        writers         9   \n",
       "\n",
       "                                                 sql  \n",
       "0  CREATE TABLE \"movie_basics\" (\\n\"movie_id\" TEXT...  \n",
       "1  CREATE TABLE \"directors\" (\\n\"movie_id\" TEXT,\\n...  \n",
       "2  CREATE TABLE \"known_for\" (\\n\"person_id\" TEXT,\\...  \n",
       "3  CREATE TABLE \"movie_akas\" (\\n\"movie_id\" TEXT,\\...  \n",
       "4  CREATE TABLE \"movie_ratings\" (\\n\"movie_id\" TEX...  \n",
       "5  CREATE TABLE \"persons\" (\\n\"person_id\" TEXT,\\n ...  \n",
       "6  CREATE TABLE \"principals\" (\\n\"movie_id\" TEXT,\\...  \n",
       "7  CREATE TABLE \"writers\" (\\n\"movie_id\" TEXT,\\n  ...  "
      ]
     },
<<<<<<< HEAD
     "execution_count": 64,
=======
     "execution_count": 190,
>>>>>>> origin/main
     "metadata": {},
     "output_type": "execute_result"
    }
   ],
   "source": [
    "df_imdb = pd.read_sql(\"\"\"\n",
    "            SELECT *\n",
    "            FROM sqlite_master\n",
    "\"\"\", conn)\n",
    "df_imdb[df_imdb[\"type\"] == \"table\"]"
   ]
  },
  {
   "cell_type": "markdown",
   "metadata": {},
   "source": [
    "#### Impute each table into a Dataframe to look at"
   ]
  },
  {
   "cell_type": "markdown",
   "metadata": {},
   "source": [
    "#### movie_basics\n",
    "movie_id  |  primary_title  |  original_title  |  start_year  |  runtime_minutes  |  genres"
   ]
  },
  {
   "cell_type": "code",
<<<<<<< HEAD
   "execution_count": 65,
=======
   "execution_count": 191,
>>>>>>> origin/main
   "metadata": {},
   "outputs": [],
   "source": [
    "movie_basics = pd.read_sql(\"\"\"\n",
    "            SELECT *\n",
    "            FROM movie_basics\n",
    "\"\"\", conn)"
   ]
  },
  {
   "cell_type": "code",
<<<<<<< HEAD
   "execution_count": 66,
=======
   "execution_count": 192,
>>>>>>> origin/main
   "metadata": {},
   "outputs": [
    {
     "data": {
      "text/html": [
       "<div>\n",
       "<style scoped>\n",
       "    .dataframe tbody tr th:only-of-type {\n",
       "        vertical-align: middle;\n",
       "    }\n",
       "\n",
       "    .dataframe tbody tr th {\n",
       "        vertical-align: top;\n",
       "    }\n",
       "\n",
       "    .dataframe thead th {\n",
       "        text-align: right;\n",
       "    }\n",
       "</style>\n",
       "<table border=\"1\" class=\"dataframe\">\n",
       "  <thead>\n",
       "    <tr style=\"text-align: right;\">\n",
       "      <th></th>\n",
       "      <th>movie_id</th>\n",
       "      <th>primary_title</th>\n",
       "      <th>original_title</th>\n",
       "      <th>start_year</th>\n",
       "      <th>runtime_minutes</th>\n",
       "      <th>genres</th>\n",
       "    </tr>\n",
       "  </thead>\n",
       "  <tbody>\n",
       "    <tr>\n",
       "      <th>0</th>\n",
       "      <td>tt0063540</td>\n",
       "      <td>Sunghursh</td>\n",
       "      <td>Sunghursh</td>\n",
       "      <td>2013</td>\n",
       "      <td>175.0</td>\n",
       "      <td>Action,Crime,Drama</td>\n",
       "    </tr>\n",
       "    <tr>\n",
       "      <th>1</th>\n",
       "      <td>tt0066787</td>\n",
       "      <td>One Day Before the Rainy Season</td>\n",
       "      <td>Ashad Ka Ek Din</td>\n",
       "      <td>2019</td>\n",
       "      <td>114.0</td>\n",
       "      <td>Biography,Drama</td>\n",
       "    </tr>\n",
       "    <tr>\n",
       "      <th>2</th>\n",
       "      <td>tt0069049</td>\n",
       "      <td>The Other Side of the Wind</td>\n",
       "      <td>The Other Side of the Wind</td>\n",
       "      <td>2018</td>\n",
       "      <td>122.0</td>\n",
       "      <td>Drama</td>\n",
       "    </tr>\n",
       "    <tr>\n",
       "      <th>3</th>\n",
       "      <td>tt0069204</td>\n",
       "      <td>Sabse Bada Sukh</td>\n",
       "      <td>Sabse Bada Sukh</td>\n",
       "      <td>2018</td>\n",
       "      <td>NaN</td>\n",
       "      <td>Comedy,Drama</td>\n",
       "    </tr>\n",
       "    <tr>\n",
       "      <th>4</th>\n",
       "      <td>tt0100275</td>\n",
       "      <td>The Wandering Soap Opera</td>\n",
       "      <td>La Telenovela Errante</td>\n",
       "      <td>2017</td>\n",
       "      <td>80.0</td>\n",
       "      <td>Comedy,Drama,Fantasy</td>\n",
       "    </tr>\n",
       "  </tbody>\n",
       "</table>\n",
       "</div>"
      ],
      "text/plain": [
       "    movie_id                    primary_title              original_title  \\\n",
       "0  tt0063540                        Sunghursh                   Sunghursh   \n",
       "1  tt0066787  One Day Before the Rainy Season             Ashad Ka Ek Din   \n",
       "2  tt0069049       The Other Side of the Wind  The Other Side of the Wind   \n",
       "3  tt0069204                  Sabse Bada Sukh             Sabse Bada Sukh   \n",
       "4  tt0100275         The Wandering Soap Opera       La Telenovela Errante   \n",
       "\n",
       "   start_year  runtime_minutes                genres  \n",
       "0        2013            175.0    Action,Crime,Drama  \n",
       "1        2019            114.0       Biography,Drama  \n",
       "2        2018            122.0                 Drama  \n",
       "3        2018              NaN          Comedy,Drama  \n",
       "4        2017             80.0  Comedy,Drama,Fantasy  "
      ]
     },
<<<<<<< HEAD
     "execution_count": 66,
=======
     "execution_count": 192,
>>>>>>> origin/main
     "metadata": {},
     "output_type": "execute_result"
    }
   ],
   "source": [
    "movie_basics.head()"
   ]
  },
  {
   "cell_type": "code",
<<<<<<< HEAD
   "execution_count": 67,
=======
   "execution_count": 193,
>>>>>>> origin/main
   "metadata": {
    "collapsed": true
   },
   "outputs": [
    {
     "name": "stdout",
     "output_type": "stream",
     "text": [
      "<class 'pandas.core.frame.DataFrame'>\n",
      "RangeIndex: 146144 entries, 0 to 146143\n",
      "Data columns (total 6 columns):\n",
      " #   Column           Non-Null Count   Dtype  \n",
      "---  ------           --------------   -----  \n",
      " 0   movie_id         146144 non-null  object \n",
      " 1   primary_title    146144 non-null  object \n",
      " 2   original_title   146123 non-null  object \n",
      " 3   start_year       146144 non-null  int64  \n",
      " 4   runtime_minutes  114405 non-null  float64\n",
      " 5   genres           140736 non-null  object \n",
      "dtypes: float64(1), int64(1), object(4)\n",
      "memory usage: 6.7+ MB\n"
     ]
    }
   ],
   "source": [
    "movie_basics.info()"
   ]
  },
  {
   "cell_type": "code",
<<<<<<< HEAD
   "execution_count": 68,
=======
   "execution_count": 194,
>>>>>>> origin/main
   "metadata": {
    "collapsed": true
   },
   "outputs": [
    {
     "data": {
      "text/html": [
       "<div>\n",
       "<style scoped>\n",
       "    .dataframe tbody tr th:only-of-type {\n",
       "        vertical-align: middle;\n",
       "    }\n",
       "\n",
       "    .dataframe tbody tr th {\n",
       "        vertical-align: top;\n",
       "    }\n",
       "\n",
       "    .dataframe thead th {\n",
       "        text-align: right;\n",
       "    }\n",
       "</style>\n",
       "<table border=\"1\" class=\"dataframe\">\n",
       "  <thead>\n",
       "    <tr style=\"text-align: right;\">\n",
       "      <th></th>\n",
       "      <th>movie_id</th>\n",
       "      <th>primary_title</th>\n",
       "      <th>original_title</th>\n",
       "      <th>start_year</th>\n",
       "      <th>runtime_minutes</th>\n",
       "      <th>genres</th>\n",
       "    </tr>\n",
       "  </thead>\n",
       "  <tbody>\n",
       "    <tr>\n",
       "      <th>count</th>\n",
       "      <td>146144</td>\n",
       "      <td>146144</td>\n",
       "      <td>146123</td>\n",
       "      <td>146144.000000</td>\n",
       "      <td>114405.000000</td>\n",
       "      <td>140736</td>\n",
       "    </tr>\n",
       "    <tr>\n",
       "      <th>unique</th>\n",
       "      <td>146144</td>\n",
       "      <td>136071</td>\n",
       "      <td>137773</td>\n",
       "      <td>NaN</td>\n",
       "      <td>NaN</td>\n",
       "      <td>1085</td>\n",
       "    </tr>\n",
       "    <tr>\n",
       "      <th>top</th>\n",
<<<<<<< HEAD
       "      <td>tt0063540</td>\n",
=======
       "      <td>tt2638144</td>\n",
>>>>>>> origin/main
       "      <td>Home</td>\n",
       "      <td>Broken</td>\n",
       "      <td>NaN</td>\n",
       "      <td>NaN</td>\n",
       "      <td>Documentary</td>\n",
       "    </tr>\n",
       "    <tr>\n",
       "      <th>freq</th>\n",
       "      <td>1</td>\n",
       "      <td>24</td>\n",
       "      <td>19</td>\n",
       "      <td>NaN</td>\n",
       "      <td>NaN</td>\n",
       "      <td>32185</td>\n",
       "    </tr>\n",
       "    <tr>\n",
       "      <th>mean</th>\n",
       "      <td>NaN</td>\n",
       "      <td>NaN</td>\n",
       "      <td>NaN</td>\n",
       "      <td>2014.621798</td>\n",
       "      <td>86.187247</td>\n",
       "      <td>NaN</td>\n",
       "    </tr>\n",
       "    <tr>\n",
       "      <th>std</th>\n",
       "      <td>NaN</td>\n",
       "      <td>NaN</td>\n",
       "      <td>NaN</td>\n",
       "      <td>2.733583</td>\n",
       "      <td>166.360590</td>\n",
       "      <td>NaN</td>\n",
       "    </tr>\n",
       "    <tr>\n",
       "      <th>min</th>\n",
       "      <td>NaN</td>\n",
       "      <td>NaN</td>\n",
       "      <td>NaN</td>\n",
       "      <td>2010.000000</td>\n",
       "      <td>1.000000</td>\n",
       "      <td>NaN</td>\n",
       "    </tr>\n",
       "    <tr>\n",
       "      <th>25%</th>\n",
       "      <td>NaN</td>\n",
       "      <td>NaN</td>\n",
       "      <td>NaN</td>\n",
       "      <td>2012.000000</td>\n",
       "      <td>70.000000</td>\n",
       "      <td>NaN</td>\n",
       "    </tr>\n",
       "    <tr>\n",
       "      <th>50%</th>\n",
       "      <td>NaN</td>\n",
       "      <td>NaN</td>\n",
       "      <td>NaN</td>\n",
       "      <td>2015.000000</td>\n",
       "      <td>87.000000</td>\n",
       "      <td>NaN</td>\n",
       "    </tr>\n",
       "    <tr>\n",
       "      <th>75%</th>\n",
       "      <td>NaN</td>\n",
       "      <td>NaN</td>\n",
       "      <td>NaN</td>\n",
       "      <td>2017.000000</td>\n",
       "      <td>99.000000</td>\n",
       "      <td>NaN</td>\n",
       "    </tr>\n",
       "    <tr>\n",
       "      <th>max</th>\n",
       "      <td>NaN</td>\n",
       "      <td>NaN</td>\n",
       "      <td>NaN</td>\n",
       "      <td>2115.000000</td>\n",
       "      <td>51420.000000</td>\n",
       "      <td>NaN</td>\n",
       "    </tr>\n",
       "  </tbody>\n",
       "</table>\n",
       "</div>"
      ],
      "text/plain": [
       "         movie_id primary_title original_title     start_year  \\\n",
       "count      146144        146144         146123  146144.000000   \n",
       "unique     146144        136071         137773            NaN   \n",
<<<<<<< HEAD
       "top     tt0063540          Home         Broken            NaN   \n",
=======
       "top     tt2638144          Home         Broken            NaN   \n",
>>>>>>> origin/main
       "freq            1            24             19            NaN   \n",
       "mean          NaN           NaN            NaN    2014.621798   \n",
       "std           NaN           NaN            NaN       2.733583   \n",
       "min           NaN           NaN            NaN    2010.000000   \n",
       "25%           NaN           NaN            NaN    2012.000000   \n",
       "50%           NaN           NaN            NaN    2015.000000   \n",
       "75%           NaN           NaN            NaN    2017.000000   \n",
       "max           NaN           NaN            NaN    2115.000000   \n",
       "\n",
       "        runtime_minutes       genres  \n",
       "count     114405.000000       140736  \n",
       "unique              NaN         1085  \n",
       "top                 NaN  Documentary  \n",
       "freq                NaN        32185  \n",
       "mean          86.187247          NaN  \n",
       "std          166.360590          NaN  \n",
       "min            1.000000          NaN  \n",
       "25%           70.000000          NaN  \n",
       "50%           87.000000          NaN  \n",
       "75%           99.000000          NaN  \n",
       "max        51420.000000          NaN  "
      ]
     },
<<<<<<< HEAD
     "execution_count": 68,
=======
     "execution_count": 194,
>>>>>>> origin/main
     "metadata": {},
     "output_type": "execute_result"
    }
   ],
   "source": [
    "movie_basics.describe(include=\"all\")"
   ]
  },
  {
   "cell_type": "markdown",
   "metadata": {},
   "source": [
    "#### directors\n",
    "movie_id  |  person_id"
   ]
  },
  {
   "cell_type": "code",
<<<<<<< HEAD
   "execution_count": 69,
=======
   "execution_count": 195,
>>>>>>> origin/main
   "metadata": {},
   "outputs": [],
   "source": [
    "directors = pd.read_sql(\"\"\"\n",
    "            SELECT *\n",
    "            FROM directors\n",
    "\"\"\", conn)"
   ]
  },
  {
   "cell_type": "code",
<<<<<<< HEAD
   "execution_count": 70,
=======
   "execution_count": 196,
>>>>>>> origin/main
   "metadata": {
    "collapsed": true
   },
   "outputs": [
    {
     "data": {
      "text/html": [
       "<div>\n",
       "<style scoped>\n",
       "    .dataframe tbody tr th:only-of-type {\n",
       "        vertical-align: middle;\n",
       "    }\n",
       "\n",
       "    .dataframe tbody tr th {\n",
       "        vertical-align: top;\n",
       "    }\n",
       "\n",
       "    .dataframe thead th {\n",
       "        text-align: right;\n",
       "    }\n",
       "</style>\n",
       "<table border=\"1\" class=\"dataframe\">\n",
       "  <thead>\n",
       "    <tr style=\"text-align: right;\">\n",
       "      <th></th>\n",
       "      <th>movie_id</th>\n",
       "      <th>person_id</th>\n",
       "    </tr>\n",
       "  </thead>\n",
       "  <tbody>\n",
       "    <tr>\n",
       "      <th>0</th>\n",
       "      <td>tt0285252</td>\n",
       "      <td>nm0899854</td>\n",
       "    </tr>\n",
       "    <tr>\n",
       "      <th>1</th>\n",
       "      <td>tt0462036</td>\n",
       "      <td>nm1940585</td>\n",
       "    </tr>\n",
       "    <tr>\n",
       "      <th>2</th>\n",
       "      <td>tt0835418</td>\n",
       "      <td>nm0151540</td>\n",
       "    </tr>\n",
       "    <tr>\n",
       "      <th>3</th>\n",
       "      <td>tt0835418</td>\n",
       "      <td>nm0151540</td>\n",
       "    </tr>\n",
       "    <tr>\n",
       "      <th>4</th>\n",
       "      <td>tt0878654</td>\n",
       "      <td>nm0089502</td>\n",
       "    </tr>\n",
       "  </tbody>\n",
       "</table>\n",
       "</div>"
      ],
      "text/plain": [
       "    movie_id  person_id\n",
       "0  tt0285252  nm0899854\n",
       "1  tt0462036  nm1940585\n",
       "2  tt0835418  nm0151540\n",
       "3  tt0835418  nm0151540\n",
       "4  tt0878654  nm0089502"
      ]
     },
<<<<<<< HEAD
     "execution_count": 70,
=======
     "execution_count": 196,
>>>>>>> origin/main
     "metadata": {},
     "output_type": "execute_result"
    }
   ],
   "source": [
    "directors.head()"
   ]
  },
  {
   "cell_type": "code",
<<<<<<< HEAD
   "execution_count": 71,
=======
   "execution_count": 197,
>>>>>>> origin/main
   "metadata": {
    "collapsed": true
   },
   "outputs": [
    {
     "name": "stdout",
     "output_type": "stream",
     "text": [
      "<class 'pandas.core.frame.DataFrame'>\n",
      "RangeIndex: 291174 entries, 0 to 291173\n",
      "Data columns (total 2 columns):\n",
      " #   Column     Non-Null Count   Dtype \n",
      "---  ------     --------------   ----- \n",
      " 0   movie_id   291174 non-null  object\n",
      " 1   person_id  291174 non-null  object\n",
      "dtypes: object(2)\n",
      "memory usage: 4.4+ MB\n"
     ]
    }
   ],
   "source": [
    "directors.info()"
   ]
  },
  {
   "cell_type": "code",
<<<<<<< HEAD
   "execution_count": 72,
=======
   "execution_count": 198,
>>>>>>> origin/main
   "metadata": {
    "collapsed": true
   },
   "outputs": [
    {
     "data": {
      "text/html": [
       "<div>\n",
       "<style scoped>\n",
       "    .dataframe tbody tr th:only-of-type {\n",
       "        vertical-align: middle;\n",
       "    }\n",
       "\n",
       "    .dataframe tbody tr th {\n",
       "        vertical-align: top;\n",
       "    }\n",
       "\n",
       "    .dataframe thead th {\n",
       "        text-align: right;\n",
       "    }\n",
       "</style>\n",
       "<table border=\"1\" class=\"dataframe\">\n",
       "  <thead>\n",
       "    <tr style=\"text-align: right;\">\n",
       "      <th></th>\n",
       "      <th>movie_id</th>\n",
       "      <th>person_id</th>\n",
       "    </tr>\n",
       "  </thead>\n",
       "  <tbody>\n",
       "    <tr>\n",
       "      <th>count</th>\n",
       "      <td>291174</td>\n",
       "      <td>291174</td>\n",
       "    </tr>\n",
       "    <tr>\n",
       "      <th>unique</th>\n",
       "      <td>140417</td>\n",
       "      <td>109253</td>\n",
       "    </tr>\n",
       "    <tr>\n",
       "      <th>top</th>\n",
       "      <td>tt4050462</td>\n",
       "      <td>nm6935209</td>\n",
       "    </tr>\n",
       "    <tr>\n",
       "      <th>freq</th>\n",
       "      <td>3818</td>\n",
       "      <td>238</td>\n",
       "    </tr>\n",
       "  </tbody>\n",
       "</table>\n",
       "</div>"
      ],
      "text/plain": [
       "         movie_id  person_id\n",
       "count      291174     291174\n",
       "unique     140417     109253\n",
       "top     tt4050462  nm6935209\n",
       "freq         3818        238"
      ]
     },
<<<<<<< HEAD
     "execution_count": 72,
=======
     "execution_count": 198,
>>>>>>> origin/main
     "metadata": {},
     "output_type": "execute_result"
    }
   ],
   "source": [
    "directors.describe(include=\"all\")"
   ]
  },
  {
   "cell_type": "markdown",
   "metadata": {},
   "source": [
    "#### known_for\n",
    "person_id  |  movie_id"
   ]
  },
  {
   "cell_type": "code",
<<<<<<< HEAD
   "execution_count": 73,
=======
   "execution_count": 199,
>>>>>>> origin/main
   "metadata": {},
   "outputs": [],
   "source": [
    "known_for = pd.read_sql(\"\"\"\n",
    "            SELECT *\n",
    "            FROM known_for\n",
    "\"\"\", conn)"
   ]
  },
  {
   "cell_type": "code",
<<<<<<< HEAD
   "execution_count": 74,
=======
   "execution_count": 200,
>>>>>>> origin/main
   "metadata": {
    "collapsed": true
   },
   "outputs": [
    {
     "data": {
      "text/html": [
       "<div>\n",
       "<style scoped>\n",
       "    .dataframe tbody tr th:only-of-type {\n",
       "        vertical-align: middle;\n",
       "    }\n",
       "\n",
       "    .dataframe tbody tr th {\n",
       "        vertical-align: top;\n",
       "    }\n",
       "\n",
       "    .dataframe thead th {\n",
       "        text-align: right;\n",
       "    }\n",
       "</style>\n",
       "<table border=\"1\" class=\"dataframe\">\n",
       "  <thead>\n",
       "    <tr style=\"text-align: right;\">\n",
       "      <th></th>\n",
       "      <th>person_id</th>\n",
       "      <th>movie_id</th>\n",
       "    </tr>\n",
       "  </thead>\n",
       "  <tbody>\n",
       "    <tr>\n",
       "      <th>0</th>\n",
       "      <td>nm0061671</td>\n",
       "      <td>tt0837562</td>\n",
       "    </tr>\n",
       "    <tr>\n",
       "      <th>1</th>\n",
       "      <td>nm0061671</td>\n",
       "      <td>tt2398241</td>\n",
       "    </tr>\n",
       "    <tr>\n",
       "      <th>2</th>\n",
       "      <td>nm0061671</td>\n",
       "      <td>tt0844471</td>\n",
       "    </tr>\n",
       "    <tr>\n",
       "      <th>3</th>\n",
       "      <td>nm0061671</td>\n",
       "      <td>tt0118553</td>\n",
       "    </tr>\n",
       "    <tr>\n",
       "      <th>4</th>\n",
       "      <td>nm0061865</td>\n",
       "      <td>tt0896534</td>\n",
       "    </tr>\n",
       "  </tbody>\n",
       "</table>\n",
       "</div>"
      ],
      "text/plain": [
       "   person_id   movie_id\n",
       "0  nm0061671  tt0837562\n",
       "1  nm0061671  tt2398241\n",
       "2  nm0061671  tt0844471\n",
       "3  nm0061671  tt0118553\n",
       "4  nm0061865  tt0896534"
      ]
     },
<<<<<<< HEAD
     "execution_count": 74,
=======
     "execution_count": 200,
>>>>>>> origin/main
     "metadata": {},
     "output_type": "execute_result"
    }
   ],
   "source": [
    "known_for.head()"
   ]
  },
  {
   "cell_type": "code",
<<<<<<< HEAD
   "execution_count": 75,
=======
   "execution_count": 201,
>>>>>>> origin/main
   "metadata": {
    "collapsed": true
   },
   "outputs": [
    {
     "name": "stdout",
     "output_type": "stream",
     "text": [
      "<class 'pandas.core.frame.DataFrame'>\n",
      "RangeIndex: 1638260 entries, 0 to 1638259\n",
      "Data columns (total 2 columns):\n",
      " #   Column     Non-Null Count    Dtype \n",
      "---  ------     --------------    ----- \n",
      " 0   person_id  1638260 non-null  object\n",
      " 1   movie_id   1638260 non-null  object\n",
      "dtypes: object(2)\n",
      "memory usage: 25.0+ MB\n"
     ]
    }
   ],
   "source": [
    "known_for.info()"
   ]
  },
  {
   "cell_type": "code",
<<<<<<< HEAD
   "execution_count": 76,
=======
   "execution_count": 202,
>>>>>>> origin/main
   "metadata": {
    "collapsed": true
   },
   "outputs": [
    {
     "data": {
      "text/html": [
       "<div>\n",
       "<style scoped>\n",
       "    .dataframe tbody tr th:only-of-type {\n",
       "        vertical-align: middle;\n",
       "    }\n",
       "\n",
       "    .dataframe tbody tr th {\n",
       "        vertical-align: top;\n",
       "    }\n",
       "\n",
       "    .dataframe thead th {\n",
       "        text-align: right;\n",
       "    }\n",
       "</style>\n",
       "<table border=\"1\" class=\"dataframe\">\n",
       "  <thead>\n",
       "    <tr style=\"text-align: right;\">\n",
       "      <th></th>\n",
       "      <th>person_id</th>\n",
       "      <th>movie_id</th>\n",
       "    </tr>\n",
       "  </thead>\n",
       "  <tbody>\n",
       "    <tr>\n",
       "      <th>count</th>\n",
       "      <td>1638260</td>\n",
       "      <td>1638260</td>\n",
       "    </tr>\n",
       "    <tr>\n",
       "      <th>unique</th>\n",
       "      <td>576444</td>\n",
       "      <td>514781</td>\n",
       "    </tr>\n",
       "    <tr>\n",
       "      <th>top</th>\n",
       "      <td>nm1202937</td>\n",
       "      <td>tt0806910</td>\n",
       "    </tr>\n",
       "    <tr>\n",
       "      <th>freq</th>\n",
       "      <td>6</td>\n",
       "      <td>633</td>\n",
       "    </tr>\n",
       "  </tbody>\n",
       "</table>\n",
       "</div>"
      ],
      "text/plain": [
       "        person_id   movie_id\n",
       "count     1638260    1638260\n",
       "unique     576444     514781\n",
       "top     nm1202937  tt0806910\n",
       "freq            6        633"
      ]
     },
<<<<<<< HEAD
     "execution_count": 76,
=======
     "execution_count": 202,
>>>>>>> origin/main
     "metadata": {},
     "output_type": "execute_result"
    }
   ],
   "source": [
    "known_for.describe(include=\"all\")"
   ]
  },
  {
   "cell_type": "code",
   "execution_count": null,
   "metadata": {},
   "outputs": [],
   "source": []
  },
  {
   "cell_type": "markdown",
   "metadata": {},
   "source": [
    "#### movie_akas\n",
    "movie_id  |  ordering  |  title  |  region  |  language  |  types  |  attributes  |  is_original_title"
   ]
  },
  {
   "cell_type": "code",
<<<<<<< HEAD
   "execution_count": 77,
=======
   "execution_count": 203,
>>>>>>> origin/main
   "metadata": {},
   "outputs": [],
   "source": [
    "movie_akas = pd.read_sql(\"\"\"\n",
    "            SELECT *\n",
    "            FROM movie_akas\n",
    "\"\"\", conn)"
   ]
  },
  {
   "cell_type": "code",
<<<<<<< HEAD
   "execution_count": 78,
=======
   "execution_count": 204,
>>>>>>> origin/main
   "metadata": {
    "collapsed": true
   },
   "outputs": [
    {
     "data": {
      "text/html": [
       "<div>\n",
       "<style scoped>\n",
       "    .dataframe tbody tr th:only-of-type {\n",
       "        vertical-align: middle;\n",
       "    }\n",
       "\n",
       "    .dataframe tbody tr th {\n",
       "        vertical-align: top;\n",
       "    }\n",
       "\n",
       "    .dataframe thead th {\n",
       "        text-align: right;\n",
       "    }\n",
       "</style>\n",
       "<table border=\"1\" class=\"dataframe\">\n",
       "  <thead>\n",
       "    <tr style=\"text-align: right;\">\n",
       "      <th></th>\n",
       "      <th>movie_id</th>\n",
       "      <th>ordering</th>\n",
       "      <th>title</th>\n",
       "      <th>region</th>\n",
       "      <th>language</th>\n",
       "      <th>types</th>\n",
       "      <th>attributes</th>\n",
       "      <th>is_original_title</th>\n",
       "    </tr>\n",
       "  </thead>\n",
       "  <tbody>\n",
       "    <tr>\n",
       "      <th>0</th>\n",
       "      <td>tt0369610</td>\n",
       "      <td>10</td>\n",
       "      <td>Джурасик свят</td>\n",
       "      <td>BG</td>\n",
       "      <td>bg</td>\n",
       "      <td>None</td>\n",
       "      <td>None</td>\n",
       "      <td>0.0</td>\n",
       "    </tr>\n",
       "    <tr>\n",
       "      <th>1</th>\n",
       "      <td>tt0369610</td>\n",
       "      <td>11</td>\n",
       "      <td>Jurashikku warudo</td>\n",
       "      <td>JP</td>\n",
       "      <td>None</td>\n",
       "      <td>imdbDisplay</td>\n",
       "      <td>None</td>\n",
       "      <td>0.0</td>\n",
       "    </tr>\n",
       "    <tr>\n",
       "      <th>2</th>\n",
       "      <td>tt0369610</td>\n",
       "      <td>12</td>\n",
       "      <td>Jurassic World: O Mundo dos Dinossauros</td>\n",
       "      <td>BR</td>\n",
       "      <td>None</td>\n",
       "      <td>imdbDisplay</td>\n",
       "      <td>None</td>\n",
       "      <td>0.0</td>\n",
       "    </tr>\n",
       "    <tr>\n",
       "      <th>3</th>\n",
       "      <td>tt0369610</td>\n",
       "      <td>13</td>\n",
       "      <td>O Mundo dos Dinossauros</td>\n",
       "      <td>BR</td>\n",
       "      <td>None</td>\n",
       "      <td>None</td>\n",
       "      <td>short title</td>\n",
       "      <td>0.0</td>\n",
       "    </tr>\n",
       "    <tr>\n",
       "      <th>4</th>\n",
       "      <td>tt0369610</td>\n",
       "      <td>14</td>\n",
       "      <td>Jurassic World</td>\n",
       "      <td>FR</td>\n",
       "      <td>None</td>\n",
       "      <td>imdbDisplay</td>\n",
       "      <td>None</td>\n",
       "      <td>0.0</td>\n",
       "    </tr>\n",
       "  </tbody>\n",
       "</table>\n",
       "</div>"
      ],
      "text/plain": [
       "    movie_id  ordering                                    title region  \\\n",
       "0  tt0369610        10                            Джурасик свят     BG   \n",
       "1  tt0369610        11                        Jurashikku warudo     JP   \n",
       "2  tt0369610        12  Jurassic World: O Mundo dos Dinossauros     BR   \n",
       "3  tt0369610        13                  O Mundo dos Dinossauros     BR   \n",
       "4  tt0369610        14                           Jurassic World     FR   \n",
       "\n",
       "  language        types   attributes  is_original_title  \n",
       "0       bg         None         None                0.0  \n",
       "1     None  imdbDisplay         None                0.0  \n",
       "2     None  imdbDisplay         None                0.0  \n",
       "3     None         None  short title                0.0  \n",
       "4     None  imdbDisplay         None                0.0  "
      ]
     },
<<<<<<< HEAD
     "execution_count": 78,
=======
     "execution_count": 204,
>>>>>>> origin/main
     "metadata": {},
     "output_type": "execute_result"
    }
   ],
   "source": [
    "movie_akas.head()"
   ]
  },
  {
   "cell_type": "code",
<<<<<<< HEAD
   "execution_count": 79,
=======
   "execution_count": 205,
>>>>>>> origin/main
   "metadata": {
    "collapsed": true
   },
   "outputs": [
    {
     "name": "stdout",
     "output_type": "stream",
     "text": [
      "<class 'pandas.core.frame.DataFrame'>\n",
      "RangeIndex: 331703 entries, 0 to 331702\n",
      "Data columns (total 8 columns):\n",
      " #   Column             Non-Null Count   Dtype  \n",
      "---  ------             --------------   -----  \n",
      " 0   movie_id           331703 non-null  object \n",
      " 1   ordering           331703 non-null  int64  \n",
      " 2   title              331703 non-null  object \n",
      " 3   region             278410 non-null  object \n",
      " 4   language           41715 non-null   object \n",
      " 5   types              168447 non-null  object \n",
      " 6   attributes         14925 non-null   object \n",
      " 7   is_original_title  331678 non-null  float64\n",
      "dtypes: float64(1), int64(1), object(6)\n",
      "memory usage: 20.2+ MB\n"
     ]
    }
   ],
   "source": [
    "movie_akas.info()"
   ]
  },
  {
   "cell_type": "code",
<<<<<<< HEAD
   "execution_count": 80,
=======
   "execution_count": 206,
>>>>>>> origin/main
   "metadata": {
    "collapsed": true
   },
   "outputs": [
    {
     "data": {
      "text/html": [
       "<div>\n",
       "<style scoped>\n",
       "    .dataframe tbody tr th:only-of-type {\n",
       "        vertical-align: middle;\n",
       "    }\n",
       "\n",
       "    .dataframe tbody tr th {\n",
       "        vertical-align: top;\n",
       "    }\n",
       "\n",
       "    .dataframe thead th {\n",
       "        text-align: right;\n",
       "    }\n",
       "</style>\n",
       "<table border=\"1\" class=\"dataframe\">\n",
       "  <thead>\n",
       "    <tr style=\"text-align: right;\">\n",
       "      <th></th>\n",
       "      <th>movie_id</th>\n",
       "      <th>ordering</th>\n",
       "      <th>title</th>\n",
       "      <th>region</th>\n",
       "      <th>language</th>\n",
       "      <th>types</th>\n",
       "      <th>attributes</th>\n",
       "      <th>is_original_title</th>\n",
       "    </tr>\n",
       "  </thead>\n",
       "  <tbody>\n",
       "    <tr>\n",
       "      <th>count</th>\n",
       "      <td>331703</td>\n",
       "      <td>331703.000000</td>\n",
       "      <td>331703</td>\n",
       "      <td>278410</td>\n",
       "      <td>41715</td>\n",
       "      <td>168447</td>\n",
       "      <td>14925</td>\n",
       "      <td>331678.000000</td>\n",
       "    </tr>\n",
       "    <tr>\n",
       "      <th>unique</th>\n",
       "      <td>122302</td>\n",
       "      <td>NaN</td>\n",
       "      <td>252781</td>\n",
       "      <td>213</td>\n",
       "      <td>76</td>\n",
       "      <td>10</td>\n",
       "      <td>77</td>\n",
       "      <td>NaN</td>\n",
       "    </tr>\n",
       "    <tr>\n",
       "      <th>top</th>\n",
       "      <td>tt2488496</td>\n",
       "      <td>NaN</td>\n",
       "      <td>Robin Hood</td>\n",
       "      <td>US</td>\n",
       "      <td>en</td>\n",
       "      <td>imdbDisplay</td>\n",
       "      <td>new title</td>\n",
       "      <td>NaN</td>\n",
       "    </tr>\n",
       "    <tr>\n",
       "      <th>freq</th>\n",
       "      <td>61</td>\n",
       "      <td>NaN</td>\n",
       "      <td>32</td>\n",
       "      <td>51490</td>\n",
       "      <td>22895</td>\n",
       "      <td>100461</td>\n",
       "      <td>1700</td>\n",
       "      <td>NaN</td>\n",
       "    </tr>\n",
       "    <tr>\n",
       "      <th>mean</th>\n",
       "      <td>NaN</td>\n",
       "      <td>5.125872</td>\n",
       "      <td>NaN</td>\n",
       "      <td>NaN</td>\n",
       "      <td>NaN</td>\n",
       "      <td>NaN</td>\n",
       "      <td>NaN</td>\n",
       "      <td>0.134769</td>\n",
       "    </tr>\n",
       "    <tr>\n",
       "      <th>std</th>\n",
       "      <td>NaN</td>\n",
       "      <td>6.706664</td>\n",
       "      <td>NaN</td>\n",
       "      <td>NaN</td>\n",
       "      <td>NaN</td>\n",
       "      <td>NaN</td>\n",
       "      <td>NaN</td>\n",
       "      <td>0.341477</td>\n",
       "    </tr>\n",
       "    <tr>\n",
       "      <th>min</th>\n",
       "      <td>NaN</td>\n",
       "      <td>1.000000</td>\n",
       "      <td>NaN</td>\n",
       "      <td>NaN</td>\n",
       "      <td>NaN</td>\n",
       "      <td>NaN</td>\n",
       "      <td>NaN</td>\n",
       "      <td>0.000000</td>\n",
       "    </tr>\n",
       "    <tr>\n",
       "      <th>25%</th>\n",
       "      <td>NaN</td>\n",
       "      <td>1.000000</td>\n",
       "      <td>NaN</td>\n",
       "      <td>NaN</td>\n",
       "      <td>NaN</td>\n",
       "      <td>NaN</td>\n",
       "      <td>NaN</td>\n",
       "      <td>0.000000</td>\n",
       "    </tr>\n",
       "    <tr>\n",
       "      <th>50%</th>\n",
       "      <td>NaN</td>\n",
       "      <td>2.000000</td>\n",
       "      <td>NaN</td>\n",
       "      <td>NaN</td>\n",
       "      <td>NaN</td>\n",
       "      <td>NaN</td>\n",
       "      <td>NaN</td>\n",
       "      <td>0.000000</td>\n",
       "    </tr>\n",
       "    <tr>\n",
       "      <th>75%</th>\n",
       "      <td>NaN</td>\n",
       "      <td>6.000000</td>\n",
       "      <td>NaN</td>\n",
       "      <td>NaN</td>\n",
       "      <td>NaN</td>\n",
       "      <td>NaN</td>\n",
       "      <td>NaN</td>\n",
       "      <td>0.000000</td>\n",
       "    </tr>\n",
       "    <tr>\n",
       "      <th>max</th>\n",
       "      <td>NaN</td>\n",
       "      <td>61.000000</td>\n",
       "      <td>NaN</td>\n",
       "      <td>NaN</td>\n",
       "      <td>NaN</td>\n",
       "      <td>NaN</td>\n",
       "      <td>NaN</td>\n",
       "      <td>1.000000</td>\n",
       "    </tr>\n",
       "  </tbody>\n",
       "</table>\n",
       "</div>"
      ],
      "text/plain": [
       "         movie_id       ordering       title  region language        types  \\\n",
       "count      331703  331703.000000      331703  278410    41715       168447   \n",
       "unique     122302            NaN      252781     213       76           10   \n",
       "top     tt2488496            NaN  Robin Hood      US       en  imdbDisplay   \n",
       "freq           61            NaN          32   51490    22895       100461   \n",
       "mean          NaN       5.125872         NaN     NaN      NaN          NaN   \n",
       "std           NaN       6.706664         NaN     NaN      NaN          NaN   \n",
       "min           NaN       1.000000         NaN     NaN      NaN          NaN   \n",
       "25%           NaN       1.000000         NaN     NaN      NaN          NaN   \n",
       "50%           NaN       2.000000         NaN     NaN      NaN          NaN   \n",
       "75%           NaN       6.000000         NaN     NaN      NaN          NaN   \n",
       "max           NaN      61.000000         NaN     NaN      NaN          NaN   \n",
       "\n",
       "       attributes  is_original_title  \n",
       "count       14925      331678.000000  \n",
       "unique         77                NaN  \n",
       "top     new title                NaN  \n",
       "freq         1700                NaN  \n",
       "mean          NaN           0.134769  \n",
       "std           NaN           0.341477  \n",
       "min           NaN           0.000000  \n",
       "25%           NaN           0.000000  \n",
       "50%           NaN           0.000000  \n",
       "75%           NaN           0.000000  \n",
       "max           NaN           1.000000  "
      ]
     },
<<<<<<< HEAD
     "execution_count": 80,
=======
     "execution_count": 206,
>>>>>>> origin/main
     "metadata": {},
     "output_type": "execute_result"
    }
   ],
   "source": [
    "movie_akas.describe(include=\"all\")"
   ]
  },
  {
   "cell_type": "markdown",
   "metadata": {},
   "source": [
    "#### movie_ratings\n",
    "movie_id  |  averagerating  |  numvotes"
   ]
  },
  {
   "cell_type": "code",
<<<<<<< HEAD
   "execution_count": 81,
=======
   "execution_count": 207,
>>>>>>> origin/main
   "metadata": {},
   "outputs": [],
   "source": [
    "movie_ratings = pd.read_sql(\"\"\"\n",
    "            SELECT *\n",
    "            FROM movie_ratings\n",
    "\"\"\", conn)"
   ]
  },
  {
   "cell_type": "code",
<<<<<<< HEAD
   "execution_count": 82,
=======
   "execution_count": 208,
>>>>>>> origin/main
   "metadata": {
    "collapsed": true
   },
   "outputs": [
    {
     "data": {
      "text/html": [
       "<div>\n",
       "<style scoped>\n",
       "    .dataframe tbody tr th:only-of-type {\n",
       "        vertical-align: middle;\n",
       "    }\n",
       "\n",
       "    .dataframe tbody tr th {\n",
       "        vertical-align: top;\n",
       "    }\n",
       "\n",
       "    .dataframe thead th {\n",
       "        text-align: right;\n",
       "    }\n",
       "</style>\n",
       "<table border=\"1\" class=\"dataframe\">\n",
       "  <thead>\n",
       "    <tr style=\"text-align: right;\">\n",
       "      <th></th>\n",
       "      <th>movie_id</th>\n",
       "      <th>averagerating</th>\n",
       "      <th>numvotes</th>\n",
       "    </tr>\n",
       "  </thead>\n",
       "  <tbody>\n",
       "    <tr>\n",
       "      <th>0</th>\n",
       "      <td>tt10356526</td>\n",
       "      <td>8.3</td>\n",
       "      <td>31</td>\n",
       "    </tr>\n",
       "    <tr>\n",
       "      <th>1</th>\n",
       "      <td>tt10384606</td>\n",
       "      <td>8.9</td>\n",
       "      <td>559</td>\n",
       "    </tr>\n",
       "    <tr>\n",
       "      <th>2</th>\n",
       "      <td>tt1042974</td>\n",
       "      <td>6.4</td>\n",
       "      <td>20</td>\n",
       "    </tr>\n",
       "    <tr>\n",
       "      <th>3</th>\n",
       "      <td>tt1043726</td>\n",
       "      <td>4.2</td>\n",
       "      <td>50352</td>\n",
       "    </tr>\n",
       "    <tr>\n",
       "      <th>4</th>\n",
       "      <td>tt1060240</td>\n",
       "      <td>6.5</td>\n",
       "      <td>21</td>\n",
       "    </tr>\n",
       "  </tbody>\n",
       "</table>\n",
       "</div>"
      ],
      "text/plain": [
       "     movie_id  averagerating  numvotes\n",
       "0  tt10356526            8.3        31\n",
       "1  tt10384606            8.9       559\n",
       "2   tt1042974            6.4        20\n",
       "3   tt1043726            4.2     50352\n",
       "4   tt1060240            6.5        21"
      ]
     },
<<<<<<< HEAD
     "execution_count": 82,
=======
     "execution_count": 208,
>>>>>>> origin/main
     "metadata": {},
     "output_type": "execute_result"
    }
   ],
   "source": [
    "movie_ratings.head()"
   ]
  },
  {
   "cell_type": "code",
<<<<<<< HEAD
   "execution_count": 83,
=======
   "execution_count": 209,
>>>>>>> origin/main
   "metadata": {
    "collapsed": true
   },
   "outputs": [
    {
     "name": "stdout",
     "output_type": "stream",
     "text": [
      "<class 'pandas.core.frame.DataFrame'>\n",
      "RangeIndex: 73856 entries, 0 to 73855\n",
      "Data columns (total 3 columns):\n",
      " #   Column         Non-Null Count  Dtype  \n",
      "---  ------         --------------  -----  \n",
      " 0   movie_id       73856 non-null  object \n",
      " 1   averagerating  73856 non-null  float64\n",
      " 2   numvotes       73856 non-null  int64  \n",
      "dtypes: float64(1), int64(1), object(1)\n",
      "memory usage: 1.7+ MB\n"
     ]
    }
   ],
   "source": [
    "movie_ratings.info()"
   ]
  },
  {
   "cell_type": "code",
<<<<<<< HEAD
   "execution_count": 84,
=======
   "execution_count": 210,
>>>>>>> origin/main
   "metadata": {
    "collapsed": true
   },
   "outputs": [
    {
     "data": {
      "text/html": [
       "<div>\n",
       "<style scoped>\n",
       "    .dataframe tbody tr th:only-of-type {\n",
       "        vertical-align: middle;\n",
       "    }\n",
       "\n",
       "    .dataframe tbody tr th {\n",
       "        vertical-align: top;\n",
       "    }\n",
       "\n",
       "    .dataframe thead th {\n",
       "        text-align: right;\n",
       "    }\n",
       "</style>\n",
       "<table border=\"1\" class=\"dataframe\">\n",
       "  <thead>\n",
       "    <tr style=\"text-align: right;\">\n",
       "      <th></th>\n",
       "      <th>movie_id</th>\n",
       "      <th>averagerating</th>\n",
       "      <th>numvotes</th>\n",
       "    </tr>\n",
       "  </thead>\n",
       "  <tbody>\n",
       "    <tr>\n",
       "      <th>count</th>\n",
       "      <td>73856</td>\n",
       "      <td>73856.000000</td>\n",
       "      <td>7.385600e+04</td>\n",
       "    </tr>\n",
       "    <tr>\n",
       "      <th>unique</th>\n",
       "      <td>73856</td>\n",
       "      <td>NaN</td>\n",
       "      <td>NaN</td>\n",
       "    </tr>\n",
       "    <tr>\n",
       "      <th>top</th>\n",
<<<<<<< HEAD
       "      <td>tt10356526</td>\n",
=======
       "      <td>tt1989632</td>\n",
>>>>>>> origin/main
       "      <td>NaN</td>\n",
       "      <td>NaN</td>\n",
       "    </tr>\n",
       "    <tr>\n",
       "      <th>freq</th>\n",
       "      <td>1</td>\n",
       "      <td>NaN</td>\n",
       "      <td>NaN</td>\n",
       "    </tr>\n",
       "    <tr>\n",
       "      <th>mean</th>\n",
       "      <td>NaN</td>\n",
       "      <td>6.332729</td>\n",
       "      <td>3.523662e+03</td>\n",
       "    </tr>\n",
       "    <tr>\n",
       "      <th>std</th>\n",
       "      <td>NaN</td>\n",
       "      <td>1.474978</td>\n",
       "      <td>3.029402e+04</td>\n",
       "    </tr>\n",
       "    <tr>\n",
       "      <th>min</th>\n",
       "      <td>NaN</td>\n",
       "      <td>1.000000</td>\n",
       "      <td>5.000000e+00</td>\n",
       "    </tr>\n",
       "    <tr>\n",
       "      <th>25%</th>\n",
       "      <td>NaN</td>\n",
       "      <td>5.500000</td>\n",
       "      <td>1.400000e+01</td>\n",
       "    </tr>\n",
       "    <tr>\n",
       "      <th>50%</th>\n",
       "      <td>NaN</td>\n",
       "      <td>6.500000</td>\n",
       "      <td>4.900000e+01</td>\n",
       "    </tr>\n",
       "    <tr>\n",
       "      <th>75%</th>\n",
       "      <td>NaN</td>\n",
       "      <td>7.400000</td>\n",
       "      <td>2.820000e+02</td>\n",
       "    </tr>\n",
       "    <tr>\n",
       "      <th>max</th>\n",
       "      <td>NaN</td>\n",
       "      <td>10.000000</td>\n",
       "      <td>1.841066e+06</td>\n",
       "    </tr>\n",
       "  </tbody>\n",
       "</table>\n",
       "</div>"
      ],
      "text/plain": [
<<<<<<< HEAD
       "          movie_id  averagerating      numvotes\n",
       "count        73856   73856.000000  7.385600e+04\n",
       "unique       73856            NaN           NaN\n",
       "top     tt10356526            NaN           NaN\n",
       "freq             1            NaN           NaN\n",
       "mean           NaN       6.332729  3.523662e+03\n",
       "std            NaN       1.474978  3.029402e+04\n",
       "min            NaN       1.000000  5.000000e+00\n",
       "25%            NaN       5.500000  1.400000e+01\n",
       "50%            NaN       6.500000  4.900000e+01\n",
       "75%            NaN       7.400000  2.820000e+02\n",
       "max            NaN      10.000000  1.841066e+06"
      ]
     },
     "execution_count": 84,
=======
       "         movie_id  averagerating      numvotes\n",
       "count       73856   73856.000000  7.385600e+04\n",
       "unique      73856            NaN           NaN\n",
       "top     tt1989632            NaN           NaN\n",
       "freq            1            NaN           NaN\n",
       "mean          NaN       6.332729  3.523662e+03\n",
       "std           NaN       1.474978  3.029402e+04\n",
       "min           NaN       1.000000  5.000000e+00\n",
       "25%           NaN       5.500000  1.400000e+01\n",
       "50%           NaN       6.500000  4.900000e+01\n",
       "75%           NaN       7.400000  2.820000e+02\n",
       "max           NaN      10.000000  1.841066e+06"
      ]
     },
     "execution_count": 210,
>>>>>>> origin/main
     "metadata": {},
     "output_type": "execute_result"
    }
   ],
   "source": [
    "movie_ratings.describe(include=\"all\")"
   ]
  },
  {
   "cell_type": "markdown",
   "metadata": {},
   "source": [
    "#### persons\n",
    "person_id  |  primary_name  |  birth_year  |  death_year  |  primary_profession"
   ]
  },
  {
   "cell_type": "code",
<<<<<<< HEAD
   "execution_count": 85,
=======
   "execution_count": 211,
>>>>>>> origin/main
   "metadata": {},
   "outputs": [],
   "source": [
    "persons = pd.read_sql(\"\"\"\n",
    "            SELECT *\n",
    "            FROM persons\n",
    "\"\"\", conn)"
   ]
  },
  {
   "cell_type": "code",
<<<<<<< HEAD
   "execution_count": 86,
=======
   "execution_count": 212,
>>>>>>> origin/main
   "metadata": {
    "collapsed": true
   },
   "outputs": [
    {
     "data": {
      "text/html": [
       "<div>\n",
       "<style scoped>\n",
       "    .dataframe tbody tr th:only-of-type {\n",
       "        vertical-align: middle;\n",
       "    }\n",
       "\n",
       "    .dataframe tbody tr th {\n",
       "        vertical-align: top;\n",
       "    }\n",
       "\n",
       "    .dataframe thead th {\n",
       "        text-align: right;\n",
       "    }\n",
       "</style>\n",
       "<table border=\"1\" class=\"dataframe\">\n",
       "  <thead>\n",
       "    <tr style=\"text-align: right;\">\n",
       "      <th></th>\n",
       "      <th>person_id</th>\n",
       "      <th>primary_name</th>\n",
       "      <th>birth_year</th>\n",
       "      <th>death_year</th>\n",
       "      <th>primary_profession</th>\n",
       "    </tr>\n",
       "  </thead>\n",
       "  <tbody>\n",
       "    <tr>\n",
       "      <th>0</th>\n",
       "      <td>nm0061671</td>\n",
       "      <td>Mary Ellen Bauder</td>\n",
       "      <td>NaN</td>\n",
       "      <td>NaN</td>\n",
       "      <td>miscellaneous,production_manager,producer</td>\n",
       "    </tr>\n",
       "    <tr>\n",
       "      <th>1</th>\n",
       "      <td>nm0061865</td>\n",
       "      <td>Joseph Bauer</td>\n",
       "      <td>NaN</td>\n",
       "      <td>NaN</td>\n",
       "      <td>composer,music_department,sound_department</td>\n",
       "    </tr>\n",
       "    <tr>\n",
       "      <th>2</th>\n",
       "      <td>nm0062070</td>\n",
       "      <td>Bruce Baum</td>\n",
       "      <td>NaN</td>\n",
       "      <td>NaN</td>\n",
       "      <td>miscellaneous,actor,writer</td>\n",
       "    </tr>\n",
       "    <tr>\n",
       "      <th>3</th>\n",
       "      <td>nm0062195</td>\n",
       "      <td>Axel Baumann</td>\n",
       "      <td>NaN</td>\n",
       "      <td>NaN</td>\n",
       "      <td>camera_department,cinematographer,art_department</td>\n",
       "    </tr>\n",
       "    <tr>\n",
       "      <th>4</th>\n",
       "      <td>nm0062798</td>\n",
       "      <td>Pete Baxter</td>\n",
       "      <td>NaN</td>\n",
       "      <td>NaN</td>\n",
       "      <td>production_designer,art_department,set_decorator</td>\n",
       "    </tr>\n",
       "  </tbody>\n",
       "</table>\n",
       "</div>"
      ],
      "text/plain": [
       "   person_id       primary_name  birth_year  death_year  \\\n",
       "0  nm0061671  Mary Ellen Bauder         NaN         NaN   \n",
       "1  nm0061865       Joseph Bauer         NaN         NaN   \n",
       "2  nm0062070         Bruce Baum         NaN         NaN   \n",
       "3  nm0062195       Axel Baumann         NaN         NaN   \n",
       "4  nm0062798        Pete Baxter         NaN         NaN   \n",
       "\n",
       "                                 primary_profession  \n",
       "0         miscellaneous,production_manager,producer  \n",
       "1        composer,music_department,sound_department  \n",
       "2                        miscellaneous,actor,writer  \n",
       "3  camera_department,cinematographer,art_department  \n",
       "4  production_designer,art_department,set_decorator  "
      ]
     },
<<<<<<< HEAD
     "execution_count": 86,
=======
     "execution_count": 212,
>>>>>>> origin/main
     "metadata": {},
     "output_type": "execute_result"
    }
   ],
   "source": [
    "persons.head()"
   ]
  },
  {
   "cell_type": "code",
<<<<<<< HEAD
   "execution_count": 87,
=======
   "execution_count": 213,
>>>>>>> origin/main
   "metadata": {
    "collapsed": true
   },
   "outputs": [
    {
     "name": "stdout",
     "output_type": "stream",
     "text": [
      "<class 'pandas.core.frame.DataFrame'>\n",
      "RangeIndex: 606648 entries, 0 to 606647\n",
      "Data columns (total 5 columns):\n",
      " #   Column              Non-Null Count   Dtype  \n",
      "---  ------              --------------   -----  \n",
      " 0   person_id           606648 non-null  object \n",
      " 1   primary_name        606648 non-null  object \n",
      " 2   birth_year          82736 non-null   float64\n",
      " 3   death_year          6783 non-null    float64\n",
      " 4   primary_profession  555308 non-null  object \n",
      "dtypes: float64(2), object(3)\n",
      "memory usage: 23.1+ MB\n"
     ]
    }
   ],
   "source": [
    "persons.info()"
   ]
  },
  {
   "cell_type": "code",
<<<<<<< HEAD
   "execution_count": 88,
=======
   "execution_count": 214,
>>>>>>> origin/main
   "metadata": {
    "collapsed": true
   },
   "outputs": [
    {
     "data": {
      "text/html": [
       "<div>\n",
       "<style scoped>\n",
       "    .dataframe tbody tr th:only-of-type {\n",
       "        vertical-align: middle;\n",
       "    }\n",
       "\n",
       "    .dataframe tbody tr th {\n",
       "        vertical-align: top;\n",
       "    }\n",
       "\n",
       "    .dataframe thead th {\n",
       "        text-align: right;\n",
       "    }\n",
       "</style>\n",
       "<table border=\"1\" class=\"dataframe\">\n",
       "  <thead>\n",
       "    <tr style=\"text-align: right;\">\n",
       "      <th></th>\n",
       "      <th>person_id</th>\n",
       "      <th>primary_name</th>\n",
       "      <th>birth_year</th>\n",
       "      <th>death_year</th>\n",
       "      <th>primary_profession</th>\n",
       "    </tr>\n",
       "  </thead>\n",
       "  <tbody>\n",
       "    <tr>\n",
       "      <th>count</th>\n",
       "      <td>606648</td>\n",
       "      <td>606648</td>\n",
       "      <td>82736.000000</td>\n",
       "      <td>6783.000000</td>\n",
       "      <td>555308</td>\n",
       "    </tr>\n",
       "    <tr>\n",
       "      <th>unique</th>\n",
       "      <td>606648</td>\n",
       "      <td>577203</td>\n",
       "      <td>NaN</td>\n",
       "      <td>NaN</td>\n",
       "      <td>8647</td>\n",
       "    </tr>\n",
       "    <tr>\n",
       "      <th>top</th>\n",
<<<<<<< HEAD
       "      <td>nm0061671</td>\n",
       "      <td>Michael Brown</td>\n",
=======
       "      <td>nm7060051</td>\n",
       "      <td>James Brown</td>\n",
>>>>>>> origin/main
       "      <td>NaN</td>\n",
       "      <td>NaN</td>\n",
       "      <td>actor</td>\n",
       "    </tr>\n",
       "    <tr>\n",
       "      <th>freq</th>\n",
       "      <td>1</td>\n",
       "      <td>16</td>\n",
       "      <td>NaN</td>\n",
       "      <td>NaN</td>\n",
       "      <td>88306</td>\n",
       "    </tr>\n",
       "    <tr>\n",
       "      <th>mean</th>\n",
       "      <td>NaN</td>\n",
       "      <td>NaN</td>\n",
       "      <td>1967.043826</td>\n",
       "      <td>2000.523367</td>\n",
       "      <td>NaN</td>\n",
       "    </tr>\n",
       "    <tr>\n",
       "      <th>std</th>\n",
       "      <td>NaN</td>\n",
       "      <td>NaN</td>\n",
       "      <td>22.122190</td>\n",
       "      <td>43.951530</td>\n",
       "      <td>NaN</td>\n",
       "    </tr>\n",
       "    <tr>\n",
       "      <th>min</th>\n",
       "      <td>NaN</td>\n",
       "      <td>NaN</td>\n",
       "      <td>1.000000</td>\n",
       "      <td>17.000000</td>\n",
       "      <td>NaN</td>\n",
       "    </tr>\n",
       "    <tr>\n",
       "      <th>25%</th>\n",
       "      <td>NaN</td>\n",
       "      <td>NaN</td>\n",
       "      <td>1957.000000</td>\n",
       "      <td>2001.000000</td>\n",
       "      <td>NaN</td>\n",
       "    </tr>\n",
       "    <tr>\n",
       "      <th>50%</th>\n",
       "      <td>NaN</td>\n",
       "      <td>NaN</td>\n",
       "      <td>1971.000000</td>\n",
       "      <td>2013.000000</td>\n",
       "      <td>NaN</td>\n",
       "    </tr>\n",
       "    <tr>\n",
       "      <th>75%</th>\n",
       "      <td>NaN</td>\n",
       "      <td>NaN</td>\n",
       "      <td>1981.000000</td>\n",
       "      <td>2016.000000</td>\n",
       "      <td>NaN</td>\n",
       "    </tr>\n",
       "    <tr>\n",
       "      <th>max</th>\n",
       "      <td>NaN</td>\n",
       "      <td>NaN</td>\n",
       "      <td>2014.000000</td>\n",
       "      <td>2019.000000</td>\n",
       "      <td>NaN</td>\n",
       "    </tr>\n",
       "  </tbody>\n",
       "</table>\n",
       "</div>"
      ],
      "text/plain": [
<<<<<<< HEAD
       "        person_id   primary_name    birth_year   death_year primary_profession\n",
       "count      606648         606648  82736.000000  6783.000000             555308\n",
       "unique     606648         577203           NaN          NaN               8647\n",
       "top     nm0061671  Michael Brown           NaN          NaN              actor\n",
       "freq            1             16           NaN          NaN              88306\n",
       "mean          NaN            NaN   1967.043826  2000.523367                NaN\n",
       "std           NaN            NaN     22.122190    43.951530                NaN\n",
       "min           NaN            NaN      1.000000    17.000000                NaN\n",
       "25%           NaN            NaN   1957.000000  2001.000000                NaN\n",
       "50%           NaN            NaN   1971.000000  2013.000000                NaN\n",
       "75%           NaN            NaN   1981.000000  2016.000000                NaN\n",
       "max           NaN            NaN   2014.000000  2019.000000                NaN"
      ]
     },
     "execution_count": 88,
=======
       "        person_id primary_name    birth_year   death_year primary_profession\n",
       "count      606648       606648  82736.000000  6783.000000             555308\n",
       "unique     606648       577203           NaN          NaN               8647\n",
       "top     nm7060051  James Brown           NaN          NaN              actor\n",
       "freq            1           16           NaN          NaN              88306\n",
       "mean          NaN          NaN   1967.043826  2000.523367                NaN\n",
       "std           NaN          NaN     22.122190    43.951530                NaN\n",
       "min           NaN          NaN      1.000000    17.000000                NaN\n",
       "25%           NaN          NaN   1957.000000  2001.000000                NaN\n",
       "50%           NaN          NaN   1971.000000  2013.000000                NaN\n",
       "75%           NaN          NaN   1981.000000  2016.000000                NaN\n",
       "max           NaN          NaN   2014.000000  2019.000000                NaN"
      ]
     },
     "execution_count": 214,
>>>>>>> origin/main
     "metadata": {},
     "output_type": "execute_result"
    }
   ],
   "source": [
    "persons.describe(include=\"all\")"
   ]
  },
  {
   "cell_type": "markdown",
   "metadata": {},
   "source": [
    "#### principals\n",
    "movie_id  |  ordering  |  person_id  |  category  |  job  |  characters"
   ]
  },
  {
   "cell_type": "code",
<<<<<<< HEAD
   "execution_count": 89,
=======
   "execution_count": 215,
>>>>>>> origin/main
   "metadata": {},
   "outputs": [],
   "source": [
    "principals = pd.read_sql(\"\"\"\n",
    "            SELECT *\n",
    "            FROM principals\n",
    "\"\"\", conn)"
   ]
  },
  {
   "cell_type": "code",
<<<<<<< HEAD
   "execution_count": 90,
=======
   "execution_count": 216,
>>>>>>> origin/main
   "metadata": {
    "collapsed": true
   },
   "outputs": [
    {
     "data": {
      "text/html": [
       "<div>\n",
       "<style scoped>\n",
       "    .dataframe tbody tr th:only-of-type {\n",
       "        vertical-align: middle;\n",
       "    }\n",
       "\n",
       "    .dataframe tbody tr th {\n",
       "        vertical-align: top;\n",
       "    }\n",
       "\n",
       "    .dataframe thead th {\n",
       "        text-align: right;\n",
       "    }\n",
       "</style>\n",
       "<table border=\"1\" class=\"dataframe\">\n",
       "  <thead>\n",
       "    <tr style=\"text-align: right;\">\n",
       "      <th></th>\n",
       "      <th>movie_id</th>\n",
       "      <th>ordering</th>\n",
       "      <th>person_id</th>\n",
       "      <th>category</th>\n",
       "      <th>job</th>\n",
       "      <th>characters</th>\n",
       "    </tr>\n",
       "  </thead>\n",
       "  <tbody>\n",
       "    <tr>\n",
       "      <th>0</th>\n",
       "      <td>tt0111414</td>\n",
       "      <td>1</td>\n",
       "      <td>nm0246005</td>\n",
       "      <td>actor</td>\n",
       "      <td>None</td>\n",
       "      <td>[\"The Man\"]</td>\n",
       "    </tr>\n",
       "    <tr>\n",
       "      <th>1</th>\n",
       "      <td>tt0111414</td>\n",
       "      <td>2</td>\n",
       "      <td>nm0398271</td>\n",
       "      <td>director</td>\n",
       "      <td>None</td>\n",
       "      <td>None</td>\n",
       "    </tr>\n",
       "    <tr>\n",
       "      <th>2</th>\n",
       "      <td>tt0111414</td>\n",
       "      <td>3</td>\n",
       "      <td>nm3739909</td>\n",
       "      <td>producer</td>\n",
       "      <td>producer</td>\n",
       "      <td>None</td>\n",
       "    </tr>\n",
       "    <tr>\n",
       "      <th>3</th>\n",
       "      <td>tt0323808</td>\n",
       "      <td>10</td>\n",
       "      <td>nm0059247</td>\n",
       "      <td>editor</td>\n",
       "      <td>None</td>\n",
       "      <td>None</td>\n",
       "    </tr>\n",
       "    <tr>\n",
       "      <th>4</th>\n",
       "      <td>tt0323808</td>\n",
       "      <td>1</td>\n",
       "      <td>nm3579312</td>\n",
       "      <td>actress</td>\n",
       "      <td>None</td>\n",
       "      <td>[\"Beth Boothby\"]</td>\n",
       "    </tr>\n",
       "  </tbody>\n",
       "</table>\n",
       "</div>"
      ],
      "text/plain": [
       "    movie_id  ordering  person_id  category       job        characters\n",
       "0  tt0111414         1  nm0246005     actor      None       [\"The Man\"]\n",
       "1  tt0111414         2  nm0398271  director      None              None\n",
       "2  tt0111414         3  nm3739909  producer  producer              None\n",
       "3  tt0323808        10  nm0059247    editor      None              None\n",
       "4  tt0323808         1  nm3579312   actress      None  [\"Beth Boothby\"]"
      ]
     },
<<<<<<< HEAD
     "execution_count": 90,
=======
     "execution_count": 216,
>>>>>>> origin/main
     "metadata": {},
     "output_type": "execute_result"
    }
   ],
   "source": [
    "principals.head()"
   ]
  },
  {
   "cell_type": "code",
<<<<<<< HEAD
   "execution_count": 91,
=======
   "execution_count": 217,
>>>>>>> origin/main
   "metadata": {},
   "outputs": [
    {
     "name": "stdout",
     "output_type": "stream",
     "text": [
      "<class 'pandas.core.frame.DataFrame'>\n",
      "RangeIndex: 1028186 entries, 0 to 1028185\n",
      "Data columns (total 6 columns):\n",
      " #   Column      Non-Null Count    Dtype \n",
      "---  ------      --------------    ----- \n",
      " 0   movie_id    1028186 non-null  object\n",
      " 1   ordering    1028186 non-null  int64 \n",
      " 2   person_id   1028186 non-null  object\n",
      " 3   category    1028186 non-null  object\n",
      " 4   job         177684 non-null   object\n",
      " 5   characters  393360 non-null   object\n",
      "dtypes: int64(1), object(5)\n",
      "memory usage: 47.1+ MB\n"
     ]
    }
   ],
   "source": [
    "principals.info()"
   ]
  },
  {
   "cell_type": "code",
<<<<<<< HEAD
   "execution_count": 92,
=======
   "execution_count": 218,
>>>>>>> origin/main
   "metadata": {
    "collapsed": true
   },
   "outputs": [
    {
     "data": {
      "text/html": [
       "<div>\n",
       "<style scoped>\n",
       "    .dataframe tbody tr th:only-of-type {\n",
       "        vertical-align: middle;\n",
       "    }\n",
       "\n",
       "    .dataframe tbody tr th {\n",
       "        vertical-align: top;\n",
       "    }\n",
       "\n",
       "    .dataframe thead th {\n",
       "        text-align: right;\n",
       "    }\n",
       "</style>\n",
       "<table border=\"1\" class=\"dataframe\">\n",
       "  <thead>\n",
       "    <tr style=\"text-align: right;\">\n",
       "      <th></th>\n",
       "      <th>movie_id</th>\n",
       "      <th>ordering</th>\n",
       "      <th>person_id</th>\n",
       "      <th>category</th>\n",
       "      <th>job</th>\n",
       "      <th>characters</th>\n",
       "    </tr>\n",
       "  </thead>\n",
       "  <tbody>\n",
       "    <tr>\n",
       "      <th>count</th>\n",
       "      <td>1028186</td>\n",
       "      <td>1.028186e+06</td>\n",
       "      <td>1028186</td>\n",
       "      <td>1028186</td>\n",
       "      <td>177684</td>\n",
       "      <td>393360</td>\n",
       "    </tr>\n",
       "    <tr>\n",
       "      <th>unique</th>\n",
       "      <td>143454</td>\n",
       "      <td>NaN</td>\n",
       "      <td>604546</td>\n",
       "      <td>12</td>\n",
       "      <td>2965</td>\n",
       "      <td>174762</td>\n",
       "    </tr>\n",
       "    <tr>\n",
       "      <th>top</th>\n",
<<<<<<< HEAD
       "      <td>tt2848734</td>\n",
=======
       "      <td>tt6099554</td>\n",
>>>>>>> origin/main
       "      <td>NaN</td>\n",
       "      <td>nm1930572</td>\n",
       "      <td>actor</td>\n",
       "      <td>producer</td>\n",
       "      <td>[\"Himself\"]</td>\n",
       "    </tr>\n",
       "    <tr>\n",
       "      <th>freq</th>\n",
       "      <td>10</td>\n",
       "      <td>NaN</td>\n",
       "      <td>378</td>\n",
       "      <td>256718</td>\n",
       "      <td>108168</td>\n",
       "      <td>43584</td>\n",
       "    </tr>\n",
       "    <tr>\n",
       "      <th>mean</th>\n",
       "      <td>NaN</td>\n",
       "      <td>4.739847e+00</td>\n",
       "      <td>NaN</td>\n",
       "      <td>NaN</td>\n",
       "      <td>NaN</td>\n",
       "      <td>NaN</td>\n",
       "    </tr>\n",
       "    <tr>\n",
       "      <th>std</th>\n",
       "      <td>NaN</td>\n",
       "      <td>2.747446e+00</td>\n",
       "      <td>NaN</td>\n",
       "      <td>NaN</td>\n",
       "      <td>NaN</td>\n",
       "      <td>NaN</td>\n",
       "    </tr>\n",
       "    <tr>\n",
       "      <th>min</th>\n",
       "      <td>NaN</td>\n",
       "      <td>1.000000e+00</td>\n",
       "      <td>NaN</td>\n",
       "      <td>NaN</td>\n",
       "      <td>NaN</td>\n",
       "      <td>NaN</td>\n",
       "    </tr>\n",
       "    <tr>\n",
       "      <th>25%</th>\n",
       "      <td>NaN</td>\n",
       "      <td>2.000000e+00</td>\n",
       "      <td>NaN</td>\n",
       "      <td>NaN</td>\n",
       "      <td>NaN</td>\n",
       "      <td>NaN</td>\n",
       "    </tr>\n",
       "    <tr>\n",
       "      <th>50%</th>\n",
       "      <td>NaN</td>\n",
       "      <td>4.000000e+00</td>\n",
       "      <td>NaN</td>\n",
       "      <td>NaN</td>\n",
       "      <td>NaN</td>\n",
       "      <td>NaN</td>\n",
       "    </tr>\n",
       "    <tr>\n",
       "      <th>75%</th>\n",
       "      <td>NaN</td>\n",
       "      <td>7.000000e+00</td>\n",
       "      <td>NaN</td>\n",
       "      <td>NaN</td>\n",
       "      <td>NaN</td>\n",
       "      <td>NaN</td>\n",
       "    </tr>\n",
       "    <tr>\n",
       "      <th>max</th>\n",
       "      <td>NaN</td>\n",
       "      <td>1.000000e+01</td>\n",
       "      <td>NaN</td>\n",
       "      <td>NaN</td>\n",
       "      <td>NaN</td>\n",
       "      <td>NaN</td>\n",
       "    </tr>\n",
       "  </tbody>\n",
       "</table>\n",
       "</div>"
      ],
      "text/plain": [
       "         movie_id      ordering  person_id category       job   characters\n",
       "count     1028186  1.028186e+06    1028186  1028186    177684       393360\n",
       "unique     143454           NaN     604546       12      2965       174762\n",
<<<<<<< HEAD
       "top     tt2848734           NaN  nm1930572    actor  producer  [\"Himself\"]\n",
=======
       "top     tt6099554           NaN  nm1930572    actor  producer  [\"Himself\"]\n",
>>>>>>> origin/main
       "freq           10           NaN        378   256718    108168        43584\n",
       "mean          NaN  4.739847e+00        NaN      NaN       NaN          NaN\n",
       "std           NaN  2.747446e+00        NaN      NaN       NaN          NaN\n",
       "min           NaN  1.000000e+00        NaN      NaN       NaN          NaN\n",
       "25%           NaN  2.000000e+00        NaN      NaN       NaN          NaN\n",
       "50%           NaN  4.000000e+00        NaN      NaN       NaN          NaN\n",
       "75%           NaN  7.000000e+00        NaN      NaN       NaN          NaN\n",
       "max           NaN  1.000000e+01        NaN      NaN       NaN          NaN"
      ]
     },
<<<<<<< HEAD
     "execution_count": 92,
=======
     "execution_count": 218,
>>>>>>> origin/main
     "metadata": {},
     "output_type": "execute_result"
    }
   ],
   "source": [
    "principals.describe(include=\"all\")"
   ]
  },
  {
   "cell_type": "markdown",
   "metadata": {},
   "source": [
    "#### writers\n",
    "movie_id  |  person_id"
   ]
  },
  {
   "cell_type": "code",
<<<<<<< HEAD
   "execution_count": 93,
=======
   "execution_count": 219,
>>>>>>> origin/main
   "metadata": {},
   "outputs": [],
   "source": [
    "writers = pd.read_sql(\"\"\"\n",
    "            SELECT *\n",
    "            FROM writers\n",
    "\"\"\", conn)"
   ]
  },
  {
   "cell_type": "code",
<<<<<<< HEAD
   "execution_count": 94,
=======
   "execution_count": 220,
>>>>>>> origin/main
   "metadata": {
    "collapsed": true
   },
   "outputs": [
    {
     "data": {
      "text/html": [
       "<div>\n",
       "<style scoped>\n",
       "    .dataframe tbody tr th:only-of-type {\n",
       "        vertical-align: middle;\n",
       "    }\n",
       "\n",
       "    .dataframe tbody tr th {\n",
       "        vertical-align: top;\n",
       "    }\n",
       "\n",
       "    .dataframe thead th {\n",
       "        text-align: right;\n",
       "    }\n",
       "</style>\n",
       "<table border=\"1\" class=\"dataframe\">\n",
       "  <thead>\n",
       "    <tr style=\"text-align: right;\">\n",
       "      <th></th>\n",
       "      <th>movie_id</th>\n",
       "      <th>person_id</th>\n",
       "    </tr>\n",
       "  </thead>\n",
       "  <tbody>\n",
       "    <tr>\n",
       "      <th>0</th>\n",
       "      <td>tt0285252</td>\n",
       "      <td>nm0899854</td>\n",
       "    </tr>\n",
       "    <tr>\n",
       "      <th>1</th>\n",
       "      <td>tt0438973</td>\n",
       "      <td>nm0175726</td>\n",
       "    </tr>\n",
       "    <tr>\n",
       "      <th>2</th>\n",
       "      <td>tt0438973</td>\n",
       "      <td>nm1802864</td>\n",
       "    </tr>\n",
       "    <tr>\n",
       "      <th>3</th>\n",
       "      <td>tt0462036</td>\n",
       "      <td>nm1940585</td>\n",
       "    </tr>\n",
       "    <tr>\n",
       "      <th>4</th>\n",
       "      <td>tt0835418</td>\n",
       "      <td>nm0310087</td>\n",
       "    </tr>\n",
       "  </tbody>\n",
       "</table>\n",
       "</div>"
      ],
      "text/plain": [
       "    movie_id  person_id\n",
       "0  tt0285252  nm0899854\n",
       "1  tt0438973  nm0175726\n",
       "2  tt0438973  nm1802864\n",
       "3  tt0462036  nm1940585\n",
       "4  tt0835418  nm0310087"
      ]
     },
<<<<<<< HEAD
     "execution_count": 94,
=======
     "execution_count": 220,
>>>>>>> origin/main
     "metadata": {},
     "output_type": "execute_result"
    }
   ],
   "source": [
    "writers.head()"
   ]
  },
  {
   "cell_type": "code",
<<<<<<< HEAD
   "execution_count": 112,
=======
   "execution_count": 221,
>>>>>>> origin/main
   "metadata": {
    "collapsed": true
   },
   "outputs": [
    {
     "name": "stdout",
     "output_type": "stream",
     "text": [
      "<class 'pandas.core.frame.DataFrame'>\n",
      "RangeIndex: 255873 entries, 0 to 255872\n",
      "Data columns (total 2 columns):\n",
      " #   Column     Non-Null Count   Dtype \n",
      "---  ------     --------------   ----- \n",
      " 0   movie_id   255873 non-null  object\n",
      " 1   person_id  255873 non-null  object\n",
      "dtypes: object(2)\n",
      "memory usage: 3.9+ MB\n"
     ]
    }
   ],
   "source": [
    "writers.info()"
   ]
  },
  {
   "cell_type": "code",
<<<<<<< HEAD
   "execution_count": 113,
=======
   "execution_count": 222,
>>>>>>> origin/main
   "metadata": {
    "collapsed": true
   },
   "outputs": [
    {
     "data": {
      "text/html": [
       "<div>\n",
       "<style scoped>\n",
       "    .dataframe tbody tr th:only-of-type {\n",
       "        vertical-align: middle;\n",
       "    }\n",
       "\n",
       "    .dataframe tbody tr th {\n",
       "        vertical-align: top;\n",
       "    }\n",
       "\n",
       "    .dataframe thead th {\n",
       "        text-align: right;\n",
       "    }\n",
       "</style>\n",
       "<table border=\"1\" class=\"dataframe\">\n",
       "  <thead>\n",
       "    <tr style=\"text-align: right;\">\n",
       "      <th></th>\n",
       "      <th>movie_id</th>\n",
       "      <th>person_id</th>\n",
       "    </tr>\n",
       "  </thead>\n",
       "  <tbody>\n",
       "    <tr>\n",
       "      <th>count</th>\n",
       "      <td>255873</td>\n",
       "      <td>255873</td>\n",
       "    </tr>\n",
       "    <tr>\n",
       "      <th>unique</th>\n",
       "      <td>110261</td>\n",
       "      <td>122576</td>\n",
       "    </tr>\n",
       "    <tr>\n",
       "      <th>top</th>\n",
       "      <td>tt4050462</td>\n",
       "      <td>nm6935209</td>\n",
       "    </tr>\n",
       "    <tr>\n",
       "      <th>freq</th>\n",
       "      <td>3818</td>\n",
       "      <td>543</td>\n",
       "    </tr>\n",
       "  </tbody>\n",
       "</table>\n",
       "</div>"
      ],
      "text/plain": [
       "         movie_id  person_id\n",
       "count      255873     255873\n",
       "unique     110261     122576\n",
       "top     tt4050462  nm6935209\n",
       "freq         3818        543"
      ]
     },
<<<<<<< HEAD
     "execution_count": 113,
=======
     "execution_count": 222,
>>>>>>> origin/main
     "metadata": {},
     "output_type": "execute_result"
    }
   ],
   "source": [
    "writers.describe(include=\"all\")"
   ]
  },
  {
   "cell_type": "code",
<<<<<<< HEAD
   "execution_count": 114,
=======
   "execution_count": 223,
>>>>>>> origin/main
   "metadata": {
    "scrolled": true
   },
   "outputs": [],
   "source": [
    "#joinedIMDB = pd.read_sql(\"\"\"\n",
    "#            SELECT *\n",
    "#            FROM movie_basics\n",
    "#            LEFT JOIN directors\n",
    "#            USING(movie_id)\n",
    "#            LEFT JOIN persons\n",
    "#            USING(person_id)\n",
    "#            --LEFT JOIN movie_akas\n",
    "#            --USING(movie_id)\n",
    "#            WHERE death_year is Null\n",
    "#\"\"\", conn)\n",
    "#joinedIMDB.head()"
   ]
  },
  {
   "cell_type": "code",
<<<<<<< HEAD
   "execution_count": 115,
=======
   "execution_count": 224,
>>>>>>> origin/main
   "metadata": {},
   "outputs": [
    {
     "name": "stdout",
     "output_type": "stream",
     "text": [
      "<class 'pandas.core.frame.DataFrame'>\n",
      "RangeIndex: 73856 entries, 0 to 73855\n",
      "Data columns (total 5 columns):\n",
      " #   Column           Non-Null Count  Dtype  \n",
      "---  ------           --------------  -----  \n",
      " 0   movieID          73856 non-null  object \n",
      " 1   primary_title    73856 non-null  object \n",
      " 2   start_year       73856 non-null  int64  \n",
      " 3   runtime_minutes  66236 non-null  float64\n",
      " 4   genres           73052 non-null  object \n",
      "dtypes: float64(1), int64(1), object(3)\n",
      "memory usage: 2.8+ MB\n"
     ]
    },
    {
     "data": {
      "text/html": [
       "<div>\n",
       "<style scoped>\n",
       "    .dataframe tbody tr th:only-of-type {\n",
       "        vertical-align: middle;\n",
       "    }\n",
       "\n",
       "    .dataframe tbody tr th {\n",
       "        vertical-align: top;\n",
       "    }\n",
       "\n",
       "    .dataframe thead th {\n",
       "        text-align: right;\n",
       "    }\n",
       "</style>\n",
       "<table border=\"1\" class=\"dataframe\">\n",
       "  <thead>\n",
       "    <tr style=\"text-align: right;\">\n",
       "      <th></th>\n",
       "      <th>movieID</th>\n",
       "      <th>primary_title</th>\n",
       "      <th>start_year</th>\n",
       "      <th>runtime_minutes</th>\n",
       "      <th>genres</th>\n",
       "    </tr>\n",
       "  </thead>\n",
       "  <tbody>\n",
       "    <tr>\n",
       "      <th>0</th>\n",
       "      <td>tt0063540</td>\n",
       "      <td>Sunghursh</td>\n",
       "      <td>2013</td>\n",
       "      <td>175.0</td>\n",
       "      <td>Action,Crime,Drama</td>\n",
       "    </tr>\n",
       "    <tr>\n",
       "      <th>1</th>\n",
       "      <td>tt0066787</td>\n",
       "      <td>One Day Before the Rainy Season</td>\n",
       "      <td>2019</td>\n",
       "      <td>114.0</td>\n",
       "      <td>Biography,Drama</td>\n",
       "    </tr>\n",
       "    <tr>\n",
       "      <th>2</th>\n",
       "      <td>tt0069049</td>\n",
       "      <td>The Other Side of the Wind</td>\n",
       "      <td>2018</td>\n",
       "      <td>122.0</td>\n",
       "      <td>Drama</td>\n",
       "    </tr>\n",
       "    <tr>\n",
       "      <th>3</th>\n",
       "      <td>tt0069204</td>\n",
       "      <td>Sabse Bada Sukh</td>\n",
       "      <td>2018</td>\n",
       "      <td>NaN</td>\n",
       "      <td>Comedy,Drama</td>\n",
       "    </tr>\n",
       "    <tr>\n",
       "      <th>4</th>\n",
       "      <td>tt0100275</td>\n",
       "      <td>The Wandering Soap Opera</td>\n",
       "      <td>2017</td>\n",
       "      <td>80.0</td>\n",
       "      <td>Comedy,Drama,Fantasy</td>\n",
       "    </tr>\n",
       "  </tbody>\n",
       "</table>\n",
       "</div>"
      ],
      "text/plain": [
       "     movieID                    primary_title  start_year  runtime_minutes  \\\n",
       "0  tt0063540                        Sunghursh        2013            175.0   \n",
       "1  tt0066787  One Day Before the Rainy Season        2019            114.0   \n",
       "2  tt0069049       The Other Side of the Wind        2018            122.0   \n",
       "3  tt0069204                  Sabse Bada Sukh        2018              NaN   \n",
       "4  tt0100275         The Wandering Soap Opera        2017             80.0   \n",
       "\n",
       "                 genres  \n",
       "0    Action,Crime,Drama  \n",
       "1       Biography,Drama  \n",
       "2                 Drama  \n",
       "3          Comedy,Drama  \n",
       "4  Comedy,Drama,Fantasy  "
      ]
     },
<<<<<<< HEAD
     "execution_count": 115,
=======
     "execution_count": 224,
>>>>>>> origin/main
     "metadata": {},
     "output_type": "execute_result"
    }
   ],
   "source": [
    "# movie_basics:\n",
    "# movie_id | primary_title | original_title | start_year | runtime_minutes | genres\n",
    "\n",
    "#writers: \n",
    "#movie_id | person_id\n",
    "\n",
    "#directors:\n",
    "#movie_id | person_id\n",
    "\n",
    "#known_for\n",
    "#person_id | movie_id\n",
    "\n",
    "#movie_ratings\n",
    "#movie_id | averagerating | numvotes\n",
    "\n",
    "#persons\n",
    "#person_id | primary_name | birth_year | death_year | primary_profession\n",
    "\n",
    "\n",
    "joinedIMDB = pd.read_sql(\"\"\"\n",
    "            SELECT movie_basics.movie_id AS movieID, primary_title, start_year, runtime_minutes, genres \n",
    "            FROM movie_basics\n",
    "                JOIN movie_ratings \n",
    "                    ON movieID = movie_ratings.movie_id\n",
    "\"\"\", conn)\n",
    "joinedIMDB.info()\n",
    "joinedIMDB.head()"
   ]
  },
  {
   "cell_type": "markdown",
   "metadata": {},
   "source": [
    "## Creating Master Database"
   ]
  },
  {
   "cell_type": "markdown",
   "metadata": {},
   "source": [
    "####  Using tn_db as a base, combine with imdb:"
   ]
  },
  {
   "cell_type": "code",
<<<<<<< HEAD
   "execution_count": 116,
=======
   "execution_count": 225,
>>>>>>> origin/main
   "metadata": {},
   "outputs": [
    {
     "name": "stdout",
     "output_type": "stream",
     "text": [
      "<class 'pandas.core.frame.DataFrame'>\n",
      "Index: 2194 entries, 1 to 5780\n",
      "Data columns (total 13 columns):\n",
      " #   Column             Non-Null Count  Dtype         \n",
      "---  ------             --------------  -----         \n",
      " 0   id                 2194 non-null   int64         \n",
      " 1   release_date       2194 non-null   datetime64[ns]\n",
      " 2   movie              2194 non-null   object        \n",
      " 3   production_budget  2194 non-null   int64         \n",
      " 4   domestic_gross     2194 non-null   int64         \n",
      " 5   worldwide_gross    2194 non-null   int64         \n",
      " 6   ROI                2194 non-null   float64       \n",
      " 7   release_year       2194 non-null   int32         \n",
      " 8   inflation_ratio    2194 non-null   float64       \n",
      " 9   DG_AI              2194 non-null   float64       \n",
      " 10  PB_AI              2194 non-null   float64       \n",
<<<<<<< HEAD
      " 11  release_month      2194 non-null   int32         \n",
      " 12  season             2019 non-null   object        \n",
=======
      " 11  release_month      2194 non-null   int64         \n",
      " 12  season             2194 non-null   object        \n",
>>>>>>> origin/main
      "dtypes: datetime64[ns](1), float64(4), int32(2), int64(4), object(2)\n",
      "memory usage: 222.8+ KB\n",
      "<class 'pandas.core.frame.DataFrame'>\n",
      "RangeIndex: 2211 entries, 0 to 2210\n",
      "Data columns (total 18 columns):\n",
      " #   Column             Non-Null Count  Dtype         \n",
      "---  ------             --------------  -----         \n",
      " 0   id                 2211 non-null   int64         \n",
      " 1   release_date       2211 non-null   datetime64[ns]\n",
      " 2   movie              2211 non-null   object        \n",
      " 3   production_budget  2211 non-null   int64         \n",
      " 4   domestic_gross     2211 non-null   int64         \n",
      " 5   worldwide_gross    2211 non-null   int64         \n",
      " 6   ROI                2211 non-null   float64       \n",
      " 7   release_year       2211 non-null   int32         \n",
      " 8   inflation_ratio    2211 non-null   float64       \n",
      " 9   DG_AI              2211 non-null   float64       \n",
      " 10  PB_AI              2211 non-null   float64       \n",
<<<<<<< HEAD
      " 11  release_month      2211 non-null   int32         \n",
      " 12  season             2029 non-null   object        \n",
=======
      " 11  release_month      2211 non-null   int64         \n",
      " 12  season             2211 non-null   object        \n",
>>>>>>> origin/main
      " 13  movieID            2211 non-null   object        \n",
      " 14  primary_title      2211 non-null   object        \n",
      " 15  start_year         2211 non-null   int64         \n",
      " 16  runtime_minutes    2154 non-null   float64       \n",
      " 17  genres             2203 non-null   object        \n",
      "dtypes: datetime64[ns](1), float64(5), int32(2), int64(5), object(5)\n",
      "memory usage: 293.8+ KB\n"
     ]
    },
    {
     "data": {
      "text/plain": [
       "['id',\n",
       " 'release_date',\n",
       " 'movie',\n",
       " 'production_budget',\n",
       " 'domestic_gross',\n",
       " 'worldwide_gross',\n",
       " 'ROI',\n",
       " 'release_year',\n",
       " 'inflation_ratio',\n",
       " 'DG_AI',\n",
       " 'PB_AI',\n",
       " 'release_month',\n",
       " 'season',\n",
       " 'movieID',\n",
       " 'primary_title',\n",
       " 'start_year',\n",
       " 'runtime_minutes',\n",
       " 'genres']"
      ]
     },
<<<<<<< HEAD
     "execution_count": 116,
=======
     "execution_count": 225,
>>>>>>> origin/main
     "metadata": {},
     "output_type": "execute_result"
    }
   ],
   "source": [
    "tn_df.info()\n",
    "#joinedIMDB.info()\n",
    "movie_df = None\n",
    "movie_df = tn_df.merge(joinedIMDB, left_on='movie', right_on=\"primary_title\")\n",
    "\n",
    "movie_df.info()\n",
    "movie_df.head()\n",
    "list(movie_df.columns.values)"
   ]
  },
  {
   "cell_type": "markdown",
   "metadata": {},
   "source": [
    "**Reorganize Columns for ease of reading:**"
   ]
  },
  {
   "cell_type": "code",
<<<<<<< HEAD
   "execution_count": 117,
=======
   "execution_count": 226,
>>>>>>> origin/main
   "metadata": {},
   "outputs": [],
   "source": [
    "movie_df = movie_df[['id', 'movieID', 'movie', 'release_date', \"release_month\", \"release_year\", \"season\", \"production_budget\", \"domestic_gross\", \"worldwide_gross\", \"ROI\", \"inflation_ratio\", \"PB_AI\", \"DG_AI\", \"runtime_minutes\", \"genres\"]]"
   ]
  },
  {
   "cell_type": "code",
<<<<<<< HEAD
   "execution_count": 118,
=======
   "execution_count": 227,
>>>>>>> origin/main
   "metadata": {},
   "outputs": [
    {
     "data": {
      "text/html": [
       "<div>\n",
       "<style scoped>\n",
       "    .dataframe tbody tr th:only-of-type {\n",
       "        vertical-align: middle;\n",
       "    }\n",
       "\n",
       "    .dataframe tbody tr th {\n",
       "        vertical-align: top;\n",
       "    }\n",
       "\n",
       "    .dataframe thead th {\n",
       "        text-align: right;\n",
       "    }\n",
       "</style>\n",
       "<table border=\"1\" class=\"dataframe\">\n",
       "  <thead>\n",
       "    <tr style=\"text-align: right;\">\n",
       "      <th></th>\n",
       "      <th>id</th>\n",
       "      <th>movieID</th>\n",
       "      <th>movie</th>\n",
       "      <th>release_date</th>\n",
       "      <th>release_month</th>\n",
       "      <th>release_year</th>\n",
       "      <th>season</th>\n",
       "      <th>production_budget</th>\n",
       "      <th>domestic_gross</th>\n",
       "      <th>worldwide_gross</th>\n",
       "      <th>ROI</th>\n",
       "      <th>inflation_ratio</th>\n",
       "      <th>PB_AI</th>\n",
       "      <th>DG_AI</th>\n",
       "      <th>runtime_minutes</th>\n",
       "      <th>genres</th>\n",
       "    </tr>\n",
       "  </thead>\n",
       "  <tbody>\n",
       "    <tr>\n",
       "      <th>0</th>\n",
       "      <td>2</td>\n",
       "      <td>tt1298650</td>\n",
       "      <td>Pirates of the Caribbean: On Stranger Tides</td>\n",
       "      <td>2011-05-20</td>\n",
       "      <td>5</td>\n",
       "      <td>2011</td>\n",
       "      <td>Spring</td>\n",
       "      <td>410600000</td>\n",
       "      <td>241063875</td>\n",
       "      <td>1045663875</td>\n",
       "      <td>0.587101</td>\n",
       "      <td>1.40</td>\n",
       "      <td>574840000.0</td>\n",
       "      <td>3.374894e+08</td>\n",
       "      <td>136.0</td>\n",
       "      <td>Action,Adventure,Fantasy</td>\n",
       "    </tr>\n",
       "    <tr>\n",
       "      <th>1</th>\n",
       "      <td>3</td>\n",
       "      <td>tt6565702</td>\n",
       "      <td>Dark Phoenix</td>\n",
       "      <td>2019-06-07</td>\n",
       "      <td>6</td>\n",
       "      <td>2019</td>\n",
       "      <td>Summer</td>\n",
       "      <td>350000000</td>\n",
       "      <td>42762350</td>\n",
       "      <td>149762350</td>\n",
       "      <td>0.122178</td>\n",
       "      <td>1.22</td>\n",
       "      <td>427000000.0</td>\n",
       "      <td>5.217007e+07</td>\n",
       "      <td>113.0</td>\n",
       "      <td>Action,Adventure,Sci-Fi</td>\n",
       "    </tr>\n",
       "    <tr>\n",
       "      <th>2</th>\n",
       "      <td>4</td>\n",
       "      <td>tt2395427</td>\n",
       "      <td>Avengers: Age of Ultron</td>\n",
       "      <td>2015-05-01</td>\n",
       "      <td>5</td>\n",
       "      <td>2015</td>\n",
       "      <td>Spring</td>\n",
       "      <td>330600000</td>\n",
       "      <td>459005868</td>\n",
       "      <td>1403013963</td>\n",
       "      <td>1.388403</td>\n",
       "      <td>1.32</td>\n",
       "      <td>436392000.0</td>\n",
       "      <td>6.058877e+08</td>\n",
       "      <td>141.0</td>\n",
       "      <td>Action,Adventure,Sci-Fi</td>\n",
       "    </tr>\n",
       "    <tr>\n",
       "      <th>3</th>\n",
       "      <td>7</td>\n",
       "      <td>tt4154756</td>\n",
       "      <td>Avengers: Infinity War</td>\n",
       "      <td>2018-04-27</td>\n",
       "      <td>4</td>\n",
       "      <td>2018</td>\n",
       "      <td>Spring</td>\n",
       "      <td>300000000</td>\n",
       "      <td>678815482</td>\n",
       "      <td>2048134200</td>\n",
       "      <td>2.262718</td>\n",
       "      <td>1.24</td>\n",
       "      <td>372000000.0</td>\n",
       "      <td>8.417312e+08</td>\n",
       "      <td>149.0</td>\n",
       "      <td>Action,Adventure,Sci-Fi</td>\n",
       "    </tr>\n",
       "    <tr>\n",
       "      <th>4</th>\n",
       "      <td>9</td>\n",
       "      <td>tt0974015</td>\n",
       "      <td>Justice League</td>\n",
       "      <td>2017-11-17</td>\n",
       "      <td>11</td>\n",
       "      <td>2017</td>\n",
       "      <td>Fall</td>\n",
       "      <td>300000000</td>\n",
       "      <td>229024295</td>\n",
       "      <td>655945209</td>\n",
       "      <td>0.763414</td>\n",
       "      <td>1.27</td>\n",
       "      <td>381000000.0</td>\n",
       "      <td>2.908609e+08</td>\n",
       "      <td>120.0</td>\n",
       "      <td>Action,Adventure,Fantasy</td>\n",
       "    </tr>\n",
       "    <tr>\n",
       "      <th>...</th>\n",
       "      <td>...</td>\n",
       "      <td>...</td>\n",
       "      <td>...</td>\n",
       "      <td>...</td>\n",
       "      <td>...</td>\n",
       "      <td>...</td>\n",
       "      <td>...</td>\n",
       "      <td>...</td>\n",
       "      <td>...</td>\n",
       "      <td>...</td>\n",
       "      <td>...</td>\n",
       "      <td>...</td>\n",
       "      <td>...</td>\n",
       "      <td>...</td>\n",
       "      <td>...</td>\n",
       "      <td>...</td>\n",
       "    </tr>\n",
       "    <tr>\n",
       "      <th>2206</th>\n",
       "      <td>59</td>\n",
       "      <td>tt1781935</td>\n",
       "      <td>The Ridges</td>\n",
       "      <td>2011-11-25</td>\n",
       "      <td>11</td>\n",
       "      <td>2011</td>\n",
       "      <td>Fall</td>\n",
       "      <td>17300</td>\n",
       "      <td>0</td>\n",
       "      <td>0</td>\n",
       "      <td>0.000000</td>\n",
       "      <td>1.40</td>\n",
       "      <td>24220.0</td>\n",
       "      <td>0.000000e+00</td>\n",
       "      <td>89.0</td>\n",
       "      <td>Drama,Horror,Thriller</td>\n",
       "    </tr>\n",
       "    <tr>\n",
       "      <th>2207</th>\n",
       "      <td>62</td>\n",
       "      <td>tt3973612</td>\n",
       "      <td>Stories of Our Lives</td>\n",
       "      <td>2014-12-31</td>\n",
       "      <td>12</td>\n",
       "      <td>2014</td>\n",
       "      <td>Winter</td>\n",
       "      <td>15000</td>\n",
       "      <td>0</td>\n",
       "      <td>0</td>\n",
       "      <td>0.000000</td>\n",
       "      <td>1.32</td>\n",
       "      <td>19800.0</td>\n",
       "      <td>0.000000e+00</td>\n",
       "      <td>60.0</td>\n",
       "      <td>Drama</td>\n",
       "    </tr>\n",
       "    <tr>\n",
       "      <th>2208</th>\n",
       "      <td>73</td>\n",
       "      <td>tt1880418</td>\n",
       "      <td>Newlyweds</td>\n",
       "      <td>2012-01-13</td>\n",
       "      <td>1</td>\n",
       "      <td>2012</td>\n",
       "      <td>Winter</td>\n",
       "      <td>9000</td>\n",
       "      <td>4584</td>\n",
       "      <td>4584</td>\n",
       "      <td>0.509333</td>\n",
       "      <td>1.36</td>\n",
       "      <td>12240.0</td>\n",
       "      <td>6.234240e+03</td>\n",
       "      <td>95.0</td>\n",
       "      <td>Comedy,Drama</td>\n",
       "    </tr>\n",
       "    <tr>\n",
       "      <th>2209</th>\n",
       "      <td>78</td>\n",
       "      <td>tt7837402</td>\n",
       "      <td>Red 11</td>\n",
       "      <td>2018-12-31</td>\n",
       "      <td>12</td>\n",
       "      <td>2018</td>\n",
       "      <td>Winter</td>\n",
       "      <td>7000</td>\n",
       "      <td>0</td>\n",
       "      <td>0</td>\n",
       "      <td>0.000000</td>\n",
       "      <td>1.24</td>\n",
       "      <td>8680.0</td>\n",
       "      <td>0.000000e+00</td>\n",
       "      <td>77.0</td>\n",
       "      <td>Horror,Sci-Fi,Thriller</td>\n",
       "    </tr>\n",
       "    <tr>\n",
       "      <th>2210</th>\n",
       "      <td>81</td>\n",
       "      <td>tt2107644</td>\n",
       "      <td>A Plague So Pleasant</td>\n",
       "      <td>2015-09-29</td>\n",
       "      <td>9</td>\n",
       "      <td>2015</td>\n",
       "      <td>Fall</td>\n",
       "      <td>1400</td>\n",
       "      <td>0</td>\n",
       "      <td>0</td>\n",
       "      <td>0.000000</td>\n",
       "      <td>1.32</td>\n",
       "      <td>1848.0</td>\n",
       "      <td>0.000000e+00</td>\n",
       "      <td>76.0</td>\n",
       "      <td>Drama,Horror,Thriller</td>\n",
       "    </tr>\n",
       "  </tbody>\n",
       "</table>\n",
       "<p>2211 rows × 16 columns</p>\n",
       "</div>"
      ],
      "text/plain": [
       "      id    movieID                                        movie release_date  \\\n",
       "0      2  tt1298650  Pirates of the Caribbean: On Stranger Tides   2011-05-20   \n",
       "1      3  tt6565702                                 Dark Phoenix   2019-06-07   \n",
       "2      4  tt2395427                      Avengers: Age of Ultron   2015-05-01   \n",
       "3      7  tt4154756                       Avengers: Infinity War   2018-04-27   \n",
       "4      9  tt0974015                               Justice League   2017-11-17   \n",
       "...   ..        ...                                          ...          ...   \n",
       "2206  59  tt1781935                                   The Ridges   2011-11-25   \n",
       "2207  62  tt3973612                         Stories of Our Lives   2014-12-31   \n",
       "2208  73  tt1880418                                    Newlyweds   2012-01-13   \n",
       "2209  78  tt7837402                                       Red 11   2018-12-31   \n",
       "2210  81  tt2107644                         A Plague So Pleasant   2015-09-29   \n",
       "\n",
       "      release_month  release_year  season  production_budget  domestic_gross  \\\n",
       "0                 5          2011  Spring          410600000       241063875   \n",
       "1                 6          2019  Summer          350000000        42762350   \n",
       "2                 5          2015  Spring          330600000       459005868   \n",
       "3                 4          2018  Spring          300000000       678815482   \n",
       "4                11          2017    Fall          300000000       229024295   \n",
       "...             ...           ...     ...                ...             ...   \n",
       "2206             11          2011    Fall              17300               0   \n",
       "2207             12          2014  Winter              15000               0   \n",
       "2208              1          2012  Winter               9000            4584   \n",
       "2209             12          2018  Winter               7000               0   \n",
       "2210              9          2015    Fall               1400               0   \n",
       "\n",
       "      worldwide_gross       ROI  inflation_ratio        PB_AI         DG_AI  \\\n",
       "0          1045663875  0.587101             1.40  574840000.0  3.374894e+08   \n",
       "1           149762350  0.122178             1.22  427000000.0  5.217007e+07   \n",
       "2          1403013963  1.388403             1.32  436392000.0  6.058877e+08   \n",
       "3          2048134200  2.262718             1.24  372000000.0  8.417312e+08   \n",
       "4           655945209  0.763414             1.27  381000000.0  2.908609e+08   \n",
       "...               ...       ...              ...          ...           ...   \n",
       "2206                0  0.000000             1.40      24220.0  0.000000e+00   \n",
       "2207                0  0.000000             1.32      19800.0  0.000000e+00   \n",
       "2208             4584  0.509333             1.36      12240.0  6.234240e+03   \n",
       "2209                0  0.000000             1.24       8680.0  0.000000e+00   \n",
       "2210                0  0.000000             1.32       1848.0  0.000000e+00   \n",
       "\n",
       "      runtime_minutes                    genres  \n",
       "0               136.0  Action,Adventure,Fantasy  \n",
       "1               113.0   Action,Adventure,Sci-Fi  \n",
       "2               141.0   Action,Adventure,Sci-Fi  \n",
       "3               149.0   Action,Adventure,Sci-Fi  \n",
       "4               120.0  Action,Adventure,Fantasy  \n",
       "...               ...                       ...  \n",
       "2206             89.0     Drama,Horror,Thriller  \n",
       "2207             60.0                     Drama  \n",
       "2208             95.0              Comedy,Drama  \n",
       "2209             77.0    Horror,Sci-Fi,Thriller  \n",
       "2210             76.0     Drama,Horror,Thriller  \n",
       "\n",
       "[2211 rows x 16 columns]"
      ]
     },
<<<<<<< HEAD
     "execution_count": 118,
=======
     "execution_count": 227,
>>>>>>> origin/main
     "metadata": {},
     "output_type": "execute_result"
    }
   ],
   "source": [
    "movie_df"
   ]
  },
  {
   "cell_type": "markdown",
   "metadata": {},
   "source": [
    "**Adding binary flags for Genre**"
   ]
  },
  {
   "cell_type": "code",
<<<<<<< HEAD
   "execution_count": 119,
=======
   "execution_count": 228,
>>>>>>> origin/main
   "metadata": {},
   "outputs": [
    {
     "data": {
      "text/plain": [
       "8"
      ]
     },
<<<<<<< HEAD
     "execution_count": 119,
=======
     "execution_count": 228,
>>>>>>> origin/main
     "metadata": {},
     "output_type": "execute_result"
    }
   ],
   "source": [
    "#Checking for Nulls\n",
    "movie_df[\"genres\"].isna().sum()"
   ]
  },
  {
   "cell_type": "code",
<<<<<<< HEAD
   "execution_count": 120,
=======
   "execution_count": 229,
>>>>>>> origin/main
   "metadata": {},
   "outputs": [],
   "source": [
    "#Dropping 8 rows with Null genres out of 2211 total rows\n",
    "movie_df = movie_df.dropna(subset=[\"genres\"])"
   ]
  },
  {
   "cell_type": "code",
<<<<<<< HEAD
   "execution_count": 121,
=======
   "execution_count": 230,
>>>>>>> origin/main
   "metadata": {},
   "outputs": [],
   "source": [
    "#Genres from IMDB https://help.imdb.com/article/contribution/titles/genres/GZDRMS6R742JRGAG#\n",
    "genre_list = [\"Action\", \"Adult\", \"Adventure\", \"Animation\", \"Biography\", \"Comedy\", \"Crime\", \"Documentary\", \"Drama\", \"Family\", \"Fantasy\", \"Film-Noir\", \"Game-Show\", \"History\", \"Horror\", \"Musical\", \"Music\", \"Mystery\", \"News\", \"Reality-TV\", \"Romance\", \"Sci-Fi\", \"Short\", \"Sport\", \"Talk-Show\", \"Thriller\", \"War\", \"Western\"]\n",
    "for genre in genre_list:\n",
    "    movie_df[genre]=0\n",
    "    movie_df.loc[movie_df[\"genres\"].str.contains(genre), genre]=1"
   ]
  },
  {
   "cell_type": "code",
<<<<<<< HEAD
   "execution_count": 122,
=======
   "execution_count": 231,
>>>>>>> origin/main
   "metadata": {},
   "outputs": [
    {
     "data": {
      "text/html": [
       "<div>\n",
       "<style scoped>\n",
       "    .dataframe tbody tr th:only-of-type {\n",
       "        vertical-align: middle;\n",
       "    }\n",
       "\n",
       "    .dataframe tbody tr th {\n",
       "        vertical-align: top;\n",
       "    }\n",
       "\n",
       "    .dataframe thead th {\n",
       "        text-align: right;\n",
       "    }\n",
       "</style>\n",
       "<table border=\"1\" class=\"dataframe\">\n",
       "  <thead>\n",
       "    <tr style=\"text-align: right;\">\n",
       "      <th></th>\n",
       "      <th>id</th>\n",
       "      <th>movieID</th>\n",
       "      <th>movie</th>\n",
       "      <th>release_date</th>\n",
       "      <th>release_month</th>\n",
       "      <th>release_year</th>\n",
       "      <th>season</th>\n",
       "      <th>production_budget</th>\n",
       "      <th>domestic_gross</th>\n",
       "      <th>worldwide_gross</th>\n",
       "      <th>...</th>\n",
       "      <th>News</th>\n",
       "      <th>Reality-TV</th>\n",
       "      <th>Romance</th>\n",
       "      <th>Sci-Fi</th>\n",
       "      <th>Short</th>\n",
       "      <th>Sport</th>\n",
       "      <th>Talk-Show</th>\n",
       "      <th>Thriller</th>\n",
       "      <th>War</th>\n",
       "      <th>Western</th>\n",
       "    </tr>\n",
       "  </thead>\n",
       "  <tbody>\n",
       "    <tr>\n",
       "      <th>0</th>\n",
       "      <td>2</td>\n",
       "      <td>tt1298650</td>\n",
       "      <td>Pirates of the Caribbean: On Stranger Tides</td>\n",
       "      <td>2011-05-20</td>\n",
       "      <td>5</td>\n",
       "      <td>2011</td>\n",
       "      <td>Spring</td>\n",
       "      <td>410600000</td>\n",
       "      <td>241063875</td>\n",
       "      <td>1045663875</td>\n",
       "      <td>...</td>\n",
       "      <td>0</td>\n",
       "      <td>0</td>\n",
       "      <td>0</td>\n",
       "      <td>0</td>\n",
       "      <td>0</td>\n",
       "      <td>0</td>\n",
       "      <td>0</td>\n",
       "      <td>0</td>\n",
       "      <td>0</td>\n",
       "      <td>0</td>\n",
       "    </tr>\n",
       "    <tr>\n",
       "      <th>1</th>\n",
       "      <td>3</td>\n",
       "      <td>tt6565702</td>\n",
       "      <td>Dark Phoenix</td>\n",
       "      <td>2019-06-07</td>\n",
       "      <td>6</td>\n",
       "      <td>2019</td>\n",
       "      <td>Summer</td>\n",
       "      <td>350000000</td>\n",
       "      <td>42762350</td>\n",
       "      <td>149762350</td>\n",
       "      <td>...</td>\n",
       "      <td>0</td>\n",
       "      <td>0</td>\n",
       "      <td>0</td>\n",
       "      <td>1</td>\n",
       "      <td>0</td>\n",
       "      <td>0</td>\n",
       "      <td>0</td>\n",
       "      <td>0</td>\n",
       "      <td>0</td>\n",
       "      <td>0</td>\n",
       "    </tr>\n",
       "    <tr>\n",
       "      <th>2</th>\n",
       "      <td>4</td>\n",
       "      <td>tt2395427</td>\n",
       "      <td>Avengers: Age of Ultron</td>\n",
       "      <td>2015-05-01</td>\n",
       "      <td>5</td>\n",
       "      <td>2015</td>\n",
       "      <td>Spring</td>\n",
       "      <td>330600000</td>\n",
       "      <td>459005868</td>\n",
       "      <td>1403013963</td>\n",
       "      <td>...</td>\n",
       "      <td>0</td>\n",
       "      <td>0</td>\n",
       "      <td>0</td>\n",
       "      <td>1</td>\n",
       "      <td>0</td>\n",
       "      <td>0</td>\n",
       "      <td>0</td>\n",
       "      <td>0</td>\n",
       "      <td>0</td>\n",
       "      <td>0</td>\n",
       "    </tr>\n",
       "    <tr>\n",
       "      <th>3</th>\n",
       "      <td>7</td>\n",
       "      <td>tt4154756</td>\n",
       "      <td>Avengers: Infinity War</td>\n",
       "      <td>2018-04-27</td>\n",
       "      <td>4</td>\n",
       "      <td>2018</td>\n",
       "      <td>Spring</td>\n",
       "      <td>300000000</td>\n",
       "      <td>678815482</td>\n",
       "      <td>2048134200</td>\n",
       "      <td>...</td>\n",
       "      <td>0</td>\n",
       "      <td>0</td>\n",
       "      <td>0</td>\n",
       "      <td>1</td>\n",
       "      <td>0</td>\n",
       "      <td>0</td>\n",
       "      <td>0</td>\n",
       "      <td>0</td>\n",
       "      <td>0</td>\n",
       "      <td>0</td>\n",
       "    </tr>\n",
       "    <tr>\n",
       "      <th>4</th>\n",
       "      <td>9</td>\n",
       "      <td>tt0974015</td>\n",
       "      <td>Justice League</td>\n",
       "      <td>2017-11-17</td>\n",
       "      <td>11</td>\n",
       "      <td>2017</td>\n",
       "      <td>Fall</td>\n",
       "      <td>300000000</td>\n",
       "      <td>229024295</td>\n",
       "      <td>655945209</td>\n",
       "      <td>...</td>\n",
       "      <td>0</td>\n",
       "      <td>0</td>\n",
       "      <td>0</td>\n",
       "      <td>0</td>\n",
       "      <td>0</td>\n",
       "      <td>0</td>\n",
       "      <td>0</td>\n",
       "      <td>0</td>\n",
       "      <td>0</td>\n",
       "      <td>0</td>\n",
       "    </tr>\n",
       "    <tr>\n",
       "      <th>...</th>\n",
       "      <td>...</td>\n",
       "      <td>...</td>\n",
       "      <td>...</td>\n",
       "      <td>...</td>\n",
       "      <td>...</td>\n",
       "      <td>...</td>\n",
       "      <td>...</td>\n",
       "      <td>...</td>\n",
       "      <td>...</td>\n",
       "      <td>...</td>\n",
       "      <td>...</td>\n",
       "      <td>...</td>\n",
       "      <td>...</td>\n",
       "      <td>...</td>\n",
       "      <td>...</td>\n",
       "      <td>...</td>\n",
       "      <td>...</td>\n",
       "      <td>...</td>\n",
       "      <td>...</td>\n",
       "      <td>...</td>\n",
       "      <td>...</td>\n",
       "    </tr>\n",
       "    <tr>\n",
       "      <th>2206</th>\n",
       "      <td>59</td>\n",
       "      <td>tt1781935</td>\n",
       "      <td>The Ridges</td>\n",
       "      <td>2011-11-25</td>\n",
       "      <td>11</td>\n",
       "      <td>2011</td>\n",
       "      <td>Fall</td>\n",
       "      <td>17300</td>\n",
       "      <td>0</td>\n",
       "      <td>0</td>\n",
       "      <td>...</td>\n",
       "      <td>0</td>\n",
       "      <td>0</td>\n",
       "      <td>0</td>\n",
       "      <td>0</td>\n",
       "      <td>0</td>\n",
       "      <td>0</td>\n",
       "      <td>0</td>\n",
       "      <td>1</td>\n",
       "      <td>0</td>\n",
       "      <td>0</td>\n",
       "    </tr>\n",
       "    <tr>\n",
       "      <th>2207</th>\n",
       "      <td>62</td>\n",
       "      <td>tt3973612</td>\n",
       "      <td>Stories of Our Lives</td>\n",
       "      <td>2014-12-31</td>\n",
       "      <td>12</td>\n",
       "      <td>2014</td>\n",
       "      <td>Winter</td>\n",
       "      <td>15000</td>\n",
       "      <td>0</td>\n",
       "      <td>0</td>\n",
       "      <td>...</td>\n",
       "      <td>0</td>\n",
       "      <td>0</td>\n",
       "      <td>0</td>\n",
       "      <td>0</td>\n",
       "      <td>0</td>\n",
       "      <td>0</td>\n",
       "      <td>0</td>\n",
       "      <td>0</td>\n",
       "      <td>0</td>\n",
       "      <td>0</td>\n",
       "    </tr>\n",
       "    <tr>\n",
       "      <th>2208</th>\n",
       "      <td>73</td>\n",
       "      <td>tt1880418</td>\n",
       "      <td>Newlyweds</td>\n",
       "      <td>2012-01-13</td>\n",
       "      <td>1</td>\n",
       "      <td>2012</td>\n",
       "      <td>Winter</td>\n",
       "      <td>9000</td>\n",
       "      <td>4584</td>\n",
       "      <td>4584</td>\n",
       "      <td>...</td>\n",
       "      <td>0</td>\n",
       "      <td>0</td>\n",
       "      <td>0</td>\n",
       "      <td>0</td>\n",
       "      <td>0</td>\n",
       "      <td>0</td>\n",
       "      <td>0</td>\n",
       "      <td>0</td>\n",
       "      <td>0</td>\n",
       "      <td>0</td>\n",
       "    </tr>\n",
       "    <tr>\n",
       "      <th>2209</th>\n",
       "      <td>78</td>\n",
       "      <td>tt7837402</td>\n",
       "      <td>Red 11</td>\n",
       "      <td>2018-12-31</td>\n",
       "      <td>12</td>\n",
       "      <td>2018</td>\n",
       "      <td>Winter</td>\n",
       "      <td>7000</td>\n",
       "      <td>0</td>\n",
       "      <td>0</td>\n",
       "      <td>...</td>\n",
       "      <td>0</td>\n",
       "      <td>0</td>\n",
       "      <td>0</td>\n",
       "      <td>1</td>\n",
       "      <td>0</td>\n",
       "      <td>0</td>\n",
       "      <td>0</td>\n",
       "      <td>1</td>\n",
       "      <td>0</td>\n",
       "      <td>0</td>\n",
       "    </tr>\n",
       "    <tr>\n",
       "      <th>2210</th>\n",
       "      <td>81</td>\n",
       "      <td>tt2107644</td>\n",
       "      <td>A Plague So Pleasant</td>\n",
       "      <td>2015-09-29</td>\n",
       "      <td>9</td>\n",
       "      <td>2015</td>\n",
       "      <td>Fall</td>\n",
       "      <td>1400</td>\n",
       "      <td>0</td>\n",
       "      <td>0</td>\n",
       "      <td>...</td>\n",
       "      <td>0</td>\n",
       "      <td>0</td>\n",
       "      <td>0</td>\n",
       "      <td>0</td>\n",
       "      <td>0</td>\n",
       "      <td>0</td>\n",
       "      <td>0</td>\n",
       "      <td>1</td>\n",
       "      <td>0</td>\n",
       "      <td>0</td>\n",
       "    </tr>\n",
       "  </tbody>\n",
       "</table>\n",
       "<p>2203 rows × 44 columns</p>\n",
       "</div>"
      ],
      "text/plain": [
       "      id    movieID                                        movie release_date  \\\n",
       "0      2  tt1298650  Pirates of the Caribbean: On Stranger Tides   2011-05-20   \n",
       "1      3  tt6565702                                 Dark Phoenix   2019-06-07   \n",
       "2      4  tt2395427                      Avengers: Age of Ultron   2015-05-01   \n",
       "3      7  tt4154756                       Avengers: Infinity War   2018-04-27   \n",
       "4      9  tt0974015                               Justice League   2017-11-17   \n",
       "...   ..        ...                                          ...          ...   \n",
       "2206  59  tt1781935                                   The Ridges   2011-11-25   \n",
       "2207  62  tt3973612                         Stories of Our Lives   2014-12-31   \n",
       "2208  73  tt1880418                                    Newlyweds   2012-01-13   \n",
       "2209  78  tt7837402                                       Red 11   2018-12-31   \n",
       "2210  81  tt2107644                         A Plague So Pleasant   2015-09-29   \n",
       "\n",
       "      release_month  release_year  season  production_budget  domestic_gross  \\\n",
       "0                 5          2011  Spring          410600000       241063875   \n",
       "1                 6          2019  Summer          350000000        42762350   \n",
       "2                 5          2015  Spring          330600000       459005868   \n",
       "3                 4          2018  Spring          300000000       678815482   \n",
       "4                11          2017    Fall          300000000       229024295   \n",
       "...             ...           ...     ...                ...             ...   \n",
       "2206             11          2011    Fall              17300               0   \n",
       "2207             12          2014  Winter              15000               0   \n",
       "2208              1          2012  Winter               9000            4584   \n",
       "2209             12          2018  Winter               7000               0   \n",
       "2210              9          2015    Fall               1400               0   \n",
       "\n",
       "      worldwide_gross  ...  News  Reality-TV  Romance  Sci-Fi  Short Sport  \\\n",
       "0          1045663875  ...     0           0        0       0      0     0   \n",
       "1           149762350  ...     0           0        0       1      0     0   \n",
       "2          1403013963  ...     0           0        0       1      0     0   \n",
       "3          2048134200  ...     0           0        0       1      0     0   \n",
       "4           655945209  ...     0           0        0       0      0     0   \n",
       "...               ...  ...   ...         ...      ...     ...    ...   ...   \n",
       "2206                0  ...     0           0        0       0      0     0   \n",
       "2207                0  ...     0           0        0       0      0     0   \n",
       "2208             4584  ...     0           0        0       0      0     0   \n",
       "2209                0  ...     0           0        0       1      0     0   \n",
       "2210                0  ...     0           0        0       0      0     0   \n",
       "\n",
       "      Talk-Show  Thriller  War  Western  \n",
       "0             0         0    0        0  \n",
       "1             0         0    0        0  \n",
       "2             0         0    0        0  \n",
       "3             0         0    0        0  \n",
       "4             0         0    0        0  \n",
       "...         ...       ...  ...      ...  \n",
       "2206          0         1    0        0  \n",
       "2207          0         0    0        0  \n",
       "2208          0         0    0        0  \n",
       "2209          0         1    0        0  \n",
       "2210          0         1    0        0  \n",
       "\n",
       "[2203 rows x 44 columns]"
      ]
     },
<<<<<<< HEAD
     "execution_count": 122,
=======
     "execution_count": 231,
>>>>>>> origin/main
     "metadata": {},
     "output_type": "execute_result"
    }
   ],
   "source": [
    "movie_df"
   ]
  },
  {
   "cell_type": "code",
<<<<<<< HEAD
   "execution_count": 126,
=======
   "execution_count": 233,
>>>>>>> origin/main
   "metadata": {},
   "outputs": [],
   "source": [
    "#movie_df.to_csv(\"movie_df.csv\")"
   ]
  },
  {
   "cell_type": "code",
   "execution_count": 317,
   "metadata": {},
   "outputs": [],
   "source": [
    "Action_movie = movie_df[movie_df[\"Action\"]==1]\n",
    "Action_ROI = Action_movie[\"ROI\"].mean()\n",
    "ROI_dict[\"Action_ROI\"] = Action_ROI"
   ]
  },
  {
   "cell_type": "code",
   "execution_count": 318,
   "metadata": {},
   "outputs": [],
   "source": [
    "Adult_movie = movie_df[movie_df[\"Adult\"]==1]\n",
    "Adult_ROI = Adult_movie[\"ROI\"].mean()\n",
    "ROI_dict[\"Adult_ROI\"] = Adult_ROI"
   ]
  },
  {
   "cell_type": "code",
   "execution_count": 319,
   "metadata": {},
   "outputs": [],
   "source": [
    "Adventure_movie = movie_df[movie_df[\"Adventure\"]==1]\n",
    "Adventure_ROI = Adventure_movie[\"ROI\"].mean()\n",
    "ROI_dict[\"Adventure_ROI\"] = Adventure_ROI"
   ]
  },
  {
   "cell_type": "code",
   "execution_count": 320,
   "metadata": {},
   "outputs": [],
   "source": [
    "Animation_movie = movie_df[movie_df[\"Animation\"]==1]\n",
    "Animation_ROI = Animation_movie[\"ROI\"].mean()\n",
    "ROI_dict[\"Animation_ROI\"] = Animation_ROI"
   ]
  },
  {
   "cell_type": "code",
   "execution_count": 321,
   "metadata": {},
   "outputs": [],
   "source": [
    "Biography_movie = movie_df[movie_df[\"Biography\"]==1]\n",
    "Biography_ROI = Biography_movie[\"ROI\"].mean()\n",
    "ROI_dict[\"Biography_ROI\"] = Biography_ROI"
   ]
  },
  {
   "cell_type": "code",
   "execution_count": 322,
   "metadata": {},
   "outputs": [],
   "source": [
    "Comedy_movie = movie_df[movie_df[\"Comedy\"]==1]\n",
    "Comedy_ROI = Comedy_movie[\"ROI\"].mean()\n",
    "ROI_dict[\"Comedy_ROI\"] = Comedy_ROI"
   ]
  },
  {
   "cell_type": "code",
   "execution_count": 323,
   "metadata": {},
   "outputs": [],
   "source": [
    "Crime_movie = movie_df[movie_df[\"Crime\"]==1]\n",
    "Crime_ROI = Crime_movie[\"ROI\"].mean()\n",
    "ROI_dict[\"Crime_ROI\"] = Crime_ROI"
   ]
  },
  {
   "cell_type": "code",
   "execution_count": 324,
   "metadata": {},
   "outputs": [],
   "source": [
    "Documentary_movie = movie_df[movie_df[\"Documentary\"]==1]\n",
    "Documentary_ROI = Documentary_movie[\"ROI\"].mean()\n",
    "ROI_dict[\"Documentary_ROI\"] = Documentary_ROI"
   ]
  },
  {
   "cell_type": "code",
   "execution_count": 325,
   "metadata": {},
   "outputs": [],
   "source": [
    "Drama_movie = movie_df[movie_df[\"Drama\"]==1]\n",
    "Drama_ROI = Drama_movie[\"ROI\"].mean()\n",
    "ROI_dict[\"Drama_ROI\"] = Drama_ROI"
   ]
  },
  {
   "cell_type": "code",
   "execution_count": 326,
   "metadata": {},
   "outputs": [],
   "source": [
    "Family_movie = movie_df[movie_df[\"Family\"]==1]\n",
    "Family_ROI = Family_movie[\"ROI\"].mean()\n",
    "ROI_dict[\"Family_ROI\"] = Family_ROI"
   ]
  },
  {
   "cell_type": "code",
   "execution_count": 327,
   "metadata": {},
   "outputs": [],
   "source": [
    "Fantasy_movie = movie_df[movie_df[\"Fantasy\"]==1]\n",
    "Fantasy_ROI = Fantasy_movie[\"ROI\"].mean()\n",
    "ROI_dict[\"Fantasy_ROI\"] = Fantasy_ROI"
   ]
  },
  {
   "cell_type": "code",
   "execution_count": 328,
   "metadata": {},
   "outputs": [],
   "source": [
    "FilmNoir_movie = movie_df[movie_df[\"Film-Noir\"]==1]\n",
    "FilmNoir_ROI = FilmNoir_movie[\"ROI\"].mean()\n",
    "ROI_dict[\"FilmNoir_ROI\"] = FilmNoir_ROI"
   ]
  },
  {
   "cell_type": "code",
   "execution_count": 329,
   "metadata": {},
   "outputs": [],
   "source": [
    "GameShow_movie = movie_df[movie_df[\"Game-Show\"]==1]\n",
    "GameShow_ROI = GameShow_movie[\"ROI\"].mean()\n",
    "ROI_dict[\"GameShow_ROI\"] = GameShow_ROI"
   ]
  },
  {
   "cell_type": "code",
   "execution_count": 330,
   "metadata": {},
   "outputs": [],
   "source": [
    "History_movie = movie_df[movie_df[\"History\"]==1]\n",
    "History_ROI = History_movie[\"ROI\"].mean()\n",
    "ROI_dict[\"History_ROI\"] = History_ROI"
   ]
  },
  {
   "cell_type": "code",
   "execution_count": 331,
   "metadata": {},
   "outputs": [],
   "source": [
    "Horror_movie = movie_df[movie_df[\"Horror\"]==1]\n",
    "Horror_ROI = Horror_movie[\"ROI\"].mean()\n",
    "ROI_dict[\"Horror_ROI\"] = Horror_ROI"
   ]
  },
  {
   "cell_type": "code",
   "execution_count": 332,
   "metadata": {},
   "outputs": [],
   "source": [
    "Musical_movie = movie_df[movie_df[\"Musical\"]==1]\n",
    "Musical_ROI = Musical_movie[\"ROI\"].mean()\n",
    "ROI_dict[\"Musical_ROI\"] = Musical_ROI"
   ]
  },
  {
   "cell_type": "code",
   "execution_count": 333,
   "metadata": {},
   "outputs": [],
   "source": [
    "Music_movie = movie_df[movie_df[\"Music\"]==1]\n",
    "Music_ROI = Music_movie[\"ROI\"].mean()\n",
    "ROI_dict[\"Music_ROI\"] = Music_ROI"
   ]
  },
  {
   "cell_type": "code",
   "execution_count": 334,
   "metadata": {},
   "outputs": [],
   "source": [
    "Mystery_movie = movie_df[movie_df[\"Mystery\"]==1]\n",
    "Mystery_ROI = Mystery_movie[\"ROI\"].mean()\n",
    "ROI_dict[\"Mystery_ROI\"] = Mystery_ROI"
   ]
  },
  {
   "cell_type": "code",
   "execution_count": 335,
   "metadata": {},
   "outputs": [],
   "source": [
    "News_movie = movie_df[movie_df[\"News\"]==1]\n",
    "News_ROI = News_movie[\"ROI\"].mean()\n",
    "ROI_dict[\"News_ROI\"] = News_ROI"
   ]
  },
  {
   "cell_type": "code",
   "execution_count": 336,
   "metadata": {},
   "outputs": [],
   "source": [
    "RealityTV_movie = movie_df[movie_df[\"Reality-TV\"]==1]\n",
    "RealityTV_ROI = RealityTV_movie[\"ROI\"].mean()\n",
    "ROI_dict[\"RealityTV_ROI\"] = RealityTV_ROI"
   ]
  },
  {
   "cell_type": "code",
   "execution_count": 337,
   "metadata": {},
   "outputs": [],
   "source": [
    "Romance_movie = movie_df[movie_df[\"Romance\"]==1]\n",
    "Romance_ROI = Romance_movie[\"ROI\"].mean()\n",
    "ROI_dict[\"Romance_ROI\"] = Romance_ROI"
   ]
  },
  {
   "cell_type": "code",
   "execution_count": 338,
   "metadata": {},
   "outputs": [],
   "source": [
    "SciFi_movie = movie_df[movie_df[\"Sci-Fi\"]==1]\n",
    "SciFi_ROI = SciFi_movie[\"ROI\"].mean()\n",
    "ROI_dict[\"SciFi_ROI\"] = SciFi_ROI"
   ]
  },
  {
   "cell_type": "code",
   "execution_count": 339,
   "metadata": {},
   "outputs": [],
   "source": [
    "Short_movie = movie_df[movie_df[\"Short\"]==1]\n",
    "Short_ROI = Short_movie[\"ROI\"].mean()\n",
    "ROI_dict[\"Short_ROI\"] = Short_ROI"
   ]
  },
  {
   "cell_type": "code",
   "execution_count": 340,
   "metadata": {},
   "outputs": [],
   "source": [
    "Sport_movie = movie_df[movie_df[\"Sport\"]==1]\n",
    "Sport_ROI = Sport_movie[\"ROI\"].mean()\n",
    "ROI_dict[\"Sport_ROI\"] = Sport_ROI"
   ]
  },
  {
   "cell_type": "code",
   "execution_count": 341,
   "metadata": {},
   "outputs": [],
   "source": [
    "TalkShow_movie = movie_df[movie_df[\"Talk-Show\"]==1]\n",
    "TalkShow_ROI = TalkShow_movie[\"ROI\"].mean()\n",
    "ROI_dict[\"TalkShow_ROI\"] = TalkShow_ROI"
   ]
  },
  {
   "cell_type": "code",
   "execution_count": 342,
   "metadata": {},
   "outputs": [],
   "source": [
    "Thriller_movie = movie_df[movie_df[\"Thriller\"]==1]\n",
    "Thriller_ROI = Thriller_movie[\"ROI\"].mean()\n",
    "ROI_dict[\"Thriller_ROI\"] = Thriller_ROI"
   ]
  },
  {
   "cell_type": "code",
   "execution_count": 343,
   "metadata": {},
   "outputs": [],
   "source": [
    "War_movie = movie_df[movie_df[\"War\"]==1]\n",
    "War_ROI = War_movie[\"ROI\"].mean()\n",
    "ROI_dict[\"War_ROI\"] = War_ROI"
   ]
  },
  {
   "cell_type": "code",
   "execution_count": 344,
   "metadata": {},
   "outputs": [],
   "source": [
    "Western_movie = movie_df[movie_df[\"Western\"]==1]\n",
    "Western_ROI = Western_movie[\"ROI\"].mean()\n",
    "ROI_dict[\"Western_ROI\"] = Western_ROI"
   ]
  },
  {
   "cell_type": "code",
   "execution_count": 358,
   "metadata": {},
   "outputs": [
    {
     "data": {
      "text/plain": [
       "{'Action_ROI': 1.0895355257590358,\n",
       " 'Adult_ROI': nan,\n",
       " 'Adventure_ROI': 1.135834204209095,\n",
       " 'Animation_ROI': 1.3627686656318818,\n",
       " 'Biography_ROI': 1.517799382968253,\n",
       " 'Comedy_ROI': 1.6001185557258644,\n",
       " 'Crime_ROI': 1.0537652308143441,\n",
       " 'Documentary_ROI': 1.351326504161611,\n",
       " 'Drama_ROI': 1.5513577341142588,\n",
       " 'Family_ROI': 1.2475488079508974,\n",
       " 'Fantasy_ROI': 1.4821266435632883,\n",
       " 'FilmNoir_ROI': nan,\n",
       " 'GameShow_ROI': nan,\n",
       " 'History_ROI': 1.02238508504655,\n",
       " 'Horror_ROI': 3.718423149137916,\n",
       " 'Musical_ROI': 1.1197209542507651,\n",
       " 'Music_ROI': 1.51444388642638,\n",
       " 'Mystery_ROI': 4.2095081141896165,\n",
       " 'News_ROI': 0.3142880114942529,\n",
       " 'RealityTV_ROI': nan,\n",
       " 'Romance_ROI': 1.8648453014046393,\n",
       " 'SciFi_ROI': 1.3906957545617984,\n",
       " 'Short_ROI': nan,\n",
       " 'Sport_ROI': 2.2807259222695944,\n",
       " 'TalkShow_ROI': nan,\n",
       " 'Thriller_ROI': 2.561366120875038,\n",
       " 'War_ROI': 0.510732746435423,\n",
       " 'Western_ROI': 0.6520832766994061}"
      ]
     },
     "execution_count": 358,
     "metadata": {},
     "output_type": "execute_result"
    }
   ],
   "source": [
    "ROI_dict"
   ]
  },
  {
   "cell_type": "code",
   "execution_count": 356,
   "metadata": {},
   "outputs": [],
   "source": [
    "ROI_df = pd.DataFrame([ROI_dict])"
   ]
  },
  {
   "cell_type": "code",
   "execution_count": 357,
   "metadata": {},
   "outputs": [
    {
     "data": {
      "text/html": [
       "<div>\n",
       "<style scoped>\n",
       "    .dataframe tbody tr th:only-of-type {\n",
       "        vertical-align: middle;\n",
       "    }\n",
       "\n",
       "    .dataframe tbody tr th {\n",
       "        vertical-align: top;\n",
       "    }\n",
       "\n",
       "    .dataframe thead th {\n",
       "        text-align: right;\n",
       "    }\n",
       "</style>\n",
       "<table border=\"1\" class=\"dataframe\">\n",
       "  <thead>\n",
       "    <tr style=\"text-align: right;\">\n",
       "      <th></th>\n",
       "      <th>Action_ROI</th>\n",
       "      <th>Adult_ROI</th>\n",
       "      <th>Adventure_ROI</th>\n",
       "      <th>Animation_ROI</th>\n",
       "      <th>Biography_ROI</th>\n",
       "      <th>Comedy_ROI</th>\n",
       "      <th>Crime_ROI</th>\n",
       "      <th>Documentary_ROI</th>\n",
       "      <th>Drama_ROI</th>\n",
       "      <th>Family_ROI</th>\n",
       "      <th>...</th>\n",
       "      <th>News_ROI</th>\n",
       "      <th>RealityTV_ROI</th>\n",
       "      <th>Romance_ROI</th>\n",
       "      <th>SciFi_ROI</th>\n",
       "      <th>Short_ROI</th>\n",
       "      <th>Sport_ROI</th>\n",
       "      <th>TalkShow_ROI</th>\n",
       "      <th>Thriller_ROI</th>\n",
       "      <th>War_ROI</th>\n",
       "      <th>Western_ROI</th>\n",
       "    </tr>\n",
       "  </thead>\n",
       "  <tbody>\n",
       "    <tr>\n",
       "      <th>0</th>\n",
       "      <td>1.089536</td>\n",
       "      <td>NaN</td>\n",
       "      <td>1.135834</td>\n",
       "      <td>1.362769</td>\n",
       "      <td>1.517799</td>\n",
       "      <td>1.600119</td>\n",
       "      <td>1.053765</td>\n",
       "      <td>1.351327</td>\n",
       "      <td>1.551358</td>\n",
       "      <td>1.247549</td>\n",
       "      <td>...</td>\n",
       "      <td>0.314288</td>\n",
       "      <td>NaN</td>\n",
       "      <td>1.864845</td>\n",
       "      <td>1.390696</td>\n",
       "      <td>NaN</td>\n",
       "      <td>2.280726</td>\n",
       "      <td>NaN</td>\n",
       "      <td>2.561366</td>\n",
       "      <td>0.510733</td>\n",
       "      <td>0.652083</td>\n",
       "    </tr>\n",
       "  </tbody>\n",
       "</table>\n",
       "<p>1 rows × 28 columns</p>\n",
       "</div>"
      ],
      "text/plain": [
       "   Action_ROI  Adult_ROI  Adventure_ROI  Animation_ROI  Biography_ROI  \\\n",
       "0    1.089536        NaN       1.135834       1.362769       1.517799   \n",
       "\n",
       "   Comedy_ROI  Crime_ROI  Documentary_ROI  Drama_ROI  Family_ROI  ...  \\\n",
       "0    1.600119   1.053765         1.351327   1.551358    1.247549  ...   \n",
       "\n",
       "   News_ROI  RealityTV_ROI  Romance_ROI  SciFi_ROI  Short_ROI  Sport_ROI  \\\n",
       "0  0.314288            NaN     1.864845   1.390696        NaN   2.280726   \n",
       "\n",
       "   TalkShow_ROI  Thriller_ROI   War_ROI  Western_ROI  \n",
       "0           NaN      2.561366  0.510733     0.652083  \n",
       "\n",
       "[1 rows x 28 columns]"
      ]
     },
     "execution_count": 357,
     "metadata": {},
     "output_type": "execute_result"
    }
   ],
   "source": [
    "ROI_df"
   ]
  },
  {
   "cell_type": "code",
   "execution_count": 399,
   "metadata": {},
   "outputs": [
    {
     "data": {
      "text/plain": [
       "''"
      ]
     },
     "execution_count": 399,
     "metadata": {},
     "output_type": "execute_result"
    },
    {
     "data": {
      "image/png": "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",
      "text/plain": [
       "<Figure size 1080x432 with 1 Axes>"
      ]
     },
     "metadata": {
      "needs_background": "light"
     },
     "output_type": "display_data"
    }
   ],
   "source": [
    "fig, ax = plt.subplots(figsize=(15, 6))\n",
    "\n",
    "ax.bar(\n",
    "    x=genre_list,\n",
    "    height=list(ROI_dict.values()),\n",
    "    color=['lightblue', 'blue', 'gray', 'black'])\n",
    "ax.set_title(\"ROI per Genre\")\n",
    "ax.set_xlabel(\"Genre\")\n",
    "ax.set_ylabel(\"ROI\")\n",
    "plt.xticks(rotation=40)\n",
    ";"
   ]
  },
  {
   "cell_type": "code",
   "execution_count": null,
   "metadata": {},
   "outputs": [],
   "source": []
  },
  {
   "cell_type": "code",
   "execution_count": null,
   "metadata": {},
   "outputs": [],
   "source": []
  },
  {
   "cell_type": "markdown",
   "metadata": {},
   "source": [
    "## Visualizations"
   ]
  }
 ],
 "metadata": {
  "kernelspec": {
   "display_name": "Python (learn-env)",
   "language": "python",
   "name": "learn-env"
  },
  "language_info": {
   "codemirror_mode": {
    "name": "ipython",
    "version": 3
   },
   "file_extension": ".py",
   "mimetype": "text/x-python",
   "name": "python",
   "nbconvert_exporter": "python",
   "pygments_lexer": "ipython3",
   "version": "3.9.18"
  }
 },
 "nbformat": 4,
 "nbformat_minor": 4
}
